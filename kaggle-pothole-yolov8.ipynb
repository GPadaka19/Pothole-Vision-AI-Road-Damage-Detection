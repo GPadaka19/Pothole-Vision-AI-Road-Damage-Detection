{
 "cells": [
  {
   "cell_type": "code",
   "execution_count": 8,
   "metadata": {
    "execution": {
     "iopub.execute_input": "2025-05-17T23:16:14.595224Z",
     "iopub.status.busy": "2025-05-17T23:16:14.594459Z",
     "iopub.status.idle": "2025-05-17T23:16:14.599545Z",
     "shell.execute_reply": "2025-05-17T23:16:14.598722Z",
     "shell.execute_reply.started": "2025-05-17T23:16:14.595198Z"
    },
    "trusted": true
   },
   "outputs": [],
   "source": [
    "# Buat ulang data.yaml di folder kerja Kaggle\n",
    "yaml_content = \"\"\"\n",
    "path: /kaggle/input/pothole/8-dataset-kaggle\n",
    "train: train/images\n",
    "val: val/images\n",
    "test: test/images\n",
    "\n",
    "names:\n",
    "  0: Pothole\n",
    "\"\"\"\n",
    "\n",
    "with open(\"/kaggle/working/data.yaml\", \"w\") as f:\n",
    "    f.write(yaml_content)\n"
   ]
  },
  {
   "cell_type": "code",
   "execution_count": 9,
   "metadata": {
    "_cell_guid": "b1076dfc-b9ad-4769-8c92-a6c4dae69d19",
    "_uuid": "8f2839f25d086af736a60e9eeb907d3b93b6e0e5",
    "execution": {
     "iopub.execute_input": "2025-05-17T23:16:28.586012Z",
     "iopub.status.busy": "2025-05-17T23:16:28.585682Z",
     "iopub.status.idle": "2025-05-18T02:42:10.467572Z",
     "shell.execute_reply": "2025-05-18T02:42:10.466628Z",
     "shell.execute_reply.started": "2025-05-17T23:16:28.585980Z"
    },
    "trusted": true
   },
   "outputs": [
    {
     "name": "stdout",
     "output_type": "stream",
     "text": [
      "Ultralytics 8.3.138 🚀 Python-3.11.11 torch-2.6.0+cu124 CUDA:0 (Tesla T4, 15095MiB)\n",
      "\u001b[34m\u001b[1mengine/trainer: \u001b[0magnostic_nms=False, amp=True, augment=False, auto_augment=randaugment, batch=16, bgr=0.0, box=7.5, cache=False, cfg=None, classes=None, close_mosaic=10, cls=0.5, conf=None, copy_paste=0.0, copy_paste_mode=flip, cos_lr=False, cutmix=0.0, data=/kaggle/working/data.yaml, degrees=0.0, deterministic=True, device=0, dfl=1.5, dnn=False, dropout=0.0, dynamic=False, embed=None, epochs=50, erasing=0.4, exist_ok=False, fliplr=0.5, flipud=0.0, format=torchscript, fraction=1.0, freeze=None, half=False, hsv_h=0.015, hsv_s=0.7, hsv_v=0.4, imgsz=640, int8=False, iou=0.7, keras=False, kobj=1.0, line_width=None, lr0=0.01, lrf=0.01, mask_ratio=4, max_det=300, mixup=0.0, mode=train, model=yolov8m.pt, momentum=0.937, mosaic=1.0, multi_scale=False, name=yolov8m-D40-504, nbs=64, nms=False, opset=None, optimize=False, optimizer=auto, overlap_mask=True, patience=100, perspective=0.0, plots=True, pose=12.0, pretrained=True, profile=False, project=None, rect=False, resume=False, retina_masks=False, save=True, save_conf=False, save_crop=False, save_dir=runs/detect/yolov8m-D40-504, save_frames=False, save_json=False, save_period=-1, save_txt=False, scale=0.5, seed=0, shear=0.0, show=False, show_boxes=True, show_conf=True, show_labels=True, simplify=True, single_cls=False, source=None, split=val, stream_buffer=False, task=detect, time=None, tracker=botsort.yaml, translate=0.1, val=True, verbose=True, vid_stride=1, visualize=False, warmup_bias_lr=0.1, warmup_epochs=3.0, warmup_momentum=0.8, weight_decay=0.0005, workers=8, workspace=None\n",
      "Downloading https://ultralytics.com/assets/Arial.ttf to '/root/.config/Ultralytics/Arial.ttf'...\n"
     ]
    },
    {
     "name": "stderr",
     "output_type": "stream",
     "text": [
      "100%|██████████| 755k/755k [00:00<00:00, 26.4MB/s]\n"
     ]
    },
    {
     "name": "stdout",
     "output_type": "stream",
     "text": [
      "Overriding model.yaml nc=80 with nc=1\n",
      "\n",
      "                   from  n    params  module                                       arguments                     \n",
      "  0                  -1  1      1392  ultralytics.nn.modules.conv.Conv             [3, 48, 3, 2]                 \n",
      "  1                  -1  1     41664  ultralytics.nn.modules.conv.Conv             [48, 96, 3, 2]                \n",
      "  2                  -1  2    111360  ultralytics.nn.modules.block.C2f             [96, 96, 2, True]             \n",
      "  3                  -1  1    166272  ultralytics.nn.modules.conv.Conv             [96, 192, 3, 2]               \n",
      "  4                  -1  4    813312  ultralytics.nn.modules.block.C2f             [192, 192, 4, True]           \n",
      "  5                  -1  1    664320  ultralytics.nn.modules.conv.Conv             [192, 384, 3, 2]              \n",
      "  6                  -1  4   3248640  ultralytics.nn.modules.block.C2f             [384, 384, 4, True]           \n",
      "  7                  -1  1   1991808  ultralytics.nn.modules.conv.Conv             [384, 576, 3, 2]              \n",
      "  8                  -1  2   3985920  ultralytics.nn.modules.block.C2f             [576, 576, 2, True]           \n",
      "  9                  -1  1    831168  ultralytics.nn.modules.block.SPPF            [576, 576, 5]                 \n",
      " 10                  -1  1         0  torch.nn.modules.upsampling.Upsample         [None, 2, 'nearest']          \n",
      " 11             [-1, 6]  1         0  ultralytics.nn.modules.conv.Concat           [1]                           \n",
      " 12                  -1  2   1993728  ultralytics.nn.modules.block.C2f             [960, 384, 2]                 \n",
      " 13                  -1  1         0  torch.nn.modules.upsampling.Upsample         [None, 2, 'nearest']          \n",
      " 14             [-1, 4]  1         0  ultralytics.nn.modules.conv.Concat           [1]                           \n",
      " 15                  -1  2    517632  ultralytics.nn.modules.block.C2f             [576, 192, 2]                 \n",
      " 16                  -1  1    332160  ultralytics.nn.modules.conv.Conv             [192, 192, 3, 2]              \n",
      " 17            [-1, 12]  1         0  ultralytics.nn.modules.conv.Concat           [1]                           \n",
      " 18                  -1  2   1846272  ultralytics.nn.modules.block.C2f             [576, 384, 2]                 \n",
      " 19                  -1  1   1327872  ultralytics.nn.modules.conv.Conv             [384, 384, 3, 2]              \n",
      " 20             [-1, 9]  1         0  ultralytics.nn.modules.conv.Concat           [1]                           \n",
      " 21                  -1  2   4207104  ultralytics.nn.modules.block.C2f             [960, 576, 2]                 \n",
      " 22        [15, 18, 21]  1   3776275  ultralytics.nn.modules.head.Detect           [1, [192, 384, 576]]          \n",
      "Model summary: 169 layers, 25,856,899 parameters, 25,856,883 gradients, 79.1 GFLOPs\n",
      "\n",
      "Transferred 469/475 items from pretrained weights\n",
      "Freezing layer 'model.22.dfl.conv.weight'\n",
      "\u001b[34m\u001b[1mAMP: \u001b[0mrunning Automatic Mixed Precision (AMP) checks...\n",
      "Downloading https://github.com/ultralytics/assets/releases/download/v8.3.0/yolo11n.pt to 'yolo11n.pt'...\n"
     ]
    },
    {
     "name": "stderr",
     "output_type": "stream",
     "text": [
      "100%|██████████| 5.35M/5.35M [00:00<00:00, 91.2MB/s]\n"
     ]
    },
    {
     "name": "stdout",
     "output_type": "stream",
     "text": [
      "\u001b[34m\u001b[1mAMP: \u001b[0mchecks passed ✅\n",
      "\u001b[34m\u001b[1mtrain: \u001b[0mFast image access ✅ (ping: 0.2±0.3 ms, read: 23.0±3.9 MB/s, size: 73.9 KB)\n"
     ]
    },
    {
     "name": "stderr",
     "output_type": "stream",
     "text": [
      "\u001b[34m\u001b[1mtrain: \u001b[0mScanning /kaggle/input/pothole/8-dataset-kaggle/train/labels... 6014 images, 0 backgrounds, 0 corrupt: 100%|██████████| 6014/6014 [00:18<00:00, 328.82it/s]\n"
     ]
    },
    {
     "name": "stdout",
     "output_type": "stream",
     "text": [
      "WARNING ⚠️ \u001b[34m\u001b[1mtrain: \u001b[0mCache directory /kaggle/input/pothole/8-dataset-kaggle/train is not writeable, cache not saved.\n",
      "\u001b[34m\u001b[1malbumentations: \u001b[0mBlur(p=0.01, blur_limit=(3, 7)), MedianBlur(p=0.01, blur_limit=(3, 7)), ToGray(p=0.01, num_output_channels=3, method='weighted_average'), CLAHE(p=0.01, clip_limit=(1.0, 4.0), tile_grid_size=(8, 8))\n",
      "\u001b[34m\u001b[1mval: \u001b[0mFast image access ✅ (ping: 0.0±0.0 ms, read: 23.5±6.8 MB/s, size: 98.9 KB)\n"
     ]
    },
    {
     "name": "stderr",
     "output_type": "stream",
     "text": [
      "\u001b[34m\u001b[1mval: \u001b[0mScanning /kaggle/input/pothole/8-dataset-kaggle/val/labels... 1472 images, 0 backgrounds, 0 corrupt: 100%|██████████| 1472/1472 [00:04<00:00, 325.28it/s]\n"
     ]
    },
    {
     "name": "stdout",
     "output_type": "stream",
     "text": [
      "WARNING ⚠️ \u001b[34m\u001b[1mval: \u001b[0mCache directory /kaggle/input/pothole/8-dataset-kaggle/val is not writeable, cache not saved.\n",
      "Plotting labels to runs/detect/yolov8m-D40-504/labels.jpg... \n",
      "\u001b[34m\u001b[1moptimizer:\u001b[0m 'optimizer=auto' found, ignoring 'lr0=0.01' and 'momentum=0.937' and determining best 'optimizer', 'lr0' and 'momentum' automatically... \n",
      "\u001b[34m\u001b[1moptimizer:\u001b[0m AdamW(lr=0.002, momentum=0.9) with parameter groups 77 weight(decay=0.0), 84 weight(decay=0.0005), 83 bias(decay=0.0)\n",
      "Image sizes 640 train, 640 val\n",
      "Using 4 dataloader workers\n",
      "Logging results to \u001b[1mruns/detect/yolov8m-D40-504\u001b[0m\n",
      "Starting training for 50 epochs...\n",
      "\n",
      "      Epoch    GPU_mem   box_loss   cls_loss   dfl_loss  Instances       Size\n"
     ]
    },
    {
     "name": "stderr",
     "output_type": "stream",
     "text": [
      "       1/50      6.24G      2.091      2.348      1.937         46        640: 100%|██████████| 376/376 [03:29<00:00,  1.80it/s]\n",
      "                 Class     Images  Instances      Box(P          R      mAP50  mAP50-95): 100%|██████████| 46/46 [00:24<00:00,  1.90it/s]\n"
     ]
    },
    {
     "name": "stdout",
     "output_type": "stream",
     "text": [
      "                   all       1472       2951      0.303      0.218       0.18     0.0606\n",
      "\n",
      "      Epoch    GPU_mem   box_loss   cls_loss   dfl_loss  Instances       Size\n"
     ]
    },
    {
     "name": "stderr",
     "output_type": "stream",
     "text": [
      "       2/50      6.33G      2.127       2.34      1.961         39        640: 100%|██████████| 376/376 [03:43<00:00,  1.68it/s]\n",
      "                 Class     Images  Instances      Box(P          R      mAP50  mAP50-95): 100%|██████████| 46/46 [00:22<00:00,  2.01it/s]\n"
     ]
    },
    {
     "name": "stdout",
     "output_type": "stream",
     "text": [
      "                   all       1472       2951      0.274      0.201      0.146     0.0511\n",
      "\n",
      "      Epoch    GPU_mem   box_loss   cls_loss   dfl_loss  Instances       Size\n"
     ]
    },
    {
     "name": "stderr",
     "output_type": "stream",
     "text": [
      "       3/50      6.37G      2.088      2.259       1.92         25        640: 100%|██████████| 376/376 [03:42<00:00,  1.69it/s]\n",
      "                 Class     Images  Instances      Box(P          R      mAP50  mAP50-95): 100%|██████████| 46/46 [00:22<00:00,  2.04it/s]\n"
     ]
    },
    {
     "name": "stdout",
     "output_type": "stream",
     "text": [
      "                   all       1472       2951      0.386       0.31      0.297       0.12\n",
      "\n",
      "      Epoch    GPU_mem   box_loss   cls_loss   dfl_loss  Instances       Size\n"
     ]
    },
    {
     "name": "stderr",
     "output_type": "stream",
     "text": [
      "       4/50      6.36G      2.034      2.166      1.854         35        640: 100%|██████████| 376/376 [03:42<00:00,  1.69it/s]\n",
      "                 Class     Images  Instances      Box(P          R      mAP50  mAP50-95): 100%|██████████| 46/46 [00:22<00:00,  2.03it/s]\n"
     ]
    },
    {
     "name": "stdout",
     "output_type": "stream",
     "text": [
      "                   all       1472       2951      0.447      0.349      0.339      0.136\n",
      "\n",
      "      Epoch    GPU_mem   box_loss   cls_loss   dfl_loss  Instances       Size\n"
     ]
    },
    {
     "name": "stderr",
     "output_type": "stream",
     "text": [
      "       5/50      6.37G       1.98      2.054      1.809         63        640: 100%|██████████| 376/376 [03:41<00:00,  1.70it/s]\n",
      "                 Class     Images  Instances      Box(P          R      mAP50  mAP50-95): 100%|██████████| 46/46 [00:22<00:00,  2.04it/s]\n"
     ]
    },
    {
     "name": "stdout",
     "output_type": "stream",
     "text": [
      "                   all       1472       2951      0.505      0.381      0.409      0.174\n",
      "\n",
      "      Epoch    GPU_mem   box_loss   cls_loss   dfl_loss  Instances       Size\n"
     ]
    },
    {
     "name": "stderr",
     "output_type": "stream",
     "text": [
      "       6/50      6.42G      1.962      1.978      1.798         37        640: 100%|██████████| 376/376 [03:41<00:00,  1.70it/s]\n",
      "                 Class     Images  Instances      Box(P          R      mAP50  mAP50-95): 100%|██████████| 46/46 [00:22<00:00,  2.05it/s]"
     ]
    },
    {
     "name": "stdout",
     "output_type": "stream",
     "text": [
      "                   all       1472       2951      0.477        0.4      0.408      0.175\n"
     ]
    },
    {
     "name": "stderr",
     "output_type": "stream",
     "text": [
      "\n"
     ]
    },
    {
     "name": "stdout",
     "output_type": "stream",
     "text": [
      "\n",
      "      Epoch    GPU_mem   box_loss   cls_loss   dfl_loss  Instances       Size\n"
     ]
    },
    {
     "name": "stderr",
     "output_type": "stream",
     "text": [
      "       7/50      6.38G      1.914      1.892      1.749         50        640: 100%|██████████| 376/376 [03:41<00:00,  1.69it/s]\n",
      "                 Class     Images  Instances      Box(P          R      mAP50  mAP50-95): 100%|██████████| 46/46 [00:22<00:00,  2.06it/s]\n"
     ]
    },
    {
     "name": "stdout",
     "output_type": "stream",
     "text": [
      "                   all       1472       2951      0.554      0.405      0.445      0.195\n",
      "\n",
      "      Epoch    GPU_mem   box_loss   cls_loss   dfl_loss  Instances       Size\n"
     ]
    },
    {
     "name": "stderr",
     "output_type": "stream",
     "text": [
      "       8/50      6.39G      1.901      1.864      1.753         62        640: 100%|██████████| 376/376 [03:41<00:00,  1.70it/s]\n",
      "                 Class     Images  Instances      Box(P          R      mAP50  mAP50-95): 100%|██████████| 46/46 [00:22<00:00,  2.05it/s]\n"
     ]
    },
    {
     "name": "stdout",
     "output_type": "stream",
     "text": [
      "                   all       1472       2951      0.564      0.461      0.495      0.223\n",
      "\n",
      "      Epoch    GPU_mem   box_loss   cls_loss   dfl_loss  Instances       Size\n"
     ]
    },
    {
     "name": "stderr",
     "output_type": "stream",
     "text": [
      "       9/50      6.41G       1.87      1.812      1.733         52        640: 100%|██████████| 376/376 [03:41<00:00,  1.70it/s]\n",
      "                 Class     Images  Instances      Box(P          R      mAP50  mAP50-95): 100%|██████████| 46/46 [00:22<00:00,  2.04it/s]\n"
     ]
    },
    {
     "name": "stdout",
     "output_type": "stream",
     "text": [
      "                   all       1472       2951      0.556       0.43      0.466      0.205\n",
      "\n",
      "      Epoch    GPU_mem   box_loss   cls_loss   dfl_loss  Instances       Size\n"
     ]
    },
    {
     "name": "stderr",
     "output_type": "stream",
     "text": [
      "      10/50      6.38G      1.867      1.775      1.727         67        640: 100%|██████████| 376/376 [03:41<00:00,  1.70it/s]\n",
      "                 Class     Images  Instances      Box(P          R      mAP50  mAP50-95): 100%|██████████| 46/46 [00:22<00:00,  2.06it/s]"
     ]
    },
    {
     "name": "stdout",
     "output_type": "stream",
     "text": [
      "                   all       1472       2951      0.556      0.456      0.487      0.225\n"
     ]
    },
    {
     "name": "stderr",
     "output_type": "stream",
     "text": [
      "\n"
     ]
    },
    {
     "name": "stdout",
     "output_type": "stream",
     "text": [
      "\n",
      "      Epoch    GPU_mem   box_loss   cls_loss   dfl_loss  Instances       Size\n"
     ]
    },
    {
     "name": "stderr",
     "output_type": "stream",
     "text": [
      "      11/50      6.37G      1.845      1.721      1.712         23        640: 100%|██████████| 376/376 [03:41<00:00,  1.70it/s]\n",
      "                 Class     Images  Instances      Box(P          R      mAP50  mAP50-95): 100%|██████████| 46/46 [00:22<00:00,  2.05it/s]"
     ]
    },
    {
     "name": "stdout",
     "output_type": "stream",
     "text": [
      "                   all       1472       2951      0.596       0.48      0.523      0.231\n"
     ]
    },
    {
     "name": "stderr",
     "output_type": "stream",
     "text": [
      "\n"
     ]
    },
    {
     "name": "stdout",
     "output_type": "stream",
     "text": [
      "\n",
      "      Epoch    GPU_mem   box_loss   cls_loss   dfl_loss  Instances       Size\n"
     ]
    },
    {
     "name": "stderr",
     "output_type": "stream",
     "text": [
      "      12/50      6.38G      1.829      1.687      1.704         43        640: 100%|██████████| 376/376 [03:41<00:00,  1.70it/s]\n",
      "                 Class     Images  Instances      Box(P          R      mAP50  mAP50-95): 100%|██████████| 46/46 [00:22<00:00,  2.03it/s]"
     ]
    },
    {
     "name": "stdout",
     "output_type": "stream",
     "text": [
      "                   all       1472       2951      0.548      0.468      0.493      0.227\n"
     ]
    },
    {
     "name": "stderr",
     "output_type": "stream",
     "text": [
      "\n"
     ]
    },
    {
     "name": "stdout",
     "output_type": "stream",
     "text": [
      "\n",
      "      Epoch    GPU_mem   box_loss   cls_loss   dfl_loss  Instances       Size\n"
     ]
    },
    {
     "name": "stderr",
     "output_type": "stream",
     "text": [
      "      13/50      6.37G      1.811       1.68      1.682         54        640: 100%|██████████| 376/376 [03:41<00:00,  1.70it/s]\n",
      "                 Class     Images  Instances      Box(P          R      mAP50  mAP50-95): 100%|██████████| 46/46 [00:22<00:00,  2.05it/s]"
     ]
    },
    {
     "name": "stdout",
     "output_type": "stream",
     "text": [
      "                   all       1472       2951      0.599      0.479       0.53      0.238\n"
     ]
    },
    {
     "name": "stderr",
     "output_type": "stream",
     "text": [
      "\n"
     ]
    },
    {
     "name": "stdout",
     "output_type": "stream",
     "text": [
      "\n",
      "      Epoch    GPU_mem   box_loss   cls_loss   dfl_loss  Instances       Size\n"
     ]
    },
    {
     "name": "stderr",
     "output_type": "stream",
     "text": [
      "      14/50      6.38G      1.803      1.642       1.68         72        640: 100%|██████████| 376/376 [03:41<00:00,  1.70it/s]\n",
      "                 Class     Images  Instances      Box(P          R      mAP50  mAP50-95): 100%|██████████| 46/46 [00:22<00:00,  2.06it/s]"
     ]
    },
    {
     "name": "stdout",
     "output_type": "stream",
     "text": [
      "                   all       1472       2951      0.628      0.519      0.576      0.267\n"
     ]
    },
    {
     "name": "stderr",
     "output_type": "stream",
     "text": [
      "\n"
     ]
    },
    {
     "name": "stdout",
     "output_type": "stream",
     "text": [
      "\n",
      "      Epoch    GPU_mem   box_loss   cls_loss   dfl_loss  Instances       Size\n"
     ]
    },
    {
     "name": "stderr",
     "output_type": "stream",
     "text": [
      "      15/50      6.38G      1.801      1.637      1.673         31        640: 100%|██████████| 376/376 [03:42<00:00,  1.69it/s]\n",
      "                 Class     Images  Instances      Box(P          R      mAP50  mAP50-95): 100%|██████████| 46/46 [00:22<00:00,  2.05it/s]"
     ]
    },
    {
     "name": "stdout",
     "output_type": "stream",
     "text": [
      "                   all       1472       2951      0.653      0.513      0.588      0.272\n"
     ]
    },
    {
     "name": "stderr",
     "output_type": "stream",
     "text": [
      "\n"
     ]
    },
    {
     "name": "stdout",
     "output_type": "stream",
     "text": [
      "\n",
      "      Epoch    GPU_mem   box_loss   cls_loss   dfl_loss  Instances       Size\n"
     ]
    },
    {
     "name": "stderr",
     "output_type": "stream",
     "text": [
      "      16/50      6.39G      1.788      1.593      1.663         34        640: 100%|██████████| 376/376 [03:42<00:00,  1.69it/s]\n",
      "                 Class     Images  Instances      Box(P          R      mAP50  mAP50-95): 100%|██████████| 46/46 [00:22<00:00,  2.05it/s]"
     ]
    },
    {
     "name": "stdout",
     "output_type": "stream",
     "text": [
      "                   all       1472       2951       0.66      0.506      0.581      0.276\n"
     ]
    },
    {
     "name": "stderr",
     "output_type": "stream",
     "text": [
      "\n"
     ]
    },
    {
     "name": "stdout",
     "output_type": "stream",
     "text": [
      "\n",
      "      Epoch    GPU_mem   box_loss   cls_loss   dfl_loss  Instances       Size\n"
     ]
    },
    {
     "name": "stderr",
     "output_type": "stream",
     "text": [
      "      17/50      6.41G       1.76      1.541      1.636         44        640: 100%|██████████| 376/376 [03:41<00:00,  1.69it/s]\n",
      "                 Class     Images  Instances      Box(P          R      mAP50  mAP50-95): 100%|██████████| 46/46 [00:22<00:00,  2.07it/s]"
     ]
    },
    {
     "name": "stdout",
     "output_type": "stream",
     "text": [
      "                   all       1472       2951      0.669      0.547      0.611      0.287\n"
     ]
    },
    {
     "name": "stderr",
     "output_type": "stream",
     "text": [
      "\n"
     ]
    },
    {
     "name": "stdout",
     "output_type": "stream",
     "text": [
      "\n",
      "      Epoch    GPU_mem   box_loss   cls_loss   dfl_loss  Instances       Size\n"
     ]
    },
    {
     "name": "stderr",
     "output_type": "stream",
     "text": [
      "      18/50      6.37G      1.755      1.526      1.654         33        640: 100%|██████████| 376/376 [03:41<00:00,  1.70it/s]\n",
      "                 Class     Images  Instances      Box(P          R      mAP50  mAP50-95): 100%|██████████| 46/46 [00:22<00:00,  2.06it/s]"
     ]
    },
    {
     "name": "stdout",
     "output_type": "stream",
     "text": [
      "                   all       1472       2951      0.654      0.523      0.594      0.282\n"
     ]
    },
    {
     "name": "stderr",
     "output_type": "stream",
     "text": [
      "\n"
     ]
    },
    {
     "name": "stdout",
     "output_type": "stream",
     "text": [
      "\n",
      "      Epoch    GPU_mem   box_loss   cls_loss   dfl_loss  Instances       Size\n"
     ]
    },
    {
     "name": "stderr",
     "output_type": "stream",
     "text": [
      "      19/50      6.37G      1.745      1.509      1.641         34        640: 100%|██████████| 376/376 [03:42<00:00,  1.69it/s]\n",
      "                 Class     Images  Instances      Box(P          R      mAP50  mAP50-95): 100%|██████████| 46/46 [00:22<00:00,  2.05it/s]"
     ]
    },
    {
     "name": "stdout",
     "output_type": "stream",
     "text": [
      "                   all       1472       2951      0.646      0.537      0.605      0.288\n"
     ]
    },
    {
     "name": "stderr",
     "output_type": "stream",
     "text": [
      "\n"
     ]
    },
    {
     "name": "stdout",
     "output_type": "stream",
     "text": [
      "\n",
      "      Epoch    GPU_mem   box_loss   cls_loss   dfl_loss  Instances       Size\n"
     ]
    },
    {
     "name": "stderr",
     "output_type": "stream",
     "text": [
      "      20/50      6.38G      1.737      1.501      1.631         47        640: 100%|██████████| 376/376 [03:41<00:00,  1.70it/s]\n",
      "                 Class     Images  Instances      Box(P          R      mAP50  mAP50-95): 100%|██████████| 46/46 [00:22<00:00,  2.06it/s]"
     ]
    },
    {
     "name": "stdout",
     "output_type": "stream",
     "text": [
      "                   all       1472       2951      0.657      0.536      0.597      0.281\n"
     ]
    },
    {
     "name": "stderr",
     "output_type": "stream",
     "text": [
      "\n"
     ]
    },
    {
     "name": "stdout",
     "output_type": "stream",
     "text": [
      "\n",
      "      Epoch    GPU_mem   box_loss   cls_loss   dfl_loss  Instances       Size\n"
     ]
    },
    {
     "name": "stderr",
     "output_type": "stream",
     "text": [
      "      21/50      6.39G      1.727      1.472      1.631         41        640: 100%|██████████| 376/376 [03:42<00:00,  1.69it/s]\n",
      "                 Class     Images  Instances      Box(P          R      mAP50  mAP50-95): 100%|██████████| 46/46 [00:22<00:00,  2.06it/s]"
     ]
    },
    {
     "name": "stdout",
     "output_type": "stream",
     "text": [
      "                   all       1472       2951      0.694      0.574      0.646      0.314\n"
     ]
    },
    {
     "name": "stderr",
     "output_type": "stream",
     "text": [
      "\n"
     ]
    },
    {
     "name": "stdout",
     "output_type": "stream",
     "text": [
      "\n",
      "      Epoch    GPU_mem   box_loss   cls_loss   dfl_loss  Instances       Size\n"
     ]
    },
    {
     "name": "stderr",
     "output_type": "stream",
     "text": [
      "      22/50      6.38G      1.709      1.443      1.617         53        640: 100%|██████████| 376/376 [03:41<00:00,  1.69it/s]\n",
      "                 Class     Images  Instances      Box(P          R      mAP50  mAP50-95): 100%|██████████| 46/46 [00:22<00:00,  2.07it/s]"
     ]
    },
    {
     "name": "stdout",
     "output_type": "stream",
     "text": [
      "                   all       1472       2951      0.691      0.562      0.633      0.296\n"
     ]
    },
    {
     "name": "stderr",
     "output_type": "stream",
     "text": [
      "\n"
     ]
    },
    {
     "name": "stdout",
     "output_type": "stream",
     "text": [
      "\n",
      "      Epoch    GPU_mem   box_loss   cls_loss   dfl_loss  Instances       Size\n"
     ]
    },
    {
     "name": "stderr",
     "output_type": "stream",
     "text": [
      "      23/50      6.39G      1.713      1.438      1.614         36        640: 100%|██████████| 376/376 [03:41<00:00,  1.70it/s]\n",
      "                 Class     Images  Instances      Box(P          R      mAP50  mAP50-95): 100%|██████████| 46/46 [00:22<00:00,  2.05it/s]"
     ]
    },
    {
     "name": "stdout",
     "output_type": "stream",
     "text": [
      "                   all       1472       2951        0.7      0.588      0.659      0.318\n"
     ]
    },
    {
     "name": "stderr",
     "output_type": "stream",
     "text": [
      "\n"
     ]
    },
    {
     "name": "stdout",
     "output_type": "stream",
     "text": [
      "\n",
      "      Epoch    GPU_mem   box_loss   cls_loss   dfl_loss  Instances       Size\n"
     ]
    },
    {
     "name": "stderr",
     "output_type": "stream",
     "text": [
      "      24/50      6.38G      1.684      1.405      1.591         46        640: 100%|██████████| 376/376 [03:41<00:00,  1.70it/s]\n",
      "                 Class     Images  Instances      Box(P          R      mAP50  mAP50-95): 100%|██████████| 46/46 [00:22<00:00,  2.06it/s]"
     ]
    },
    {
     "name": "stdout",
     "output_type": "stream",
     "text": [
      "                   all       1472       2951      0.673      0.584      0.651      0.316\n"
     ]
    },
    {
     "name": "stderr",
     "output_type": "stream",
     "text": [
      "\n"
     ]
    },
    {
     "name": "stdout",
     "output_type": "stream",
     "text": [
      "\n",
      "      Epoch    GPU_mem   box_loss   cls_loss   dfl_loss  Instances       Size\n"
     ]
    },
    {
     "name": "stderr",
     "output_type": "stream",
     "text": [
      "      25/50      6.39G      1.699      1.402      1.604         55        640: 100%|██████████| 376/376 [03:41<00:00,  1.70it/s]\n",
      "                 Class     Images  Instances      Box(P          R      mAP50  mAP50-95): 100%|██████████| 46/46 [00:22<00:00,  2.05it/s]"
     ]
    },
    {
     "name": "stdout",
     "output_type": "stream",
     "text": [
      "                   all       1472       2951      0.731      0.559      0.659      0.323\n"
     ]
    },
    {
     "name": "stderr",
     "output_type": "stream",
     "text": [
      "\n"
     ]
    },
    {
     "name": "stdout",
     "output_type": "stream",
     "text": [
      "\n",
      "      Epoch    GPU_mem   box_loss   cls_loss   dfl_loss  Instances       Size\n"
     ]
    },
    {
     "name": "stderr",
     "output_type": "stream",
     "text": [
      "      26/50      6.36G      1.695      1.395      1.597         63        640: 100%|██████████| 376/376 [03:41<00:00,  1.70it/s]\n",
      "                 Class     Images  Instances      Box(P          R      mAP50  mAP50-95): 100%|██████████| 46/46 [00:22<00:00,  2.06it/s]"
     ]
    },
    {
     "name": "stdout",
     "output_type": "stream",
     "text": [
      "                   all       1472       2951      0.707      0.578      0.653       0.32\n"
     ]
    },
    {
     "name": "stderr",
     "output_type": "stream",
     "text": [
      "\n"
     ]
    },
    {
     "name": "stdout",
     "output_type": "stream",
     "text": [
      "\n",
      "      Epoch    GPU_mem   box_loss   cls_loss   dfl_loss  Instances       Size\n"
     ]
    },
    {
     "name": "stderr",
     "output_type": "stream",
     "text": [
      "      27/50      6.38G      1.677      1.354      1.588         55        640: 100%|██████████| 376/376 [03:42<00:00,  1.69it/s]\n",
      "                 Class     Images  Instances      Box(P          R      mAP50  mAP50-95): 100%|██████████| 46/46 [00:22<00:00,  2.06it/s]"
     ]
    },
    {
     "name": "stdout",
     "output_type": "stream",
     "text": [
      "                   all       1472       2951      0.722      0.585      0.672      0.329\n"
     ]
    },
    {
     "name": "stderr",
     "output_type": "stream",
     "text": [
      "\n"
     ]
    },
    {
     "name": "stdout",
     "output_type": "stream",
     "text": [
      "\n",
      "      Epoch    GPU_mem   box_loss   cls_loss   dfl_loss  Instances       Size\n"
     ]
    },
    {
     "name": "stderr",
     "output_type": "stream",
     "text": [
      "      28/50       6.4G      1.652      1.345      1.573         52        640: 100%|██████████| 376/376 [03:41<00:00,  1.70it/s]\n",
      "                 Class     Images  Instances      Box(P          R      mAP50  mAP50-95): 100%|██████████| 46/46 [00:22<00:00,  2.07it/s]"
     ]
    },
    {
     "name": "stdout",
     "output_type": "stream",
     "text": [
      "                   all       1472       2951      0.704      0.598      0.673      0.332\n"
     ]
    },
    {
     "name": "stderr",
     "output_type": "stream",
     "text": [
      "\n"
     ]
    },
    {
     "name": "stdout",
     "output_type": "stream",
     "text": [
      "\n",
      "      Epoch    GPU_mem   box_loss   cls_loss   dfl_loss  Instances       Size\n"
     ]
    },
    {
     "name": "stderr",
     "output_type": "stream",
     "text": [
      "      29/50      6.38G      1.636      1.293      1.562         52        640: 100%|██████████| 376/376 [03:41<00:00,  1.69it/s]\n",
      "                 Class     Images  Instances      Box(P          R      mAP50  mAP50-95): 100%|██████████| 46/46 [00:22<00:00,  2.06it/s]"
     ]
    },
    {
     "name": "stdout",
     "output_type": "stream",
     "text": [
      "                   all       1472       2951      0.736        0.6      0.691      0.341\n"
     ]
    },
    {
     "name": "stderr",
     "output_type": "stream",
     "text": [
      "\n"
     ]
    },
    {
     "name": "stdout",
     "output_type": "stream",
     "text": [
      "\n",
      "      Epoch    GPU_mem   box_loss   cls_loss   dfl_loss  Instances       Size\n"
     ]
    },
    {
     "name": "stderr",
     "output_type": "stream",
     "text": [
      "      30/50      6.38G      1.636      1.277      1.557         47        640: 100%|██████████| 376/376 [03:41<00:00,  1.70it/s]\n",
      "                 Class     Images  Instances      Box(P          R      mAP50  mAP50-95): 100%|██████████| 46/46 [00:22<00:00,  2.07it/s]"
     ]
    },
    {
     "name": "stdout",
     "output_type": "stream",
     "text": [
      "                   all       1472       2951       0.72      0.603      0.685      0.344\n"
     ]
    },
    {
     "name": "stderr",
     "output_type": "stream",
     "text": [
      "\n"
     ]
    },
    {
     "name": "stdout",
     "output_type": "stream",
     "text": [
      "\n",
      "      Epoch    GPU_mem   box_loss   cls_loss   dfl_loss  Instances       Size\n"
     ]
    },
    {
     "name": "stderr",
     "output_type": "stream",
     "text": [
      "      31/50      6.37G      1.617      1.255      1.549         44        640: 100%|██████████| 376/376 [03:41<00:00,  1.70it/s]\n",
      "                 Class     Images  Instances      Box(P          R      mAP50  mAP50-95): 100%|██████████| 46/46 [00:22<00:00,  2.06it/s]"
     ]
    },
    {
     "name": "stdout",
     "output_type": "stream",
     "text": [
      "                   all       1472       2951      0.724      0.604      0.688      0.343\n"
     ]
    },
    {
     "name": "stderr",
     "output_type": "stream",
     "text": [
      "\n"
     ]
    },
    {
     "name": "stdout",
     "output_type": "stream",
     "text": [
      "\n",
      "      Epoch    GPU_mem   box_loss   cls_loss   dfl_loss  Instances       Size\n"
     ]
    },
    {
     "name": "stderr",
     "output_type": "stream",
     "text": [
      "      32/50      6.38G      1.624      1.256      1.555         30        640: 100%|██████████| 376/376 [03:41<00:00,  1.70it/s]\n",
      "                 Class     Images  Instances      Box(P          R      mAP50  mAP50-95): 100%|██████████| 46/46 [00:22<00:00,  2.05it/s]"
     ]
    },
    {
     "name": "stdout",
     "output_type": "stream",
     "text": [
      "                   all       1472       2951      0.733      0.622      0.695      0.346\n"
     ]
    },
    {
     "name": "stderr",
     "output_type": "stream",
     "text": [
      "\n"
     ]
    },
    {
     "name": "stdout",
     "output_type": "stream",
     "text": [
      "\n",
      "      Epoch    GPU_mem   box_loss   cls_loss   dfl_loss  Instances       Size\n"
     ]
    },
    {
     "name": "stderr",
     "output_type": "stream",
     "text": [
      "      33/50       6.4G      1.592      1.239      1.535         52        640: 100%|██████████| 376/376 [03:41<00:00,  1.70it/s]\n",
      "                 Class     Images  Instances      Box(P          R      mAP50  mAP50-95): 100%|██████████| 46/46 [00:22<00:00,  2.06it/s]"
     ]
    },
    {
     "name": "stdout",
     "output_type": "stream",
     "text": [
      "                   all       1472       2951      0.717      0.614      0.689      0.346\n"
     ]
    },
    {
     "name": "stderr",
     "output_type": "stream",
     "text": [
      "\n"
     ]
    },
    {
     "name": "stdout",
     "output_type": "stream",
     "text": [
      "\n",
      "      Epoch    GPU_mem   box_loss   cls_loss   dfl_loss  Instances       Size\n"
     ]
    },
    {
     "name": "stderr",
     "output_type": "stream",
     "text": [
      "      34/50      6.37G        1.6      1.213      1.525         78        640: 100%|██████████| 376/376 [03:41<00:00,  1.70it/s]\n",
      "                 Class     Images  Instances      Box(P          R      mAP50  mAP50-95): 100%|██████████| 46/46 [00:22<00:00,  2.04it/s]"
     ]
    },
    {
     "name": "stdout",
     "output_type": "stream",
     "text": [
      "                   all       1472       2951       0.73      0.625      0.704      0.352\n"
     ]
    },
    {
     "name": "stderr",
     "output_type": "stream",
     "text": [
      "\n"
     ]
    },
    {
     "name": "stdout",
     "output_type": "stream",
     "text": [
      "\n",
      "      Epoch    GPU_mem   box_loss   cls_loss   dfl_loss  Instances       Size\n"
     ]
    },
    {
     "name": "stderr",
     "output_type": "stream",
     "text": [
      "      35/50       6.4G      1.573      1.201      1.516         44        640: 100%|██████████| 376/376 [03:40<00:00,  1.70it/s]\n",
      "                 Class     Images  Instances      Box(P          R      mAP50  mAP50-95): 100%|██████████| 46/46 [00:22<00:00,  2.07it/s]"
     ]
    },
    {
     "name": "stdout",
     "output_type": "stream",
     "text": [
      "                   all       1472       2951      0.734      0.623      0.699      0.354\n"
     ]
    },
    {
     "name": "stderr",
     "output_type": "stream",
     "text": [
      "\n"
     ]
    },
    {
     "name": "stdout",
     "output_type": "stream",
     "text": [
      "\n",
      "      Epoch    GPU_mem   box_loss   cls_loss   dfl_loss  Instances       Size\n"
     ]
    },
    {
     "name": "stderr",
     "output_type": "stream",
     "text": [
      "      36/50      6.39G      1.573      1.185      1.511         56        640: 100%|██████████| 376/376 [03:41<00:00,  1.70it/s]\n",
      "                 Class     Images  Instances      Box(P          R      mAP50  mAP50-95): 100%|██████████| 46/46 [00:22<00:00,  2.07it/s]"
     ]
    },
    {
     "name": "stdout",
     "output_type": "stream",
     "text": [
      "                   all       1472       2951      0.739      0.627       0.71      0.356\n"
     ]
    },
    {
     "name": "stderr",
     "output_type": "stream",
     "text": [
      "\n"
     ]
    },
    {
     "name": "stdout",
     "output_type": "stream",
     "text": [
      "\n",
      "      Epoch    GPU_mem   box_loss   cls_loss   dfl_loss  Instances       Size\n"
     ]
    },
    {
     "name": "stderr",
     "output_type": "stream",
     "text": [
      "      37/50      6.38G      1.567      1.192       1.51         46        640: 100%|██████████| 376/376 [03:41<00:00,  1.69it/s]\n",
      "                 Class     Images  Instances      Box(P          R      mAP50  mAP50-95): 100%|██████████| 46/46 [00:22<00:00,  2.07it/s]"
     ]
    },
    {
     "name": "stdout",
     "output_type": "stream",
     "text": [
      "                   all       1472       2951      0.742      0.636       0.71      0.359\n"
     ]
    },
    {
     "name": "stderr",
     "output_type": "stream",
     "text": [
      "\n"
     ]
    },
    {
     "name": "stdout",
     "output_type": "stream",
     "text": [
      "\n",
      "      Epoch    GPU_mem   box_loss   cls_loss   dfl_loss  Instances       Size\n"
     ]
    },
    {
     "name": "stderr",
     "output_type": "stream",
     "text": [
      "      38/50      6.35G      1.531      1.146      1.492         32        640: 100%|██████████| 376/376 [03:42<00:00,  1.69it/s]\n",
      "                 Class     Images  Instances      Box(P          R      mAP50  mAP50-95): 100%|██████████| 46/46 [00:22<00:00,  2.07it/s]"
     ]
    },
    {
     "name": "stdout",
     "output_type": "stream",
     "text": [
      "                   all       1472       2951      0.749      0.634      0.714      0.362\n"
     ]
    },
    {
     "name": "stderr",
     "output_type": "stream",
     "text": [
      "\n"
     ]
    },
    {
     "name": "stdout",
     "output_type": "stream",
     "text": [
      "\n",
      "      Epoch    GPU_mem   box_loss   cls_loss   dfl_loss  Instances       Size\n"
     ]
    },
    {
     "name": "stderr",
     "output_type": "stream",
     "text": [
      "      39/50      6.39G      1.538      1.143      1.499         34        640: 100%|██████████| 376/376 [03:41<00:00,  1.70it/s]\n",
      "                 Class     Images  Instances      Box(P          R      mAP50  mAP50-95): 100%|██████████| 46/46 [00:22<00:00,  2.06it/s]"
     ]
    },
    {
     "name": "stdout",
     "output_type": "stream",
     "text": [
      "                   all       1472       2951      0.743      0.644      0.718       0.36\n"
     ]
    },
    {
     "name": "stderr",
     "output_type": "stream",
     "text": [
      "\n"
     ]
    },
    {
     "name": "stdout",
     "output_type": "stream",
     "text": [
      "\n",
      "      Epoch    GPU_mem   box_loss   cls_loss   dfl_loss  Instances       Size\n"
     ]
    },
    {
     "name": "stderr",
     "output_type": "stream",
     "text": [
      "      40/50      6.36G      1.527      1.121      1.486         51        640: 100%|██████████| 376/376 [03:41<00:00,  1.70it/s]\n",
      "                 Class     Images  Instances      Box(P          R      mAP50  mAP50-95): 100%|██████████| 46/46 [00:22<00:00,  2.06it/s]"
     ]
    },
    {
     "name": "stdout",
     "output_type": "stream",
     "text": [
      "                   all       1472       2951      0.754      0.643       0.72      0.368\n"
     ]
    },
    {
     "name": "stderr",
     "output_type": "stream",
     "text": [
      "\n"
     ]
    },
    {
     "name": "stdout",
     "output_type": "stream",
     "text": [
      "Closing dataloader mosaic\n",
      "\u001b[34m\u001b[1malbumentations: \u001b[0mBlur(p=0.01, blur_limit=(3, 7)), MedianBlur(p=0.01, blur_limit=(3, 7)), ToGray(p=0.01, num_output_channels=3, method='weighted_average'), CLAHE(p=0.01, clip_limit=(1.0, 4.0), tile_grid_size=(8, 8))\n",
      "\n",
      "      Epoch    GPU_mem   box_loss   cls_loss   dfl_loss  Instances       Size\n"
     ]
    },
    {
     "name": "stderr",
     "output_type": "stream",
     "text": [
      "      41/50      6.37G       1.54      1.062      1.519         19        640: 100%|██████████| 376/376 [03:41<00:00,  1.70it/s]\n",
      "                 Class     Images  Instances      Box(P          R      mAP50  mAP50-95): 100%|██████████| 46/46 [00:22<00:00,  2.06it/s]"
     ]
    },
    {
     "name": "stdout",
     "output_type": "stream",
     "text": [
      "                   all       1472       2951      0.759      0.632      0.719       0.37\n"
     ]
    },
    {
     "name": "stderr",
     "output_type": "stream",
     "text": [
      "\n"
     ]
    },
    {
     "name": "stdout",
     "output_type": "stream",
     "text": [
      "\n",
      "      Epoch    GPU_mem   box_loss   cls_loss   dfl_loss  Instances       Size\n"
     ]
    },
    {
     "name": "stderr",
     "output_type": "stream",
     "text": [
      "      42/50      6.35G      1.507      1.018      1.499         21        640: 100%|██████████| 376/376 [03:40<00:00,  1.71it/s]\n",
      "                 Class     Images  Instances      Box(P          R      mAP50  mAP50-95): 100%|██████████| 46/46 [00:22<00:00,  2.08it/s]"
     ]
    },
    {
     "name": "stdout",
     "output_type": "stream",
     "text": [
      "                   all       1472       2951      0.738      0.655       0.73      0.375\n"
     ]
    },
    {
     "name": "stderr",
     "output_type": "stream",
     "text": [
      "\n"
     ]
    },
    {
     "name": "stdout",
     "output_type": "stream",
     "text": [
      "\n",
      "      Epoch    GPU_mem   box_loss   cls_loss   dfl_loss  Instances       Size\n"
     ]
    },
    {
     "name": "stderr",
     "output_type": "stream",
     "text": [
      "      43/50      6.34G      1.501      1.001      1.497         25        640: 100%|██████████| 376/376 [03:41<00:00,  1.70it/s]\n",
      "                 Class     Images  Instances      Box(P          R      mAP50  mAP50-95): 100%|██████████| 46/46 [00:22<00:00,  2.06it/s]"
     ]
    },
    {
     "name": "stdout",
     "output_type": "stream",
     "text": [
      "                   all       1472       2951      0.747      0.645      0.725      0.373\n"
     ]
    },
    {
     "name": "stderr",
     "output_type": "stream",
     "text": [
      "\n"
     ]
    },
    {
     "name": "stdout",
     "output_type": "stream",
     "text": [
      "\n",
      "      Epoch    GPU_mem   box_loss   cls_loss   dfl_loss  Instances       Size\n"
     ]
    },
    {
     "name": "stderr",
     "output_type": "stream",
     "text": [
      "      44/50      6.38G      1.475     0.9769      1.473         32        640: 100%|██████████| 376/376 [03:40<00:00,  1.70it/s]\n",
      "                 Class     Images  Instances      Box(P          R      mAP50  mAP50-95): 100%|██████████| 46/46 [00:22<00:00,  2.06it/s]"
     ]
    },
    {
     "name": "stdout",
     "output_type": "stream",
     "text": [
      "                   all       1472       2951      0.758      0.653      0.732      0.378\n"
     ]
    },
    {
     "name": "stderr",
     "output_type": "stream",
     "text": [
      "\n"
     ]
    },
    {
     "name": "stdout",
     "output_type": "stream",
     "text": [
      "\n",
      "      Epoch    GPU_mem   box_loss   cls_loss   dfl_loss  Instances       Size\n"
     ]
    },
    {
     "name": "stderr",
     "output_type": "stream",
     "text": [
      "      45/50      6.36G      1.459     0.9515       1.46         34        640: 100%|██████████| 376/376 [03:40<00:00,  1.70it/s]\n",
      "                 Class     Images  Instances      Box(P          R      mAP50  mAP50-95): 100%|██████████| 46/46 [00:22<00:00,  2.07it/s]"
     ]
    },
    {
     "name": "stdout",
     "output_type": "stream",
     "text": [
      "                   all       1472       2951      0.763      0.657      0.741      0.381\n"
     ]
    },
    {
     "name": "stderr",
     "output_type": "stream",
     "text": [
      "\n"
     ]
    },
    {
     "name": "stdout",
     "output_type": "stream",
     "text": [
      "\n",
      "      Epoch    GPU_mem   box_loss   cls_loss   dfl_loss  Instances       Size\n"
     ]
    },
    {
     "name": "stderr",
     "output_type": "stream",
     "text": [
      "      46/50      6.38G       1.44     0.9426      1.454         37        640: 100%|██████████| 376/376 [03:40<00:00,  1.70it/s]\n",
      "                 Class     Images  Instances      Box(P          R      mAP50  mAP50-95): 100%|██████████| 46/46 [00:22<00:00,  2.06it/s]"
     ]
    },
    {
     "name": "stdout",
     "output_type": "stream",
     "text": [
      "                   all       1472       2951       0.79      0.644      0.739      0.384\n"
     ]
    },
    {
     "name": "stderr",
     "output_type": "stream",
     "text": [
      "\n"
     ]
    },
    {
     "name": "stdout",
     "output_type": "stream",
     "text": [
      "\n",
      "      Epoch    GPU_mem   box_loss   cls_loss   dfl_loss  Instances       Size\n"
     ]
    },
    {
     "name": "stderr",
     "output_type": "stream",
     "text": [
      "      47/50      6.36G      1.425     0.9203      1.446         25        640: 100%|██████████| 376/376 [03:40<00:00,  1.70it/s]\n",
      "                 Class     Images  Instances      Box(P          R      mAP50  mAP50-95): 100%|██████████| 46/46 [00:22<00:00,  2.06it/s]"
     ]
    },
    {
     "name": "stdout",
     "output_type": "stream",
     "text": [
      "                   all       1472       2951       0.79      0.642      0.743      0.384\n"
     ]
    },
    {
     "name": "stderr",
     "output_type": "stream",
     "text": [
      "\n"
     ]
    },
    {
     "name": "stdout",
     "output_type": "stream",
     "text": [
      "\n",
      "      Epoch    GPU_mem   box_loss   cls_loss   dfl_loss  Instances       Size\n"
     ]
    },
    {
     "name": "stderr",
     "output_type": "stream",
     "text": [
      "      48/50      6.39G      1.407     0.9005      1.432         21        640: 100%|██████████| 376/376 [03:40<00:00,  1.70it/s]\n",
      "                 Class     Images  Instances      Box(P          R      mAP50  mAP50-95): 100%|██████████| 46/46 [00:22<00:00,  2.08it/s]"
     ]
    },
    {
     "name": "stdout",
     "output_type": "stream",
     "text": [
      "                   all       1472       2951      0.779      0.654      0.744      0.387\n"
     ]
    },
    {
     "name": "stderr",
     "output_type": "stream",
     "text": [
      "\n"
     ]
    },
    {
     "name": "stdout",
     "output_type": "stream",
     "text": [
      "\n",
      "      Epoch    GPU_mem   box_loss   cls_loss   dfl_loss  Instances       Size\n"
     ]
    },
    {
     "name": "stderr",
     "output_type": "stream",
     "text": [
      "      49/50      6.35G      1.389     0.8835      1.417         22        640: 100%|██████████| 376/376 [03:40<00:00,  1.70it/s]\n",
      "                 Class     Images  Instances      Box(P          R      mAP50  mAP50-95): 100%|██████████| 46/46 [00:22<00:00,  2.06it/s]"
     ]
    },
    {
     "name": "stdout",
     "output_type": "stream",
     "text": [
      "                   all       1472       2951      0.778      0.655      0.745      0.389\n"
     ]
    },
    {
     "name": "stderr",
     "output_type": "stream",
     "text": [
      "\n"
     ]
    },
    {
     "name": "stdout",
     "output_type": "stream",
     "text": [
      "\n",
      "      Epoch    GPU_mem   box_loss   cls_loss   dfl_loss  Instances       Size\n"
     ]
    },
    {
     "name": "stderr",
     "output_type": "stream",
     "text": [
      "      50/50      6.36G      1.385     0.8717      1.414         35        640: 100%|██████████| 376/376 [03:40<00:00,  1.70it/s]\n",
      "                 Class     Images  Instances      Box(P          R      mAP50  mAP50-95): 100%|██████████| 46/46 [00:22<00:00,  2.06it/s]"
     ]
    },
    {
     "name": "stdout",
     "output_type": "stream",
     "text": [
      "                   all       1472       2951       0.79      0.648      0.745      0.389\n"
     ]
    },
    {
     "name": "stderr",
     "output_type": "stream",
     "text": [
      "\n"
     ]
    },
    {
     "name": "stdout",
     "output_type": "stream",
     "text": [
      "\n",
      "50 epochs completed in 3.405 hours.\n",
      "Optimizer stripped from runs/detect/yolov8m-D40-504/weights/last.pt, 52.0MB\n",
      "Optimizer stripped from runs/detect/yolov8m-D40-504/weights/best.pt, 52.0MB\n",
      "\n",
      "Validating runs/detect/yolov8m-D40-504/weights/best.pt...\n",
      "Ultralytics 8.3.138 🚀 Python-3.11.11 torch-2.6.0+cu124 CUDA:0 (Tesla T4, 15095MiB)\n",
      "Model summary (fused): 92 layers, 25,840,339 parameters, 0 gradients, 78.7 GFLOPs\n"
     ]
    },
    {
     "name": "stderr",
     "output_type": "stream",
     "text": [
      "                 Class     Images  Instances      Box(P          R      mAP50  mAP50-95): 100%|██████████| 46/46 [00:23<00:00,  1.98it/s]\n"
     ]
    },
    {
     "name": "stdout",
     "output_type": "stream",
     "text": [
      "                   all       1472       2951      0.791      0.649      0.745      0.389\n"
     ]
    },
    {
     "name": "stderr",
     "output_type": "stream",
     "text": [
      "/usr/local/lib/python3.11/dist-packages/matplotlib/colors.py:721: RuntimeWarning: invalid value encountered in less\n",
      "  xa[xa < 0] = -1\n",
      "/usr/local/lib/python3.11/dist-packages/matplotlib/colors.py:721: RuntimeWarning: invalid value encountered in less\n",
      "  xa[xa < 0] = -1\n"
     ]
    },
    {
     "name": "stdout",
     "output_type": "stream",
     "text": [
      "Speed: 0.2ms preprocess, 11.7ms inference, 0.0ms loss, 0.9ms postprocess per image\n",
      "Results saved to \u001b[1mruns/detect/yolov8m-D40-504\u001b[0m\n"
     ]
    },
    {
     "data": {
      "text/plain": [
       "ultralytics.utils.metrics.DetMetrics object with attributes:\n",
       "\n",
       "ap_class_index: array([0])\n",
       "box: ultralytics.utils.metrics.Metric object\n",
       "confusion_matrix: <ultralytics.utils.metrics.ConfusionMatrix object at 0x7f987d3ec0d0>\n",
       "curves: ['Precision-Recall(B)', 'F1-Confidence(B)', 'Precision-Confidence(B)', 'Recall-Confidence(B)']\n",
       "curves_results: [[array([          0,    0.001001,    0.002002,    0.003003,    0.004004,    0.005005,    0.006006,    0.007007,    0.008008,    0.009009,     0.01001,    0.011011,    0.012012,    0.013013,    0.014014,    0.015015,    0.016016,    0.017017,    0.018018,    0.019019,     0.02002,    0.021021,    0.022022,    0.023023,\n",
       "          0.024024,    0.025025,    0.026026,    0.027027,    0.028028,    0.029029,     0.03003,    0.031031,    0.032032,    0.033033,    0.034034,    0.035035,    0.036036,    0.037037,    0.038038,    0.039039,     0.04004,    0.041041,    0.042042,    0.043043,    0.044044,    0.045045,    0.046046,    0.047047,\n",
       "          0.048048,    0.049049,     0.05005,    0.051051,    0.052052,    0.053053,    0.054054,    0.055055,    0.056056,    0.057057,    0.058058,    0.059059,     0.06006,    0.061061,    0.062062,    0.063063,    0.064064,    0.065065,    0.066066,    0.067067,    0.068068,    0.069069,     0.07007,    0.071071,\n",
       "          0.072072,    0.073073,    0.074074,    0.075075,    0.076076,    0.077077,    0.078078,    0.079079,     0.08008,    0.081081,    0.082082,    0.083083,    0.084084,    0.085085,    0.086086,    0.087087,    0.088088,    0.089089,     0.09009,    0.091091,    0.092092,    0.093093,    0.094094,    0.095095,\n",
       "          0.096096,    0.097097,    0.098098,    0.099099,      0.1001,      0.1011,      0.1021,      0.1031,      0.1041,     0.10511,     0.10611,     0.10711,     0.10811,     0.10911,     0.11011,     0.11111,     0.11211,     0.11311,     0.11411,     0.11512,     0.11612,     0.11712,     0.11812,     0.11912,\n",
       "           0.12012,     0.12112,     0.12212,     0.12312,     0.12412,     0.12513,     0.12613,     0.12713,     0.12813,     0.12913,     0.13013,     0.13113,     0.13213,     0.13313,     0.13413,     0.13514,     0.13614,     0.13714,     0.13814,     0.13914,     0.14014,     0.14114,     0.14214,     0.14314,\n",
       "           0.14414,     0.14515,     0.14615,     0.14715,     0.14815,     0.14915,     0.15015,     0.15115,     0.15215,     0.15315,     0.15415,     0.15516,     0.15616,     0.15716,     0.15816,     0.15916,     0.16016,     0.16116,     0.16216,     0.16316,     0.16416,     0.16517,     0.16617,     0.16717,\n",
       "           0.16817,     0.16917,     0.17017,     0.17117,     0.17217,     0.17317,     0.17417,     0.17518,     0.17618,     0.17718,     0.17818,     0.17918,     0.18018,     0.18118,     0.18218,     0.18318,     0.18418,     0.18519,     0.18619,     0.18719,     0.18819,     0.18919,     0.19019,     0.19119,\n",
       "           0.19219,     0.19319,     0.19419,      0.1952,      0.1962,      0.1972,      0.1982,      0.1992,      0.2002,      0.2012,      0.2022,      0.2032,      0.2042,     0.20521,     0.20621,     0.20721,     0.20821,     0.20921,     0.21021,     0.21121,     0.21221,     0.21321,     0.21421,     0.21522,\n",
       "           0.21622,     0.21722,     0.21822,     0.21922,     0.22022,     0.22122,     0.22222,     0.22322,     0.22422,     0.22523,     0.22623,     0.22723,     0.22823,     0.22923,     0.23023,     0.23123,     0.23223,     0.23323,     0.23423,     0.23524,     0.23624,     0.23724,     0.23824,     0.23924,\n",
       "           0.24024,     0.24124,     0.24224,     0.24324,     0.24424,     0.24525,     0.24625,     0.24725,     0.24825,     0.24925,     0.25025,     0.25125,     0.25225,     0.25325,     0.25425,     0.25526,     0.25626,     0.25726,     0.25826,     0.25926,     0.26026,     0.26126,     0.26226,     0.26326,\n",
       "           0.26426,     0.26527,     0.26627,     0.26727,     0.26827,     0.26927,     0.27027,     0.27127,     0.27227,     0.27327,     0.27427,     0.27528,     0.27628,     0.27728,     0.27828,     0.27928,     0.28028,     0.28128,     0.28228,     0.28328,     0.28428,     0.28529,     0.28629,     0.28729,\n",
       "           0.28829,     0.28929,     0.29029,     0.29129,     0.29229,     0.29329,     0.29429,      0.2953,      0.2963,      0.2973,      0.2983,      0.2993,      0.3003,      0.3013,      0.3023,      0.3033,      0.3043,     0.30531,     0.30631,     0.30731,     0.30831,     0.30931,     0.31031,     0.31131,\n",
       "           0.31231,     0.31331,     0.31431,     0.31532,     0.31632,     0.31732,     0.31832,     0.31932,     0.32032,     0.32132,     0.32232,     0.32332,     0.32432,     0.32533,     0.32633,     0.32733,     0.32833,     0.32933,     0.33033,     0.33133,     0.33233,     0.33333,     0.33433,     0.33534,\n",
       "           0.33634,     0.33734,     0.33834,     0.33934,     0.34034,     0.34134,     0.34234,     0.34334,     0.34434,     0.34535,     0.34635,     0.34735,     0.34835,     0.34935,     0.35035,     0.35135,     0.35235,     0.35335,     0.35435,     0.35536,     0.35636,     0.35736,     0.35836,     0.35936,\n",
       "           0.36036,     0.36136,     0.36236,     0.36336,     0.36436,     0.36537,     0.36637,     0.36737,     0.36837,     0.36937,     0.37037,     0.37137,     0.37237,     0.37337,     0.37437,     0.37538,     0.37638,     0.37738,     0.37838,     0.37938,     0.38038,     0.38138,     0.38238,     0.38338,\n",
       "           0.38438,     0.38539,     0.38639,     0.38739,     0.38839,     0.38939,     0.39039,     0.39139,     0.39239,     0.39339,     0.39439,      0.3954,      0.3964,      0.3974,      0.3984,      0.3994,      0.4004,      0.4014,      0.4024,      0.4034,      0.4044,     0.40541,     0.40641,     0.40741,\n",
       "           0.40841,     0.40941,     0.41041,     0.41141,     0.41241,     0.41341,     0.41441,     0.41542,     0.41642,     0.41742,     0.41842,     0.41942,     0.42042,     0.42142,     0.42242,     0.42342,     0.42442,     0.42543,     0.42643,     0.42743,     0.42843,     0.42943,     0.43043,     0.43143,\n",
       "           0.43243,     0.43343,     0.43443,     0.43544,     0.43644,     0.43744,     0.43844,     0.43944,     0.44044,     0.44144,     0.44244,     0.44344,     0.44444,     0.44545,     0.44645,     0.44745,     0.44845,     0.44945,     0.45045,     0.45145,     0.45245,     0.45345,     0.45445,     0.45546,\n",
       "           0.45646,     0.45746,     0.45846,     0.45946,     0.46046,     0.46146,     0.46246,     0.46346,     0.46446,     0.46547,     0.46647,     0.46747,     0.46847,     0.46947,     0.47047,     0.47147,     0.47247,     0.47347,     0.47447,     0.47548,     0.47648,     0.47748,     0.47848,     0.47948,\n",
       "           0.48048,     0.48148,     0.48248,     0.48348,     0.48448,     0.48549,     0.48649,     0.48749,     0.48849,     0.48949,     0.49049,     0.49149,     0.49249,     0.49349,     0.49449,      0.4955,      0.4965,      0.4975,      0.4985,      0.4995,      0.5005,      0.5015,      0.5025,      0.5035,\n",
       "            0.5045,     0.50551,     0.50651,     0.50751,     0.50851,     0.50951,     0.51051,     0.51151,     0.51251,     0.51351,     0.51451,     0.51552,     0.51652,     0.51752,     0.51852,     0.51952,     0.52052,     0.52152,     0.52252,     0.52352,     0.52452,     0.52553,     0.52653,     0.52753,\n",
       "           0.52853,     0.52953,     0.53053,     0.53153,     0.53253,     0.53353,     0.53453,     0.53554,     0.53654,     0.53754,     0.53854,     0.53954,     0.54054,     0.54154,     0.54254,     0.54354,     0.54454,     0.54555,     0.54655,     0.54755,     0.54855,     0.54955,     0.55055,     0.55155,\n",
       "           0.55255,     0.55355,     0.55455,     0.55556,     0.55656,     0.55756,     0.55856,     0.55956,     0.56056,     0.56156,     0.56256,     0.56356,     0.56456,     0.56557,     0.56657,     0.56757,     0.56857,     0.56957,     0.57057,     0.57157,     0.57257,     0.57357,     0.57457,     0.57558,\n",
       "           0.57658,     0.57758,     0.57858,     0.57958,     0.58058,     0.58158,     0.58258,     0.58358,     0.58458,     0.58559,     0.58659,     0.58759,     0.58859,     0.58959,     0.59059,     0.59159,     0.59259,     0.59359,     0.59459,      0.5956,      0.5966,      0.5976,      0.5986,      0.5996,\n",
       "            0.6006,      0.6016,      0.6026,      0.6036,      0.6046,     0.60561,     0.60661,     0.60761,     0.60861,     0.60961,     0.61061,     0.61161,     0.61261,     0.61361,     0.61461,     0.61562,     0.61662,     0.61762,     0.61862,     0.61962,     0.62062,     0.62162,     0.62262,     0.62362,\n",
       "           0.62462,     0.62563,     0.62663,     0.62763,     0.62863,     0.62963,     0.63063,     0.63163,     0.63263,     0.63363,     0.63463,     0.63564,     0.63664,     0.63764,     0.63864,     0.63964,     0.64064,     0.64164,     0.64264,     0.64364,     0.64464,     0.64565,     0.64665,     0.64765,\n",
       "           0.64865,     0.64965,     0.65065,     0.65165,     0.65265,     0.65365,     0.65465,     0.65566,     0.65666,     0.65766,     0.65866,     0.65966,     0.66066,     0.66166,     0.66266,     0.66366,     0.66466,     0.66567,     0.66667,     0.66767,     0.66867,     0.66967,     0.67067,     0.67167,\n",
       "           0.67267,     0.67367,     0.67467,     0.67568,     0.67668,     0.67768,     0.67868,     0.67968,     0.68068,     0.68168,     0.68268,     0.68368,     0.68468,     0.68569,     0.68669,     0.68769,     0.68869,     0.68969,     0.69069,     0.69169,     0.69269,     0.69369,     0.69469,      0.6957,\n",
       "            0.6967,      0.6977,      0.6987,      0.6997,      0.7007,      0.7017,      0.7027,      0.7037,      0.7047,     0.70571,     0.70671,     0.70771,     0.70871,     0.70971,     0.71071,     0.71171,     0.71271,     0.71371,     0.71471,     0.71572,     0.71672,     0.71772,     0.71872,     0.71972,\n",
       "           0.72072,     0.72172,     0.72272,     0.72372,     0.72472,     0.72573,     0.72673,     0.72773,     0.72873,     0.72973,     0.73073,     0.73173,     0.73273,     0.73373,     0.73473,     0.73574,     0.73674,     0.73774,     0.73874,     0.73974,     0.74074,     0.74174,     0.74274,     0.74374,\n",
       "           0.74474,     0.74575,     0.74675,     0.74775,     0.74875,     0.74975,     0.75075,     0.75175,     0.75275,     0.75375,     0.75475,     0.75576,     0.75676,     0.75776,     0.75876,     0.75976,     0.76076,     0.76176,     0.76276,     0.76376,     0.76476,     0.76577,     0.76677,     0.76777,\n",
       "           0.76877,     0.76977,     0.77077,     0.77177,     0.77277,     0.77377,     0.77477,     0.77578,     0.77678,     0.77778,     0.77878,     0.77978,     0.78078,     0.78178,     0.78278,     0.78378,     0.78478,     0.78579,     0.78679,     0.78779,     0.78879,     0.78979,     0.79079,     0.79179,\n",
       "           0.79279,     0.79379,     0.79479,      0.7958,      0.7968,      0.7978,      0.7988,      0.7998,      0.8008,      0.8018,      0.8028,      0.8038,      0.8048,     0.80581,     0.80681,     0.80781,     0.80881,     0.80981,     0.81081,     0.81181,     0.81281,     0.81381,     0.81481,     0.81582,\n",
       "           0.81682,     0.81782,     0.81882,     0.81982,     0.82082,     0.82182,     0.82282,     0.82382,     0.82482,     0.82583,     0.82683,     0.82783,     0.82883,     0.82983,     0.83083,     0.83183,     0.83283,     0.83383,     0.83483,     0.83584,     0.83684,     0.83784,     0.83884,     0.83984,\n",
       "           0.84084,     0.84184,     0.84284,     0.84384,     0.84484,     0.84585,     0.84685,     0.84785,     0.84885,     0.84985,     0.85085,     0.85185,     0.85285,     0.85385,     0.85485,     0.85586,     0.85686,     0.85786,     0.85886,     0.85986,     0.86086,     0.86186,     0.86286,     0.86386,\n",
       "           0.86486,     0.86587,     0.86687,     0.86787,     0.86887,     0.86987,     0.87087,     0.87187,     0.87287,     0.87387,     0.87487,     0.87588,     0.87688,     0.87788,     0.87888,     0.87988,     0.88088,     0.88188,     0.88288,     0.88388,     0.88488,     0.88589,     0.88689,     0.88789,\n",
       "           0.88889,     0.88989,     0.89089,     0.89189,     0.89289,     0.89389,     0.89489,      0.8959,      0.8969,      0.8979,      0.8989,      0.8999,      0.9009,      0.9019,      0.9029,      0.9039,      0.9049,     0.90591,     0.90691,     0.90791,     0.90891,     0.90991,     0.91091,     0.91191,\n",
       "           0.91291,     0.91391,     0.91491,     0.91592,     0.91692,     0.91792,     0.91892,     0.91992,     0.92092,     0.92192,     0.92292,     0.92392,     0.92492,     0.92593,     0.92693,     0.92793,     0.92893,     0.92993,     0.93093,     0.93193,     0.93293,     0.93393,     0.93493,     0.93594,\n",
       "           0.93694,     0.93794,     0.93894,     0.93994,     0.94094,     0.94194,     0.94294,     0.94394,     0.94494,     0.94595,     0.94695,     0.94795,     0.94895,     0.94995,     0.95095,     0.95195,     0.95295,     0.95395,     0.95495,     0.95596,     0.95696,     0.95796,     0.95896,     0.95996,\n",
       "           0.96096,     0.96196,     0.96296,     0.96396,     0.96496,     0.96597,     0.96697,     0.96797,     0.96897,     0.96997,     0.97097,     0.97197,     0.97297,     0.97397,     0.97497,     0.97598,     0.97698,     0.97798,     0.97898,     0.97998,     0.98098,     0.98198,     0.98298,     0.98398,\n",
       "           0.98498,     0.98599,     0.98699,     0.98799,     0.98899,     0.98999,     0.99099,     0.99199,     0.99299,     0.99399,     0.99499,       0.996,       0.997,       0.998,       0.999,           1]), array([[          1,           1,           1,           1,           1,           1,           1,           1,           1,           1,           1,           1,           1,           1,           1,           1,           1,           1,           1,           1,           1,           1,           1,\n",
       "                  1,           1,           1,           1,           1,           1,           1,           1,           1,           1,           1,           1,           1,           1,           1,           1,           1,           1,           1,           1,           1,           1,           1,\n",
       "                  1,           1,           1,           1,           1,           1,           1,           1,           1,           1,           1,           1,           1,           1,           1,           1,           1,           1,           1,           1,           1,           1,           1,\n",
       "                  1,           1,           1,           1,           1,           1,           1,           1,           1,     0.99764,     0.99764,     0.99764,     0.99764,     0.99764,     0.99764,     0.99764,     0.99764,     0.99764,     0.99764,     0.99764,     0.99764,     0.99764,     0.99764,\n",
       "            0.99764,     0.99764,     0.99764,     0.99764,     0.99764,     0.99764,     0.99764,     0.99764,     0.99764,     0.99764,     0.99764,     0.99764,     0.99764,     0.99764,     0.99764,     0.99764,     0.99764,     0.99764,     0.99764,     0.99764,     0.99764,     0.99764,     0.99764,\n",
       "            0.99764,     0.99764,     0.99764,     0.99764,     0.99764,     0.99764,     0.99764,     0.99764,     0.99764,     0.99764,     0.99764,     0.99764,     0.99764,     0.99764,     0.99764,     0.99764,     0.99764,     0.99764,     0.99764,     0.99764,     0.99764,     0.99764,     0.99764,\n",
       "            0.99764,     0.99764,     0.99764,     0.99764,     0.99764,     0.99764,     0.99537,     0.99537,     0.99351,     0.99351,     0.99351,     0.99351,     0.99351,     0.99351,     0.99351,     0.99351,     0.99351,     0.99351,     0.99177,     0.99177,     0.99177,     0.99177,     0.99177,\n",
       "            0.99177,     0.99177,     0.99177,     0.99033,     0.99033,     0.99033,     0.99033,     0.99033,     0.99033,     0.99033,     0.99033,     0.99033,     0.99033,     0.98859,     0.98859,     0.98859,      0.9872,      0.9872,      0.9872,      0.9872,      0.9872,      0.9872,     0.98566,\n",
       "            0.98566,     0.98566,     0.98566,     0.98387,     0.98387,     0.98387,     0.98387,     0.98387,     0.98387,     0.98387,     0.98387,     0.98387,     0.98387,     0.98387,     0.98387,     0.98387,     0.98387,     0.98387,     0.98387,     0.98387,     0.98387,     0.98387,     0.98387,\n",
       "            0.98237,     0.98092,     0.98027,     0.98027,     0.98027,     0.98027,     0.98027,     0.98027,     0.98027,     0.98027,     0.98027,     0.98027,     0.97974,     0.97974,     0.97974,     0.97974,     0.97974,     0.97974,     0.97974,     0.97974,     0.97974,     0.97974,     0.97974,\n",
       "            0.97914,     0.97914,     0.97914,     0.97914,     0.97914,     0.97914,     0.97914,     0.97914,     0.97914,     0.97864,     0.97864,     0.97864,     0.97864,     0.97864,     0.97864,     0.97864,     0.97864,     0.97864,     0.97864,      0.9776,      0.9776,      0.9776,     0.97692,\n",
       "            0.97692,     0.97692,     0.97692,     0.97692,     0.97692,     0.97689,     0.97689,     0.97689,     0.97689,     0.97689,     0.97689,     0.97689,     0.97689,     0.97689,     0.97689,     0.97689,     0.97689,     0.97689,     0.97689,     0.97579,     0.97482,     0.97482,     0.97482,\n",
       "            0.97378,     0.97183,     0.97183,     0.97183,     0.97183,       0.971,       0.971,       0.971,     0.97098,     0.97098,     0.97098,     0.97098,     0.97098,     0.97098,     0.97098,     0.97098,     0.97098,     0.97098,     0.97098,     0.97046,     0.97046,     0.97046,     0.97046,\n",
       "            0.97046,     0.97046,     0.96855,     0.96855,     0.96771,     0.96771,     0.96744,     0.96744,     0.96744,     0.96744,     0.96744,     0.96744,     0.96744,     0.96667,     0.96667,     0.96667,     0.96626,     0.96626,     0.96626,     0.96626,     0.96626,     0.96538,     0.96486,\n",
       "            0.96486,     0.96486,     0.96486,     0.96486,     0.96396,     0.96394,     0.96394,     0.96394,     0.96394,     0.96394,     0.96394,     0.96394,     0.96394,     0.96325,     0.96325,     0.96325,     0.96154,     0.96077,        0.96,        0.96,     0.95947,     0.95947,     0.95947,\n",
       "            0.95865,      0.9579,     0.95709,     0.95708,     0.95708,     0.95708,     0.95708,     0.95708,     0.95708,     0.95708,      0.9564,      0.9564,     0.95566,     0.95526,     0.95526,     0.95526,     0.95526,     0.95526,     0.95526,     0.95526,     0.95526,     0.95526,     0.95526,\n",
       "            0.95526,     0.95451,     0.95407,     0.95407,     0.95407,     0.95291,     0.95291,     0.95291,     0.95291,     0.95234,     0.95234,     0.95182,     0.95182,     0.95182,     0.94958,     0.94912,     0.94912,     0.94912,     0.94846,     0.94754,     0.94754,     0.94754,     0.94754,\n",
       "            0.94754,     0.94733,     0.94733,     0.94733,     0.94733,     0.94686,     0.94686,     0.94686,      0.9448,     0.94413,     0.94352,     0.94211,      0.9415,     0.94104,     0.94104,      0.9397,     0.93944,     0.93944,     0.93944,       0.939,       0.939,      0.9386,      0.9386,\n",
       "             0.9386,     0.93803,     0.93683,     0.93636,     0.93636,     0.93619,     0.93619,     0.93619,     0.93619,     0.93507,     0.93507,     0.93477,     0.93477,     0.93412,     0.93363,     0.93328,     0.93328,     0.93275,     0.93241,     0.93241,     0.93241,     0.93146,     0.93146,\n",
       "            0.93146,     0.93108,     0.93108,     0.93057,     0.93005,     0.92893,     0.92711,     0.92666,      0.9254,     0.92536,     0.92536,     0.92536,     0.92536,     0.92536,     0.92536,     0.92536,     0.92536,     0.92488,     0.92445,     0.92392,     0.92376,     0.92376,     0.92376,\n",
       "            0.92329,     0.92277,     0.92277,     0.92277,     0.92277,     0.92277,     0.92236,     0.92184,     0.92083,     0.92003,     0.92003,     0.92003,     0.91759,     0.91759,     0.91759,     0.91759,     0.91759,     0.91759,     0.91759,     0.91704,     0.91677,     0.91677,     0.91597,\n",
       "            0.91597,     0.91587,     0.91587,     0.91587,     0.91387,     0.91387,     0.91356,     0.91356,     0.91321,     0.91274,     0.91239,     0.91193,     0.91158,     0.91135,     0.91135,      0.9101,      0.9101,      0.9101,     0.90998,     0.90998,     0.90998,      0.9087,      0.9087,\n",
       "            0.90832,     0.90793,     0.90755,     0.90728,     0.90728,     0.90664,     0.90664,     0.90584,     0.90584,     0.90504,     0.90504,     0.90426,     0.90389,     0.90342,     0.90317,     0.90287,     0.90287,     0.90285,     0.90285,     0.90285,     0.90209,     0.90209,     0.90029,\n",
       "            0.89954,     0.89954,     0.89954,     0.89954,     0.89954,     0.89915,     0.89677,     0.89566,     0.89566,     0.89483,     0.89418,     0.89418,      0.8938,     0.89049,      0.8892,     0.88748,     0.88663,     0.88626,     0.88451,     0.88418,     0.88418,     0.88418,     0.88238,\n",
       "            0.88194,     0.88194,     0.88153,     0.88077,     0.87955,     0.87846,     0.87806,     0.87785,     0.87566,     0.87553,     0.87467,     0.87402,     0.87232,      0.8711,      0.8711,      0.8711,     0.86898,     0.86804,     0.86804,     0.86714,     0.86714,     0.86714,     0.86714,\n",
       "            0.86697,     0.86636,     0.86636,     0.86481,      0.8629,     0.86268,     0.86195,     0.86172,     0.86035,     0.85984,     0.85984,     0.85785,     0.85672,     0.85658,     0.85658,     0.85658,      0.8563,     0.85526,     0.85422,      0.8536,     0.85024,     0.84949,     0.84792,\n",
       "            0.84792,     0.84792,     0.84792,     0.84692,     0.84608,      0.8439,     0.84238,     0.84235,     0.84211,     0.84146,     0.84105,     0.84105,     0.83907,     0.83875,      0.8351,     0.83341,     0.83341,     0.83173,     0.83128,     0.83128,     0.83069,     0.83069,     0.83009,\n",
       "            0.82889,     0.82681,     0.82609,     0.82513,     0.82426,     0.82295,     0.82027,     0.81842,     0.81786,     0.81667,     0.81647,     0.81457,     0.81446,     0.81258,     0.81212,     0.81061,     0.80807,     0.80763,     0.80615,      0.8034,     0.80254,     0.80178,     0.79908,\n",
       "            0.79891,     0.79616,     0.79409,     0.79237,     0.78978,     0.78874,      0.7873,     0.78484,     0.78484,     0.78409,     0.78409,      0.7815,     0.77613,     0.77463,     0.77437,     0.77219,     0.77197,     0.76588,     0.76466,     0.76265,     0.76102,     0.76102,     0.76102,\n",
       "            0.76012,     0.75816,     0.75718,     0.75371,     0.75256,     0.74953,     0.74943,     0.74878,     0.74626,     0.74552,     0.74497,      0.7413,     0.73995,     0.73779,     0.73673,     0.73567,     0.73338,     0.73331,     0.73035,     0.72914,     0.72734,     0.72555,     0.72465,\n",
       "            0.72408,     0.72309,     0.72159,     0.71864,     0.71864,     0.71384,     0.71166,     0.70951,     0.70641,      0.7055,     0.70398,     0.70227,     0.70122,     0.70122,     0.69846,     0.69572,     0.69441,     0.69012,     0.68568,     0.68564,     0.68495,     0.68336,     0.67959,\n",
       "            0.67706,     0.67574,     0.67431,     0.67431,     0.67291,      0.6712,     0.66856,     0.66552,     0.66314,     0.66201,     0.65845,     0.65776,     0.65685,     0.65396,     0.64914,     0.64373,     0.63822,      0.6376,     0.63586,     0.63503,     0.63503,     0.63458,     0.62811,\n",
       "            0.62716,     0.62597,     0.62547,     0.62141,     0.61926,     0.61645,     0.61401,     0.61244,      0.6114,     0.60947,     0.60683,     0.60394,      0.6035,     0.60234,     0.59989,     0.59795,     0.59396,     0.58645,     0.58248,     0.58008,     0.57816,     0.57506,     0.57304,\n",
       "            0.57132,     0.56861,     0.56825,     0.56711,      0.5652,     0.56383,     0.56079,     0.55753,     0.55676,     0.55517,     0.55253,     0.54899,     0.54668,     0.54439,     0.53906,      0.5356,     0.53256,     0.52435,     0.52123,     0.52096,     0.51812,     0.51578,     0.51392,\n",
       "            0.51197,      0.5097,     0.50879,     0.50655,     0.50347,     0.50249,     0.50118,     0.49968,     0.49765,     0.49314,     0.48974,     0.48712,     0.48672,     0.48433,     0.48236,     0.47672,     0.47056,     0.46652,     0.45912,     0.45449,     0.45231,      0.4514,     0.44811,\n",
       "            0.44517,     0.44019,     0.43906,     0.43481,     0.43112,     0.42955,     0.42709,     0.42142,     0.41803,     0.41573,     0.41367,     0.41087,     0.40756,     0.40364,     0.40073,     0.39747,     0.39602,     0.39209,     0.38956,      0.3878,      0.3865,      0.3865,     0.38358,\n",
       "            0.38029,     0.37723,     0.37315,     0.36801,     0.36393,     0.36303,     0.35809,     0.34859,     0.34536,     0.34252,     0.33733,     0.32486,     0.31997,     0.31859,     0.31751,     0.31592,     0.30855,     0.30252,     0.29787,     0.29508,     0.29274,     0.28278,     0.28248,\n",
       "            0.27982,     0.27855,     0.27686,     0.27457,     0.27249,     0.27011,     0.26533,     0.26212,     0.26098,      0.2575,     0.25622,      0.2519,     0.24767,     0.23997,      0.2351,     0.22761,     0.22613,     0.22367,     0.21662,     0.21178,     0.20888,     0.20804,     0.20597,\n",
       "            0.20474,     0.19995,     0.19813,     0.19633,     0.19099,     0.18627,     0.18332,     0.18046,     0.17717,     0.17405,      0.1704,      0.1695,     0.16671,     0.16547,     0.16468,     0.16301,     0.15864,     0.15626,      0.1536,     0.15188,     0.14759,      0.1463,     0.14369,\n",
       "             0.1387,     0.13822,     0.13407,     0.12483,     0.11671,     0.11327,     0.10971,     0.10759,     0.10654,      0.1045,     0.10318,     0.10055,    0.098536,    0.094914,    0.092157,    0.089467,    0.088609,    0.086547,    0.082896,    0.081528,    0.078982,    0.078511,    0.074892,\n",
       "           0.072155,    0.068883,    0.066117,    0.063064,    0.062024,    0.060789,     0.05913,    0.056257,    0.054268,    0.053221,    0.052028,    0.049764,    0.049038,    0.047538,    0.047434,    0.046432,    0.045706,    0.044981,    0.044255,     0.04353,    0.042804,    0.042079,    0.041353,\n",
       "           0.040628,    0.039902,    0.039177,    0.038451,    0.037726,       0.037,    0.036275,    0.035549,    0.034824,    0.034098,    0.033373,    0.032647,    0.031922,    0.031196,    0.030471,    0.029745,     0.02902,    0.028294,    0.027569,    0.026843,    0.026118,    0.025392,    0.024667,\n",
       "           0.023941,    0.023216,     0.02249,    0.021765,    0.021039,    0.020314,    0.019588,    0.018863,    0.018137,    0.017412,    0.016686,    0.015961,    0.015235,     0.01451,    0.013784,    0.013059,    0.012333,    0.011608,    0.010882,    0.010157,   0.0094315,    0.008706,   0.0079805,\n",
       "           0.007255,   0.0065295,    0.005804,   0.0050785,    0.004353,   0.0036275,    0.002902,   0.0021765,    0.001451,   0.0007255,           0]]), 'Recall', 'Precision'], [array([          0,    0.001001,    0.002002,    0.003003,    0.004004,    0.005005,    0.006006,    0.007007,    0.008008,    0.009009,     0.01001,    0.011011,    0.012012,    0.013013,    0.014014,    0.015015,    0.016016,    0.017017,    0.018018,    0.019019,     0.02002,    0.021021,    0.022022,    0.023023,\n",
       "          0.024024,    0.025025,    0.026026,    0.027027,    0.028028,    0.029029,     0.03003,    0.031031,    0.032032,    0.033033,    0.034034,    0.035035,    0.036036,    0.037037,    0.038038,    0.039039,     0.04004,    0.041041,    0.042042,    0.043043,    0.044044,    0.045045,    0.046046,    0.047047,\n",
       "          0.048048,    0.049049,     0.05005,    0.051051,    0.052052,    0.053053,    0.054054,    0.055055,    0.056056,    0.057057,    0.058058,    0.059059,     0.06006,    0.061061,    0.062062,    0.063063,    0.064064,    0.065065,    0.066066,    0.067067,    0.068068,    0.069069,     0.07007,    0.071071,\n",
       "          0.072072,    0.073073,    0.074074,    0.075075,    0.076076,    0.077077,    0.078078,    0.079079,     0.08008,    0.081081,    0.082082,    0.083083,    0.084084,    0.085085,    0.086086,    0.087087,    0.088088,    0.089089,     0.09009,    0.091091,    0.092092,    0.093093,    0.094094,    0.095095,\n",
       "          0.096096,    0.097097,    0.098098,    0.099099,      0.1001,      0.1011,      0.1021,      0.1031,      0.1041,     0.10511,     0.10611,     0.10711,     0.10811,     0.10911,     0.11011,     0.11111,     0.11211,     0.11311,     0.11411,     0.11512,     0.11612,     0.11712,     0.11812,     0.11912,\n",
       "           0.12012,     0.12112,     0.12212,     0.12312,     0.12412,     0.12513,     0.12613,     0.12713,     0.12813,     0.12913,     0.13013,     0.13113,     0.13213,     0.13313,     0.13413,     0.13514,     0.13614,     0.13714,     0.13814,     0.13914,     0.14014,     0.14114,     0.14214,     0.14314,\n",
       "           0.14414,     0.14515,     0.14615,     0.14715,     0.14815,     0.14915,     0.15015,     0.15115,     0.15215,     0.15315,     0.15415,     0.15516,     0.15616,     0.15716,     0.15816,     0.15916,     0.16016,     0.16116,     0.16216,     0.16316,     0.16416,     0.16517,     0.16617,     0.16717,\n",
       "           0.16817,     0.16917,     0.17017,     0.17117,     0.17217,     0.17317,     0.17417,     0.17518,     0.17618,     0.17718,     0.17818,     0.17918,     0.18018,     0.18118,     0.18218,     0.18318,     0.18418,     0.18519,     0.18619,     0.18719,     0.18819,     0.18919,     0.19019,     0.19119,\n",
       "           0.19219,     0.19319,     0.19419,      0.1952,      0.1962,      0.1972,      0.1982,      0.1992,      0.2002,      0.2012,      0.2022,      0.2032,      0.2042,     0.20521,     0.20621,     0.20721,     0.20821,     0.20921,     0.21021,     0.21121,     0.21221,     0.21321,     0.21421,     0.21522,\n",
       "           0.21622,     0.21722,     0.21822,     0.21922,     0.22022,     0.22122,     0.22222,     0.22322,     0.22422,     0.22523,     0.22623,     0.22723,     0.22823,     0.22923,     0.23023,     0.23123,     0.23223,     0.23323,     0.23423,     0.23524,     0.23624,     0.23724,     0.23824,     0.23924,\n",
       "           0.24024,     0.24124,     0.24224,     0.24324,     0.24424,     0.24525,     0.24625,     0.24725,     0.24825,     0.24925,     0.25025,     0.25125,     0.25225,     0.25325,     0.25425,     0.25526,     0.25626,     0.25726,     0.25826,     0.25926,     0.26026,     0.26126,     0.26226,     0.26326,\n",
       "           0.26426,     0.26527,     0.26627,     0.26727,     0.26827,     0.26927,     0.27027,     0.27127,     0.27227,     0.27327,     0.27427,     0.27528,     0.27628,     0.27728,     0.27828,     0.27928,     0.28028,     0.28128,     0.28228,     0.28328,     0.28428,     0.28529,     0.28629,     0.28729,\n",
       "           0.28829,     0.28929,     0.29029,     0.29129,     0.29229,     0.29329,     0.29429,      0.2953,      0.2963,      0.2973,      0.2983,      0.2993,      0.3003,      0.3013,      0.3023,      0.3033,      0.3043,     0.30531,     0.30631,     0.30731,     0.30831,     0.30931,     0.31031,     0.31131,\n",
       "           0.31231,     0.31331,     0.31431,     0.31532,     0.31632,     0.31732,     0.31832,     0.31932,     0.32032,     0.32132,     0.32232,     0.32332,     0.32432,     0.32533,     0.32633,     0.32733,     0.32833,     0.32933,     0.33033,     0.33133,     0.33233,     0.33333,     0.33433,     0.33534,\n",
       "           0.33634,     0.33734,     0.33834,     0.33934,     0.34034,     0.34134,     0.34234,     0.34334,     0.34434,     0.34535,     0.34635,     0.34735,     0.34835,     0.34935,     0.35035,     0.35135,     0.35235,     0.35335,     0.35435,     0.35536,     0.35636,     0.35736,     0.35836,     0.35936,\n",
       "           0.36036,     0.36136,     0.36236,     0.36336,     0.36436,     0.36537,     0.36637,     0.36737,     0.36837,     0.36937,     0.37037,     0.37137,     0.37237,     0.37337,     0.37437,     0.37538,     0.37638,     0.37738,     0.37838,     0.37938,     0.38038,     0.38138,     0.38238,     0.38338,\n",
       "           0.38438,     0.38539,     0.38639,     0.38739,     0.38839,     0.38939,     0.39039,     0.39139,     0.39239,     0.39339,     0.39439,      0.3954,      0.3964,      0.3974,      0.3984,      0.3994,      0.4004,      0.4014,      0.4024,      0.4034,      0.4044,     0.40541,     0.40641,     0.40741,\n",
       "           0.40841,     0.40941,     0.41041,     0.41141,     0.41241,     0.41341,     0.41441,     0.41542,     0.41642,     0.41742,     0.41842,     0.41942,     0.42042,     0.42142,     0.42242,     0.42342,     0.42442,     0.42543,     0.42643,     0.42743,     0.42843,     0.42943,     0.43043,     0.43143,\n",
       "           0.43243,     0.43343,     0.43443,     0.43544,     0.43644,     0.43744,     0.43844,     0.43944,     0.44044,     0.44144,     0.44244,     0.44344,     0.44444,     0.44545,     0.44645,     0.44745,     0.44845,     0.44945,     0.45045,     0.45145,     0.45245,     0.45345,     0.45445,     0.45546,\n",
       "           0.45646,     0.45746,     0.45846,     0.45946,     0.46046,     0.46146,     0.46246,     0.46346,     0.46446,     0.46547,     0.46647,     0.46747,     0.46847,     0.46947,     0.47047,     0.47147,     0.47247,     0.47347,     0.47447,     0.47548,     0.47648,     0.47748,     0.47848,     0.47948,\n",
       "           0.48048,     0.48148,     0.48248,     0.48348,     0.48448,     0.48549,     0.48649,     0.48749,     0.48849,     0.48949,     0.49049,     0.49149,     0.49249,     0.49349,     0.49449,      0.4955,      0.4965,      0.4975,      0.4985,      0.4995,      0.5005,      0.5015,      0.5025,      0.5035,\n",
       "            0.5045,     0.50551,     0.50651,     0.50751,     0.50851,     0.50951,     0.51051,     0.51151,     0.51251,     0.51351,     0.51451,     0.51552,     0.51652,     0.51752,     0.51852,     0.51952,     0.52052,     0.52152,     0.52252,     0.52352,     0.52452,     0.52553,     0.52653,     0.52753,\n",
       "           0.52853,     0.52953,     0.53053,     0.53153,     0.53253,     0.53353,     0.53453,     0.53554,     0.53654,     0.53754,     0.53854,     0.53954,     0.54054,     0.54154,     0.54254,     0.54354,     0.54454,     0.54555,     0.54655,     0.54755,     0.54855,     0.54955,     0.55055,     0.55155,\n",
       "           0.55255,     0.55355,     0.55455,     0.55556,     0.55656,     0.55756,     0.55856,     0.55956,     0.56056,     0.56156,     0.56256,     0.56356,     0.56456,     0.56557,     0.56657,     0.56757,     0.56857,     0.56957,     0.57057,     0.57157,     0.57257,     0.57357,     0.57457,     0.57558,\n",
       "           0.57658,     0.57758,     0.57858,     0.57958,     0.58058,     0.58158,     0.58258,     0.58358,     0.58458,     0.58559,     0.58659,     0.58759,     0.58859,     0.58959,     0.59059,     0.59159,     0.59259,     0.59359,     0.59459,      0.5956,      0.5966,      0.5976,      0.5986,      0.5996,\n",
       "            0.6006,      0.6016,      0.6026,      0.6036,      0.6046,     0.60561,     0.60661,     0.60761,     0.60861,     0.60961,     0.61061,     0.61161,     0.61261,     0.61361,     0.61461,     0.61562,     0.61662,     0.61762,     0.61862,     0.61962,     0.62062,     0.62162,     0.62262,     0.62362,\n",
       "           0.62462,     0.62563,     0.62663,     0.62763,     0.62863,     0.62963,     0.63063,     0.63163,     0.63263,     0.63363,     0.63463,     0.63564,     0.63664,     0.63764,     0.63864,     0.63964,     0.64064,     0.64164,     0.64264,     0.64364,     0.64464,     0.64565,     0.64665,     0.64765,\n",
       "           0.64865,     0.64965,     0.65065,     0.65165,     0.65265,     0.65365,     0.65465,     0.65566,     0.65666,     0.65766,     0.65866,     0.65966,     0.66066,     0.66166,     0.66266,     0.66366,     0.66466,     0.66567,     0.66667,     0.66767,     0.66867,     0.66967,     0.67067,     0.67167,\n",
       "           0.67267,     0.67367,     0.67467,     0.67568,     0.67668,     0.67768,     0.67868,     0.67968,     0.68068,     0.68168,     0.68268,     0.68368,     0.68468,     0.68569,     0.68669,     0.68769,     0.68869,     0.68969,     0.69069,     0.69169,     0.69269,     0.69369,     0.69469,      0.6957,\n",
       "            0.6967,      0.6977,      0.6987,      0.6997,      0.7007,      0.7017,      0.7027,      0.7037,      0.7047,     0.70571,     0.70671,     0.70771,     0.70871,     0.70971,     0.71071,     0.71171,     0.71271,     0.71371,     0.71471,     0.71572,     0.71672,     0.71772,     0.71872,     0.71972,\n",
       "           0.72072,     0.72172,     0.72272,     0.72372,     0.72472,     0.72573,     0.72673,     0.72773,     0.72873,     0.72973,     0.73073,     0.73173,     0.73273,     0.73373,     0.73473,     0.73574,     0.73674,     0.73774,     0.73874,     0.73974,     0.74074,     0.74174,     0.74274,     0.74374,\n",
       "           0.74474,     0.74575,     0.74675,     0.74775,     0.74875,     0.74975,     0.75075,     0.75175,     0.75275,     0.75375,     0.75475,     0.75576,     0.75676,     0.75776,     0.75876,     0.75976,     0.76076,     0.76176,     0.76276,     0.76376,     0.76476,     0.76577,     0.76677,     0.76777,\n",
       "           0.76877,     0.76977,     0.77077,     0.77177,     0.77277,     0.77377,     0.77477,     0.77578,     0.77678,     0.77778,     0.77878,     0.77978,     0.78078,     0.78178,     0.78278,     0.78378,     0.78478,     0.78579,     0.78679,     0.78779,     0.78879,     0.78979,     0.79079,     0.79179,\n",
       "           0.79279,     0.79379,     0.79479,      0.7958,      0.7968,      0.7978,      0.7988,      0.7998,      0.8008,      0.8018,      0.8028,      0.8038,      0.8048,     0.80581,     0.80681,     0.80781,     0.80881,     0.80981,     0.81081,     0.81181,     0.81281,     0.81381,     0.81481,     0.81582,\n",
       "           0.81682,     0.81782,     0.81882,     0.81982,     0.82082,     0.82182,     0.82282,     0.82382,     0.82482,     0.82583,     0.82683,     0.82783,     0.82883,     0.82983,     0.83083,     0.83183,     0.83283,     0.83383,     0.83483,     0.83584,     0.83684,     0.83784,     0.83884,     0.83984,\n",
       "           0.84084,     0.84184,     0.84284,     0.84384,     0.84484,     0.84585,     0.84685,     0.84785,     0.84885,     0.84985,     0.85085,     0.85185,     0.85285,     0.85385,     0.85485,     0.85586,     0.85686,     0.85786,     0.85886,     0.85986,     0.86086,     0.86186,     0.86286,     0.86386,\n",
       "           0.86486,     0.86587,     0.86687,     0.86787,     0.86887,     0.86987,     0.87087,     0.87187,     0.87287,     0.87387,     0.87487,     0.87588,     0.87688,     0.87788,     0.87888,     0.87988,     0.88088,     0.88188,     0.88288,     0.88388,     0.88488,     0.88589,     0.88689,     0.88789,\n",
       "           0.88889,     0.88989,     0.89089,     0.89189,     0.89289,     0.89389,     0.89489,      0.8959,      0.8969,      0.8979,      0.8989,      0.8999,      0.9009,      0.9019,      0.9029,      0.9039,      0.9049,     0.90591,     0.90691,     0.90791,     0.90891,     0.90991,     0.91091,     0.91191,\n",
       "           0.91291,     0.91391,     0.91491,     0.91592,     0.91692,     0.91792,     0.91892,     0.91992,     0.92092,     0.92192,     0.92292,     0.92392,     0.92492,     0.92593,     0.92693,     0.92793,     0.92893,     0.92993,     0.93093,     0.93193,     0.93293,     0.93393,     0.93493,     0.93594,\n",
       "           0.93694,     0.93794,     0.93894,     0.93994,     0.94094,     0.94194,     0.94294,     0.94394,     0.94494,     0.94595,     0.94695,     0.94795,     0.94895,     0.94995,     0.95095,     0.95195,     0.95295,     0.95395,     0.95495,     0.95596,     0.95696,     0.95796,     0.95896,     0.95996,\n",
       "           0.96096,     0.96196,     0.96296,     0.96396,     0.96496,     0.96597,     0.96697,     0.96797,     0.96897,     0.96997,     0.97097,     0.97197,     0.97297,     0.97397,     0.97497,     0.97598,     0.97698,     0.97798,     0.97898,     0.97998,     0.98098,     0.98198,     0.98298,     0.98398,\n",
       "           0.98498,     0.98599,     0.98699,     0.98799,     0.98899,     0.98999,     0.99099,     0.99199,     0.99299,     0.99399,     0.99499,       0.996,       0.997,       0.998,       0.999,           1]), array([[   0.089339,    0.089339,     0.12545,     0.15392,     0.17775,      0.1985,     0.21771,     0.23424,     0.25005,     0.26415,     0.27836,     0.29015,     0.30168,     0.31357,     0.32445,     0.33392,     0.34244,     0.35176,     0.36079,     0.36881,     0.37757,     0.38477,     0.39204,\n",
       "            0.39874,     0.40595,     0.41205,     0.41779,     0.42301,      0.4278,     0.43354,     0.43863,     0.44475,     0.45015,     0.45507,     0.46004,      0.4635,     0.46775,     0.47307,     0.47751,     0.48155,     0.48544,     0.48899,     0.49258,     0.49633,     0.50007,     0.50303,\n",
       "            0.50645,     0.51005,     0.51394,     0.51623,     0.52019,     0.52286,     0.52621,     0.52832,     0.53079,     0.53314,     0.53593,     0.53837,     0.54118,     0.54399,      0.5462,     0.54896,      0.5511,     0.55292,     0.55553,     0.55789,     0.56035,     0.56252,     0.56495,\n",
       "            0.56649,     0.56914,     0.57082,     0.57342,     0.57482,     0.57593,     0.57768,     0.57925,     0.58095,     0.58327,     0.58503,     0.58815,     0.58957,     0.59149,     0.59342,     0.59505,     0.59761,      0.5993,     0.60092,     0.60214,     0.60334,     0.60413,     0.60549,\n",
       "            0.60688,     0.60769,      0.6096,     0.61085,     0.61193,     0.61282,     0.61322,     0.61341,     0.61409,     0.61507,     0.61584,     0.61722,     0.61784,       0.619,     0.62027,     0.62065,     0.62162,     0.62315,     0.62422,     0.62418,      0.6261,     0.62656,     0.62781,\n",
       "            0.62945,     0.63072,     0.63177,     0.63271,      0.6334,     0.63484,      0.6365,     0.63725,     0.63865,     0.63896,     0.64005,     0.64115,     0.64179,     0.64284,     0.64361,     0.64444,     0.64476,      0.6455,     0.64577,     0.64666,     0.64751,      0.6481,     0.64895,\n",
       "            0.64942,     0.65007,     0.65049,     0.65083,     0.65081,     0.65146,      0.6524,     0.65353,       0.654,     0.65487,     0.65554,     0.65612,     0.65677,     0.65716,     0.65812,     0.65891,     0.65967,     0.66065,     0.66201,     0.66301,     0.66347,     0.66408,     0.66504,\n",
       "            0.66593,     0.66673,     0.66741,     0.66791,      0.6683,     0.66809,     0.66835,     0.66927,     0.66925,     0.66975,     0.67088,     0.67146,     0.67151,     0.67162,     0.67202,      0.6722,      0.6727,      0.6733,     0.67358,      0.6745,     0.67431,     0.67477,     0.67579,\n",
       "            0.67669,     0.67734,     0.67729,     0.67748,     0.67735,     0.67795,     0.67858,      0.6797,     0.68055,     0.68103,     0.68086,     0.68022,     0.68098,     0.68094,      0.6808,      0.6812,     0.68257,     0.68362,     0.68397,     0.68419,     0.68438,     0.68609,     0.68646,\n",
       "            0.68731,     0.68817,     0.68846,     0.68953,     0.68959,     0.68937,     0.68987,     0.68964,     0.69059,     0.69087,     0.69096,     0.69087,     0.69124,     0.69178,     0.69252,     0.69339,     0.69377,       0.694,     0.69432,     0.69425,     0.69465,     0.69441,     0.69473,\n",
       "            0.69458,     0.69497,     0.69492,     0.69557,     0.69587,     0.69709,     0.69741,     0.69737,     0.69752,     0.69755,     0.69689,     0.69775,     0.69865,     0.69885,     0.69924,     0.69965,     0.70005,     0.70011,     0.70045,     0.70083,     0.70046,     0.70097,     0.70137,\n",
       "            0.70161,     0.70195,     0.70201,     0.70243,     0.70233,     0.70165,     0.70193,     0.70188,     0.70208,      0.7022,     0.70216,     0.70222,     0.70278,      0.7023,     0.70294,     0.70336,     0.70341,     0.70393,     0.70389,     0.70384,     0.70422,      0.7045,     0.70463,\n",
       "            0.70486,     0.70488,     0.70493,     0.70582,     0.70623,     0.70624,     0.70611,      0.7064,     0.70684,     0.70712,     0.70711,     0.70703,       0.707,     0.70671,     0.70654,     0.70696,      0.7072,     0.70711,     0.70724,     0.70764,     0.70793,     0.70786,     0.70748,\n",
       "            0.70778,     0.70818,     0.70812,     0.70822,     0.70801,     0.70816,     0.70803,     0.70859,     0.70866,     0.70851,     0.70852,     0.70853,     0.70849,     0.70883,     0.70909,     0.70966,     0.70946,     0.70916,     0.70902,     0.70914,     0.70975,     0.70964,     0.70927,\n",
       "            0.70901,     0.70937,     0.70975,     0.70985,     0.70975,      0.7102,     0.71071,     0.71091,     0.71071,      0.7109,     0.71084,       0.711,     0.71077,     0.71065,     0.71018,     0.70944,      0.7093,     0.70956,     0.70966,     0.71005,     0.70998,     0.71001,     0.70981,\n",
       "            0.70993,     0.71024,     0.71069,     0.71093,     0.71149,     0.71181,     0.71172,     0.71166,     0.71195,     0.71174,     0.71147,     0.71144,     0.71122,     0.71131,     0.71132,     0.71122,     0.71152,     0.71167,     0.71185,     0.71208,      0.7124,     0.71293,     0.71298,\n",
       "            0.71302,     0.71292,      0.7125,     0.71206,     0.71215,     0.71257,      0.7125,     0.71261,      0.7125,     0.71276,     0.71266,     0.71258,     0.71277,     0.71286,     0.71275,     0.71278,      0.7131,     0.71317,     0.71304,     0.71367,      0.7136,     0.71363,     0.71289,\n",
       "             0.7133,      0.7132,     0.71298,     0.71304,     0.71282,     0.71233,     0.71265,     0.71317,     0.71306,     0.71316,      0.7128,     0.71274,     0.71257,     0.71278,     0.71305,     0.71308,     0.71317,     0.71288,     0.71271,     0.71229,     0.71256,     0.71211,     0.71186,\n",
       "            0.71231,      0.7115,     0.71133,     0.71085,     0.71099,     0.71129,     0.71145,     0.71124,     0.71147,     0.71124,     0.71137,     0.71127,     0.71052,     0.71036,     0.71026,     0.71074,     0.71026,     0.70989,     0.71005,     0.70892,     0.70892,     0.70858,     0.70837,\n",
       "            0.70738,     0.70768,     0.70796,     0.70755,     0.70673,     0.70664,     0.70634,     0.70669,     0.70739,      0.7073,      0.7067,     0.70699,     0.70687,     0.70611,     0.70587,     0.70538,     0.70475,     0.70405,     0.70401,     0.70443,     0.70388,     0.70362,     0.70357,\n",
       "            0.70326,      0.7029,     0.70212,     0.70134,     0.70094,     0.70082,     0.70098,     0.70087,     0.70087,     0.70026,     0.70015,     0.70057,     0.70071,      0.7008,     0.69994,     0.69978,     0.69941,     0.69865,      0.6976,     0.69683,     0.69672,     0.69702,     0.69585,\n",
       "            0.69558,     0.69523,     0.69546,     0.69533,     0.69506,     0.69461,     0.69449,      0.6944,     0.69372,     0.69333,     0.69323,     0.69312,     0.69286,     0.69259,     0.69237,     0.69179,     0.69093,     0.69079,     0.69005,      0.6888,     0.68858,     0.68845,     0.68763,\n",
       "            0.68777,     0.68697,     0.68713,     0.68741,     0.68712,     0.68576,     0.68535,     0.68556,     0.68549,     0.68586,     0.68574,     0.68468,     0.68469,     0.68415,      0.6836,      0.6832,     0.68349,     0.68378,      0.6836,      0.6827,     0.68196,     0.68149,     0.68155,\n",
       "            0.68159,     0.68145,     0.68086,     0.68086,     0.68017,     0.67962,      0.6792,     0.67882,      0.6785,     0.67884,     0.67795,     0.67739,     0.67683,     0.67641,     0.67627,     0.67624,      0.6764,     0.67557,     0.67501,     0.67475,     0.67476,     0.67445,     0.67431,\n",
       "             0.6743,     0.67466,     0.67452,     0.67467,     0.67443,     0.67302,     0.67274,     0.67217,      0.6716,     0.67098,     0.67075,     0.67046,      0.6706,     0.67045,     0.66974,     0.66803,     0.66774,     0.66759,     0.66663,     0.66559,     0.66501,     0.66457,     0.66442,\n",
       "            0.66356,     0.66211,     0.66181,     0.66166,     0.66065,     0.65979,      0.6599,     0.65899,     0.65831,     0.65786,     0.65771,     0.65654,     0.65595,     0.65538,     0.65535,     0.65392,     0.65343,     0.65269,     0.65121,      0.6507,     0.64987,     0.64826,     0.64733,\n",
       "            0.64643,     0.64598,     0.64478,     0.64401,     0.64281,     0.64235,     0.64145,     0.64143,     0.64029,     0.63991,     0.63884,     0.63838,      0.6364,     0.63562,     0.63575,     0.63544,     0.63482,     0.63391,     0.63324,     0.63237,     0.63175,     0.63158,     0.62972,\n",
       "            0.62955,     0.62771,     0.62587,     0.62473,      0.6238,     0.62314,     0.62221,     0.62031,     0.61996,     0.61889,     0.61805,     0.61539,     0.61507,     0.61474,     0.61359,     0.61264,     0.61155,     0.61072,     0.60959,     0.60859,     0.60795,     0.60699,     0.60664,\n",
       "            0.60424,     0.60217,     0.60184,     0.60133,     0.60064,     0.59944,     0.59973,     0.59876,     0.59857,     0.59793,     0.59713,     0.59524,     0.59472,     0.59309,     0.59124,     0.59081,     0.58921,     0.58822,     0.58687,     0.58549,     0.58483,     0.58449,     0.58357,\n",
       "            0.58207,     0.57974,     0.57821,     0.57543,     0.57355,     0.57268,     0.57221,     0.57087,     0.57025,     0.56889,     0.56695,     0.56572,     0.56482,     0.56368,     0.56212,     0.56085,     0.56083,     0.56038,     0.55775,     0.55671,     0.55424,     0.55319,     0.55136,\n",
       "            0.55021,     0.54929,     0.54841,     0.54524,     0.54361,     0.54337,     0.54266,     0.54031,      0.5367,     0.53517,     0.53261,     0.53201,     0.52982,      0.5275,     0.52568,     0.52113,     0.52028,      0.5196,     0.51802,     0.51777,     0.51464,     0.51389,     0.50983,\n",
       "            0.50943,     0.50742,     0.50621,     0.50493,     0.50277,      0.5025,     0.49981,     0.49527,     0.49089,     0.49048,     0.48839,     0.48755,     0.48651,     0.48199,     0.48142,     0.47863,      0.4759,      0.4754,     0.47163,     0.46711,     0.46578,     0.46413,     0.46339,\n",
       "            0.45803,     0.45544,      0.4534,     0.45089,     0.44705,      0.4458,     0.44479,     0.44275,     0.43898,     0.43727,     0.43435,     0.43105,     0.43012,     0.42607,     0.42345,     0.42206,     0.41945,     0.41459,     0.41315,     0.40883,     0.40598,      0.4055,     0.40012,\n",
       "            0.39828,      0.3949,     0.39424,     0.38966,     0.38742,     0.38316,     0.38176,     0.37894,     0.37337,     0.37192,     0.36628,     0.36344,     0.36242,     0.35901,     0.35667,     0.35316,      0.3516,      0.3503,     0.34834,     0.34507,     0.34118,     0.33697,     0.33251,\n",
       "              0.328,     0.32542,     0.32131,     0.31683,     0.31362,     0.31133,      0.3087,     0.30597,     0.29884,     0.29774,     0.29496,     0.29338,     0.28849,     0.28693,     0.28447,     0.27825,     0.27499,     0.27067,     0.26488,     0.26131,      0.2587,      0.2536,     0.25035,\n",
       "             0.2448,     0.24224,     0.24108,     0.23738,     0.23564,     0.22887,      0.2242,     0.21973,     0.21486,     0.21125,     0.20559,     0.19844,     0.19535,     0.19398,     0.19229,     0.18393,     0.18277,     0.17714,      0.1709,     0.16838,     0.16629,     0.16227,     0.15662,\n",
       "            0.15475,     0.14951,       0.146,     0.14251,     0.14121,     0.13659,      0.1342,     0.13181,     0.12585,     0.12071,     0.11682,     0.11016,     0.10223,    0.097913,    0.094197,    0.090467,    0.086722,     0.08554,    0.084797,    0.081653,    0.074738,    0.070931,    0.066476,\n",
       "            0.06346,    0.061331,    0.059387,    0.055836,    0.055398,    0.052889,    0.048995,    0.047007,    0.045053,    0.039175,    0.038195,    0.035847,    0.034506,    0.031851,    0.030601,    0.029927,    0.028465,    0.024473,    0.021954,    0.021094,    0.018403,    0.017768,    0.017236,\n",
       "           0.016702,    0.016429,    0.016155,    0.015819,    0.015477,    0.015246,    0.015018,    0.014737,    0.013431,    0.012974,    0.011848,     0.01139,    0.010932,    0.010318,   0.0097916,   0.0093328,   0.0088739,   0.0077425,   0.0069937,   0.0064692,   0.0061241,   0.0051393,   0.0046189,\n",
       "          0.0043423,   0.0040656,   0.0036092,   0.0031476,   0.0026981,   0.0025001,   0.0023021,   0.0021041,   0.0019961,   0.0019406,   0.0018852,   0.0018297,   0.0017742,   0.0017187,   0.0016633,   0.0016078,   0.0015523,   0.0014968,   0.0014413,   0.0013858,   0.0013356,   0.0012922,   0.0012489,\n",
       "          0.0012055,   0.0011621,   0.0011188,   0.0010754,    0.001032,  0.00098866,  0.00094528,  0.00090191,  0.00085853,  0.00081514,  0.00077176,  0.00072837,  0.00068499,           0,           0,           0,           0,           0,           0,           0,           0,           0,           0,\n",
       "                  0,           0,           0,           0,           0,           0,           0,           0,           0,           0,           0,           0,           0,           0,           0,           0,           0,           0,           0,           0,           0,           0,           0,\n",
       "                  0,           0,           0,           0,           0,           0,           0,           0,           0,           0,           0,           0,           0,           0,           0,           0,           0,           0,           0,           0,           0,           0,           0,\n",
       "                  0,           0,           0,           0,           0,           0,           0,           0,           0,           0,           0]]), 'Confidence', 'F1'], [array([          0,    0.001001,    0.002002,    0.003003,    0.004004,    0.005005,    0.006006,    0.007007,    0.008008,    0.009009,     0.01001,    0.011011,    0.012012,    0.013013,    0.014014,    0.015015,    0.016016,    0.017017,    0.018018,    0.019019,     0.02002,    0.021021,    0.022022,    0.023023,\n",
       "          0.024024,    0.025025,    0.026026,    0.027027,    0.028028,    0.029029,     0.03003,    0.031031,    0.032032,    0.033033,    0.034034,    0.035035,    0.036036,    0.037037,    0.038038,    0.039039,     0.04004,    0.041041,    0.042042,    0.043043,    0.044044,    0.045045,    0.046046,    0.047047,\n",
       "          0.048048,    0.049049,     0.05005,    0.051051,    0.052052,    0.053053,    0.054054,    0.055055,    0.056056,    0.057057,    0.058058,    0.059059,     0.06006,    0.061061,    0.062062,    0.063063,    0.064064,    0.065065,    0.066066,    0.067067,    0.068068,    0.069069,     0.07007,    0.071071,\n",
       "          0.072072,    0.073073,    0.074074,    0.075075,    0.076076,    0.077077,    0.078078,    0.079079,     0.08008,    0.081081,    0.082082,    0.083083,    0.084084,    0.085085,    0.086086,    0.087087,    0.088088,    0.089089,     0.09009,    0.091091,    0.092092,    0.093093,    0.094094,    0.095095,\n",
       "          0.096096,    0.097097,    0.098098,    0.099099,      0.1001,      0.1011,      0.1021,      0.1031,      0.1041,     0.10511,     0.10611,     0.10711,     0.10811,     0.10911,     0.11011,     0.11111,     0.11211,     0.11311,     0.11411,     0.11512,     0.11612,     0.11712,     0.11812,     0.11912,\n",
       "           0.12012,     0.12112,     0.12212,     0.12312,     0.12412,     0.12513,     0.12613,     0.12713,     0.12813,     0.12913,     0.13013,     0.13113,     0.13213,     0.13313,     0.13413,     0.13514,     0.13614,     0.13714,     0.13814,     0.13914,     0.14014,     0.14114,     0.14214,     0.14314,\n",
       "           0.14414,     0.14515,     0.14615,     0.14715,     0.14815,     0.14915,     0.15015,     0.15115,     0.15215,     0.15315,     0.15415,     0.15516,     0.15616,     0.15716,     0.15816,     0.15916,     0.16016,     0.16116,     0.16216,     0.16316,     0.16416,     0.16517,     0.16617,     0.16717,\n",
       "           0.16817,     0.16917,     0.17017,     0.17117,     0.17217,     0.17317,     0.17417,     0.17518,     0.17618,     0.17718,     0.17818,     0.17918,     0.18018,     0.18118,     0.18218,     0.18318,     0.18418,     0.18519,     0.18619,     0.18719,     0.18819,     0.18919,     0.19019,     0.19119,\n",
       "           0.19219,     0.19319,     0.19419,      0.1952,      0.1962,      0.1972,      0.1982,      0.1992,      0.2002,      0.2012,      0.2022,      0.2032,      0.2042,     0.20521,     0.20621,     0.20721,     0.20821,     0.20921,     0.21021,     0.21121,     0.21221,     0.21321,     0.21421,     0.21522,\n",
       "           0.21622,     0.21722,     0.21822,     0.21922,     0.22022,     0.22122,     0.22222,     0.22322,     0.22422,     0.22523,     0.22623,     0.22723,     0.22823,     0.22923,     0.23023,     0.23123,     0.23223,     0.23323,     0.23423,     0.23524,     0.23624,     0.23724,     0.23824,     0.23924,\n",
       "           0.24024,     0.24124,     0.24224,     0.24324,     0.24424,     0.24525,     0.24625,     0.24725,     0.24825,     0.24925,     0.25025,     0.25125,     0.25225,     0.25325,     0.25425,     0.25526,     0.25626,     0.25726,     0.25826,     0.25926,     0.26026,     0.26126,     0.26226,     0.26326,\n",
       "           0.26426,     0.26527,     0.26627,     0.26727,     0.26827,     0.26927,     0.27027,     0.27127,     0.27227,     0.27327,     0.27427,     0.27528,     0.27628,     0.27728,     0.27828,     0.27928,     0.28028,     0.28128,     0.28228,     0.28328,     0.28428,     0.28529,     0.28629,     0.28729,\n",
       "           0.28829,     0.28929,     0.29029,     0.29129,     0.29229,     0.29329,     0.29429,      0.2953,      0.2963,      0.2973,      0.2983,      0.2993,      0.3003,      0.3013,      0.3023,      0.3033,      0.3043,     0.30531,     0.30631,     0.30731,     0.30831,     0.30931,     0.31031,     0.31131,\n",
       "           0.31231,     0.31331,     0.31431,     0.31532,     0.31632,     0.31732,     0.31832,     0.31932,     0.32032,     0.32132,     0.32232,     0.32332,     0.32432,     0.32533,     0.32633,     0.32733,     0.32833,     0.32933,     0.33033,     0.33133,     0.33233,     0.33333,     0.33433,     0.33534,\n",
       "           0.33634,     0.33734,     0.33834,     0.33934,     0.34034,     0.34134,     0.34234,     0.34334,     0.34434,     0.34535,     0.34635,     0.34735,     0.34835,     0.34935,     0.35035,     0.35135,     0.35235,     0.35335,     0.35435,     0.35536,     0.35636,     0.35736,     0.35836,     0.35936,\n",
       "           0.36036,     0.36136,     0.36236,     0.36336,     0.36436,     0.36537,     0.36637,     0.36737,     0.36837,     0.36937,     0.37037,     0.37137,     0.37237,     0.37337,     0.37437,     0.37538,     0.37638,     0.37738,     0.37838,     0.37938,     0.38038,     0.38138,     0.38238,     0.38338,\n",
       "           0.38438,     0.38539,     0.38639,     0.38739,     0.38839,     0.38939,     0.39039,     0.39139,     0.39239,     0.39339,     0.39439,      0.3954,      0.3964,      0.3974,      0.3984,      0.3994,      0.4004,      0.4014,      0.4024,      0.4034,      0.4044,     0.40541,     0.40641,     0.40741,\n",
       "           0.40841,     0.40941,     0.41041,     0.41141,     0.41241,     0.41341,     0.41441,     0.41542,     0.41642,     0.41742,     0.41842,     0.41942,     0.42042,     0.42142,     0.42242,     0.42342,     0.42442,     0.42543,     0.42643,     0.42743,     0.42843,     0.42943,     0.43043,     0.43143,\n",
       "           0.43243,     0.43343,     0.43443,     0.43544,     0.43644,     0.43744,     0.43844,     0.43944,     0.44044,     0.44144,     0.44244,     0.44344,     0.44444,     0.44545,     0.44645,     0.44745,     0.44845,     0.44945,     0.45045,     0.45145,     0.45245,     0.45345,     0.45445,     0.45546,\n",
       "           0.45646,     0.45746,     0.45846,     0.45946,     0.46046,     0.46146,     0.46246,     0.46346,     0.46446,     0.46547,     0.46647,     0.46747,     0.46847,     0.46947,     0.47047,     0.47147,     0.47247,     0.47347,     0.47447,     0.47548,     0.47648,     0.47748,     0.47848,     0.47948,\n",
       "           0.48048,     0.48148,     0.48248,     0.48348,     0.48448,     0.48549,     0.48649,     0.48749,     0.48849,     0.48949,     0.49049,     0.49149,     0.49249,     0.49349,     0.49449,      0.4955,      0.4965,      0.4975,      0.4985,      0.4995,      0.5005,      0.5015,      0.5025,      0.5035,\n",
       "            0.5045,     0.50551,     0.50651,     0.50751,     0.50851,     0.50951,     0.51051,     0.51151,     0.51251,     0.51351,     0.51451,     0.51552,     0.51652,     0.51752,     0.51852,     0.51952,     0.52052,     0.52152,     0.52252,     0.52352,     0.52452,     0.52553,     0.52653,     0.52753,\n",
       "           0.52853,     0.52953,     0.53053,     0.53153,     0.53253,     0.53353,     0.53453,     0.53554,     0.53654,     0.53754,     0.53854,     0.53954,     0.54054,     0.54154,     0.54254,     0.54354,     0.54454,     0.54555,     0.54655,     0.54755,     0.54855,     0.54955,     0.55055,     0.55155,\n",
       "           0.55255,     0.55355,     0.55455,     0.55556,     0.55656,     0.55756,     0.55856,     0.55956,     0.56056,     0.56156,     0.56256,     0.56356,     0.56456,     0.56557,     0.56657,     0.56757,     0.56857,     0.56957,     0.57057,     0.57157,     0.57257,     0.57357,     0.57457,     0.57558,\n",
       "           0.57658,     0.57758,     0.57858,     0.57958,     0.58058,     0.58158,     0.58258,     0.58358,     0.58458,     0.58559,     0.58659,     0.58759,     0.58859,     0.58959,     0.59059,     0.59159,     0.59259,     0.59359,     0.59459,      0.5956,      0.5966,      0.5976,      0.5986,      0.5996,\n",
       "            0.6006,      0.6016,      0.6026,      0.6036,      0.6046,     0.60561,     0.60661,     0.60761,     0.60861,     0.60961,     0.61061,     0.61161,     0.61261,     0.61361,     0.61461,     0.61562,     0.61662,     0.61762,     0.61862,     0.61962,     0.62062,     0.62162,     0.62262,     0.62362,\n",
       "           0.62462,     0.62563,     0.62663,     0.62763,     0.62863,     0.62963,     0.63063,     0.63163,     0.63263,     0.63363,     0.63463,     0.63564,     0.63664,     0.63764,     0.63864,     0.63964,     0.64064,     0.64164,     0.64264,     0.64364,     0.64464,     0.64565,     0.64665,     0.64765,\n",
       "           0.64865,     0.64965,     0.65065,     0.65165,     0.65265,     0.65365,     0.65465,     0.65566,     0.65666,     0.65766,     0.65866,     0.65966,     0.66066,     0.66166,     0.66266,     0.66366,     0.66466,     0.66567,     0.66667,     0.66767,     0.66867,     0.66967,     0.67067,     0.67167,\n",
       "           0.67267,     0.67367,     0.67467,     0.67568,     0.67668,     0.67768,     0.67868,     0.67968,     0.68068,     0.68168,     0.68268,     0.68368,     0.68468,     0.68569,     0.68669,     0.68769,     0.68869,     0.68969,     0.69069,     0.69169,     0.69269,     0.69369,     0.69469,      0.6957,\n",
       "            0.6967,      0.6977,      0.6987,      0.6997,      0.7007,      0.7017,      0.7027,      0.7037,      0.7047,     0.70571,     0.70671,     0.70771,     0.70871,     0.70971,     0.71071,     0.71171,     0.71271,     0.71371,     0.71471,     0.71572,     0.71672,     0.71772,     0.71872,     0.71972,\n",
       "           0.72072,     0.72172,     0.72272,     0.72372,     0.72472,     0.72573,     0.72673,     0.72773,     0.72873,     0.72973,     0.73073,     0.73173,     0.73273,     0.73373,     0.73473,     0.73574,     0.73674,     0.73774,     0.73874,     0.73974,     0.74074,     0.74174,     0.74274,     0.74374,\n",
       "           0.74474,     0.74575,     0.74675,     0.74775,     0.74875,     0.74975,     0.75075,     0.75175,     0.75275,     0.75375,     0.75475,     0.75576,     0.75676,     0.75776,     0.75876,     0.75976,     0.76076,     0.76176,     0.76276,     0.76376,     0.76476,     0.76577,     0.76677,     0.76777,\n",
       "           0.76877,     0.76977,     0.77077,     0.77177,     0.77277,     0.77377,     0.77477,     0.77578,     0.77678,     0.77778,     0.77878,     0.77978,     0.78078,     0.78178,     0.78278,     0.78378,     0.78478,     0.78579,     0.78679,     0.78779,     0.78879,     0.78979,     0.79079,     0.79179,\n",
       "           0.79279,     0.79379,     0.79479,      0.7958,      0.7968,      0.7978,      0.7988,      0.7998,      0.8008,      0.8018,      0.8028,      0.8038,      0.8048,     0.80581,     0.80681,     0.80781,     0.80881,     0.80981,     0.81081,     0.81181,     0.81281,     0.81381,     0.81481,     0.81582,\n",
       "           0.81682,     0.81782,     0.81882,     0.81982,     0.82082,     0.82182,     0.82282,     0.82382,     0.82482,     0.82583,     0.82683,     0.82783,     0.82883,     0.82983,     0.83083,     0.83183,     0.83283,     0.83383,     0.83483,     0.83584,     0.83684,     0.83784,     0.83884,     0.83984,\n",
       "           0.84084,     0.84184,     0.84284,     0.84384,     0.84484,     0.84585,     0.84685,     0.84785,     0.84885,     0.84985,     0.85085,     0.85185,     0.85285,     0.85385,     0.85485,     0.85586,     0.85686,     0.85786,     0.85886,     0.85986,     0.86086,     0.86186,     0.86286,     0.86386,\n",
       "           0.86486,     0.86587,     0.86687,     0.86787,     0.86887,     0.86987,     0.87087,     0.87187,     0.87287,     0.87387,     0.87487,     0.87588,     0.87688,     0.87788,     0.87888,     0.87988,     0.88088,     0.88188,     0.88288,     0.88388,     0.88488,     0.88589,     0.88689,     0.88789,\n",
       "           0.88889,     0.88989,     0.89089,     0.89189,     0.89289,     0.89389,     0.89489,      0.8959,      0.8969,      0.8979,      0.8989,      0.8999,      0.9009,      0.9019,      0.9029,      0.9039,      0.9049,     0.90591,     0.90691,     0.90791,     0.90891,     0.90991,     0.91091,     0.91191,\n",
       "           0.91291,     0.91391,     0.91491,     0.91592,     0.91692,     0.91792,     0.91892,     0.91992,     0.92092,     0.92192,     0.92292,     0.92392,     0.92492,     0.92593,     0.92693,     0.92793,     0.92893,     0.92993,     0.93093,     0.93193,     0.93293,     0.93393,     0.93493,     0.93594,\n",
       "           0.93694,     0.93794,     0.93894,     0.93994,     0.94094,     0.94194,     0.94294,     0.94394,     0.94494,     0.94595,     0.94695,     0.94795,     0.94895,     0.94995,     0.95095,     0.95195,     0.95295,     0.95395,     0.95495,     0.95596,     0.95696,     0.95796,     0.95896,     0.95996,\n",
       "           0.96096,     0.96196,     0.96296,     0.96396,     0.96496,     0.96597,     0.96697,     0.96797,     0.96897,     0.96997,     0.97097,     0.97197,     0.97297,     0.97397,     0.97497,     0.97598,     0.97698,     0.97798,     0.97898,     0.97998,     0.98098,     0.98198,     0.98298,     0.98398,\n",
       "           0.98498,     0.98599,     0.98699,     0.98799,     0.98899,     0.98999,     0.99099,     0.99199,     0.99299,     0.99399,     0.99499,       0.996,       0.997,       0.998,       0.999,           1]), array([[    0.04691,     0.04691,    0.067301,    0.084025,    0.098493,      0.1115,     0.12381,     0.13466,      0.1453,     0.15501,     0.16503,     0.17354,       0.182,     0.19082,     0.19908,     0.20642,     0.21316,     0.22048,      0.2278,     0.23428,     0.24151,     0.24748,     0.25368,\n",
       "            0.25953,      0.2659,     0.27126,     0.27654,     0.28143,     0.28592,     0.29111,     0.29592,     0.30165,     0.30673,      0.3115,     0.31627,     0.31992,     0.32411,     0.32929,     0.33361,     0.33773,     0.34169,     0.34544,     0.34921,     0.35312,     0.35692,     0.36006,\n",
       "            0.36384,     0.36769,     0.37196,     0.37457,     0.37889,     0.38195,     0.38591,     0.38878,     0.39168,     0.39441,     0.39795,     0.40072,     0.40417,     0.40757,     0.41023,      0.4137,      0.4164,     0.41875,     0.42202,     0.42494,     0.42789,      0.4308,     0.43395,\n",
       "            0.43597,     0.43943,     0.44173,     0.44485,     0.44696,     0.44862,     0.45074,     0.45319,     0.45561,     0.45859,     0.46099,     0.46487,     0.46688,     0.46953,      0.4722,     0.47427,     0.47778,     0.48005,     0.48226,     0.48417,     0.48601,     0.48781,     0.48973,\n",
       "            0.49193,     0.49338,     0.49591,     0.49771,     0.49941,       0.501,     0.50195,     0.50248,     0.50367,     0.50513,     0.50645,     0.50861,     0.51002,     0.51189,     0.51377,     0.51489,     0.51667,     0.51893,     0.52073,     0.52128,     0.52427,     0.52507,     0.52699,\n",
       "             0.5293,     0.53122,     0.53291,     0.53456,     0.53572,     0.53811,     0.54066,     0.54191,     0.54411,      0.5449,     0.54699,     0.54878,     0.55006,     0.55177,     0.55308,     0.55467,     0.55531,     0.55695,     0.55789,     0.55947,     0.56104,     0.56229,     0.56356,\n",
       "            0.56483,       0.566,     0.56683,     0.56783,     0.56824,     0.56981,     0.57163,     0.57414,     0.57545,     0.57681,     0.57844,     0.57954,     0.58096,     0.58177,     0.58349,     0.58472,     0.58653,     0.58808,     0.59024,     0.59184,     0.59279,     0.59438,     0.59615,\n",
       "            0.59757,      0.5995,     0.60083,     0.60229,     0.60336,      0.6039,     0.60434,     0.60583,     0.60626,     0.60752,     0.60944,     0.61102,     0.61179,     0.61243,     0.61356,     0.61432,     0.61515,     0.61639,      0.6171,     0.61888,     0.61924,     0.62028,     0.62224,\n",
       "            0.62378,     0.62513,     0.62601,     0.62707,     0.62733,     0.62861,      0.6297,     0.63163,     0.63336,     0.63468,      0.6349,     0.63517,     0.63715,     0.63753,     0.63814,      0.6391,     0.64151,     0.64336,     0.64453,     0.64518,     0.64578,     0.64883,     0.64977,\n",
       "            0.65129,     0.65339,     0.65417,     0.65639,     0.65678,     0.65749,      0.6584,     0.65911,     0.66085,     0.66135,     0.66209,     0.66335,     0.66403,      0.6659,     0.66726,     0.66918,     0.66988,     0.67091,     0.67181,     0.67286,      0.6736,     0.67435,     0.67513,\n",
       "            0.67619,     0.67694,     0.67715,     0.67899,     0.67987,     0.68251,      0.6833,      0.6843,      0.6846,     0.68521,     0.68527,     0.68724,     0.68933,     0.69035,     0.69112,     0.69225,     0.69302,     0.69346,     0.69447,     0.69555,     0.69612,     0.69714,     0.69793,\n",
       "            0.69844,     0.69941,     0.69986,     0.70103,     0.70113,     0.70082,     0.70173,     0.70196,      0.7027,     0.70328,     0.70389,     0.70435,     0.70617,     0.70658,     0.70788,     0.70907,     0.70988,     0.71095,     0.71158,     0.71181,      0.7126,     0.71352,     0.71416,\n",
       "            0.71462,     0.71491,     0.71512,     0.71696,      0.7178,     0.71846,     0.71902,     0.71962,     0.72112,      0.7222,      0.7233,     0.72383,     0.72455,      0.7247,     0.72546,     0.72688,     0.72838,     0.72857,     0.73036,     0.73122,     0.73222,     0.73314,     0.73319,\n",
       "            0.73424,      0.7351,     0.73576,      0.7363,      0.7371,     0.73758,     0.73774,     0.73915,     0.73931,     0.73979,     0.74021,     0.74125,     0.74176,     0.74252,     0.74307,     0.74434,     0.74511,     0.74555,     0.74617,     0.74689,     0.74876,      0.7494,     0.74948,\n",
       "            0.74951,     0.75068,     0.75202,      0.7531,     0.75373,       0.755,     0.75632,     0.75766,     0.75806,     0.75893,     0.75966,     0.76011,     0.76074,     0.76094,     0.76075,     0.76095,     0.76099,      0.7616,     0.76251,     0.76407,     0.76481,     0.76537,     0.76531,\n",
       "            0.76583,     0.76696,     0.76829,     0.76884,     0.77015,     0.77136,     0.77209,     0.77286,     0.77355,     0.77416,     0.77406,     0.77422,     0.77448,     0.77529,     0.77582,     0.77605,     0.77675,     0.77761,     0.77803,     0.77905,     0.77981,     0.78108,      0.7817,\n",
       "            0.78226,      0.7825,     0.78369,     0.78462,     0.78519,     0.78656,     0.78668,     0.78727,     0.78787,     0.78951,     0.78976,     0.79058,     0.79205,     0.79292,     0.79316,     0.79412,     0.79491,     0.79587,     0.79629,     0.79786,     0.79823,     0.79882,     0.80009,\n",
       "            0.80111,     0.80194,     0.80189,     0.80311,     0.80328,     0.80311,     0.80424,     0.80607,     0.80663,     0.80717,     0.80774,     0.80827,     0.80827,      0.8089,     0.80961,     0.81023,     0.81157,     0.81202,     0.81204,      0.8126,     0.81385,     0.81455,     0.81446,\n",
       "            0.81601,     0.81673,     0.81837,     0.81843,     0.81921,     0.82018,      0.8212,     0.82178,     0.82289,     0.82414,     0.82513,     0.82608,     0.82584,     0.82651,     0.82681,     0.82888,     0.82939,     0.83004,     0.83066,     0.83043,     0.83065,     0.83072,     0.83115,\n",
       "            0.83153,     0.83254,     0.83331,     0.83328,     0.83364,     0.83465,     0.83496,     0.83606,     0.83801,     0.83904,     0.83992,     0.84071,     0.84104,     0.84082,     0.84146,     0.84203,      0.8422,     0.84276,     0.84463,     0.84584,      0.8459,     0.84583,     0.84672,\n",
       "            0.84681,     0.84781,     0.84759,     0.84737,     0.84785,     0.84819,     0.84911,      0.8497,     0.85019,     0.85067,     0.85102,     0.85227,     0.85269,     0.85354,      0.8552,     0.85625,     0.85654,     0.85637,     0.85609,     0.85665,     0.85779,     0.85943,     0.85952,\n",
       "             0.8602,     0.86055,     0.86135,     0.86171,     0.86164,     0.86161,     0.86198,     0.86266,     0.86259,      0.8629,     0.86408,     0.86553,     0.86627,      0.8662,     0.86672,     0.86681,     0.86699,     0.86696,     0.86677,     0.86709,     0.86762,       0.868,     0.86805,\n",
       "            0.86851,     0.86887,     0.86962,     0.87053,     0.87098,     0.87065,     0.87096,     0.87179,     0.87226,     0.87357,     0.87398,     0.87375,     0.87461,     0.87533,      0.8752,     0.87555,     0.87649,     0.87743,     0.87778,     0.87806,     0.87826,     0.87823,     0.87947,\n",
       "            0.88036,     0.88032,     0.88063,     0.88151,     0.88179,     0.88166,     0.88201,      0.8821,     0.88229,     0.88392,     0.88396,     0.88383,      0.8837,     0.88405,     0.88447,     0.88474,     0.88586,     0.88658,     0.88737,     0.88764,     0.88858,     0.88909,     0.89045,\n",
       "            0.89138,     0.89278,     0.89323,     0.89374,     0.89374,     0.89391,      0.8948,     0.89468,     0.89551,     0.89564,     0.89628,     0.89718,     0.89866,     0.89911,     0.89945,      0.8991,     0.89904,      0.8995,     0.90017,     0.90105,     0.90193,     0.90233,      0.9028,\n",
       "            0.90263,     0.90234,     0.90278,     0.90275,     0.90306,     0.90289,     0.90341,     0.90402,     0.90411,     0.90453,     0.90501,      0.9058,     0.90569,     0.90595,      0.9066,     0.90672,     0.90675,     0.90713,     0.90789,     0.90824,     0.90816,     0.90966,     0.90979,\n",
       "            0.90962,     0.91007,     0.90985,     0.91132,     0.91109,     0.91155,     0.91138,     0.91173,     0.91226,     0.91273,     0.91309,     0.91355,     0.91375,     0.91376,     0.91585,      0.9158,     0.91569,     0.91553,     0.91587,     0.91581,      0.9157,     0.91623,     0.91704,\n",
       "            0.91758,     0.91726,     0.91693,     0.91731,     0.91888,     0.91994,     0.91978,     0.92063,     0.92175,     0.92262,     0.92262,     0.92218,     0.92212,     0.92289,     0.92369,     0.92353,     0.92335,     0.92382,     0.92424,     0.92531,     0.92521,     0.92505,     0.92499,\n",
       "            0.92498,     0.92488,     0.92482,      0.9258,     0.92652,     0.92711,     0.92891,     0.92876,     0.92893,     0.93035,     0.93099,     0.93079,     0.93136,     0.93111,     0.93214,      0.9324,     0.93316,     0.93301,     0.93348,     0.93462,     0.93452,     0.93447,     0.93501,\n",
       "            0.93615,     0.93581,     0.93628,     0.93797,      0.9384,      0.9385,     0.93892,     0.93934,     0.93935,     0.93916,     0.94032,     0.94088,     0.94148,     0.94352,     0.94408,     0.94462,     0.94624,     0.94679,     0.94721,     0.94708,     0.94753,      0.9474,     0.94717,\n",
       "            0.94703,     0.94768,     0.94898,     0.95057,     0.95168,     0.95166,     0.95158,      0.9521,     0.95249,     0.95393,     0.95447,     0.95522,     0.95498,     0.95472,     0.95452,     0.95401,     0.95561,     0.95639,     0.95622,     0.95705,     0.95671,     0.95663,     0.95706,\n",
       "            0.95776,     0.95909,     0.95934,     0.95921,     0.95989,     0.96074,     0.96278,     0.96374,     0.96333,     0.96329,     0.96309,      0.9636,     0.96482,     0.96473,     0.96532,     0.96604,     0.96579,     0.96575,     0.96741,     0.96701,     0.96689,     0.96674,      0.9676,\n",
       "            0.97038,     0.97017,        0.97,     0.97087,     0.97055,     0.97045,     0.97037,      0.9702,     0.97099,     0.97085,     0.97174,     0.97377,      0.9737,     0.97574,     0.97674,     0.97664,     0.97646,     0.97612,     0.97602,     0.97571,     0.97675,     0.97672,     0.97633,\n",
       "            0.97748,     0.97855,     0.97851,      0.9782,     0.97805,     0.97911,     0.97901,     0.97882,     0.97844,     0.97834,     0.97937,     0.97918,     0.97911,     0.97887,     0.98019,     0.97996,     0.97985,     0.97976,     0.97963,      0.9794,     0.98385,     0.98361,     0.98335,\n",
       "            0.98308,     0.98292,     0.98266,     0.98237,     0.98216,     0.98555,     0.98619,     0.98707,     0.98858,     0.98853,     0.99032,     0.99026,     0.99006,        0.99,      0.9899,     0.99169,     0.99158,     0.99143,     0.99339,     0.99329,     0.99321,     0.99536,     0.99764,\n",
       "            0.99758,     0.99755,     0.99753,     0.99749,     0.99747,     0.99739,     0.99732,     0.99726,     0.99719,     0.99714,     0.99705,     0.99693,     0.99688,     0.99686,     0.99683,     0.99667,     0.99664,     0.99653,     0.99639,     0.99633,     0.99628,     0.99618,     0.99603,\n",
       "            0.99598,     0.99582,     0.99572,           1,           1,           1,           1,           1,           1,           1,           1,           1,           1,           1,           1,           1,           1,           1,           1,           1,           1,           1,           1,\n",
       "                  1,           1,           1,           1,           1,           1,           1,           1,           1,           1,           1,           1,           1,           1,           1,           1,           1,           1,           1,           1,           1,           1,           1,\n",
       "                  1,           1,           1,           1,           1,           1,           1,           1,           1,           1,           1,           1,           1,           1,           1,           1,           1,           1,           1,           1,           1,           1,           1,\n",
       "                  1,           1,           1,           1,           1,           1,           1,           1,           1,           1,           1,           1,           1,           1,           1,           1,           1,           1,           1,           1,           1,           1,           1,\n",
       "                  1,           1,           1,           1,           1,           1,           1,           1,           1,           1,           1,           1,           1,           1,           1,           1,           1,           1,           1,           1,           1,           1,           1,\n",
       "                  1,           1,           1,           1,           1,           1,           1,           1,           1,           1,           1,           1,           1,           1,           1,           1,           1,           1,           1,           1,           1,           1,           1,\n",
       "                  1,           1,           1,           1,           1,           1,           1,           1,           1,           1,           1,           1,           1,           1,           1,           1,           1,           1,           1,           1,           1,           1,           1,\n",
       "                  1,           1,           1,           1,           1,           1,           1,           1,           1,           1,           1]]), 'Confidence', 'Precision'], [array([          0,    0.001001,    0.002002,    0.003003,    0.004004,    0.005005,    0.006006,    0.007007,    0.008008,    0.009009,     0.01001,    0.011011,    0.012012,    0.013013,    0.014014,    0.015015,    0.016016,    0.017017,    0.018018,    0.019019,     0.02002,    0.021021,    0.022022,    0.023023,\n",
       "          0.024024,    0.025025,    0.026026,    0.027027,    0.028028,    0.029029,     0.03003,    0.031031,    0.032032,    0.033033,    0.034034,    0.035035,    0.036036,    0.037037,    0.038038,    0.039039,     0.04004,    0.041041,    0.042042,    0.043043,    0.044044,    0.045045,    0.046046,    0.047047,\n",
       "          0.048048,    0.049049,     0.05005,    0.051051,    0.052052,    0.053053,    0.054054,    0.055055,    0.056056,    0.057057,    0.058058,    0.059059,     0.06006,    0.061061,    0.062062,    0.063063,    0.064064,    0.065065,    0.066066,    0.067067,    0.068068,    0.069069,     0.07007,    0.071071,\n",
       "          0.072072,    0.073073,    0.074074,    0.075075,    0.076076,    0.077077,    0.078078,    0.079079,     0.08008,    0.081081,    0.082082,    0.083083,    0.084084,    0.085085,    0.086086,    0.087087,    0.088088,    0.089089,     0.09009,    0.091091,    0.092092,    0.093093,    0.094094,    0.095095,\n",
       "          0.096096,    0.097097,    0.098098,    0.099099,      0.1001,      0.1011,      0.1021,      0.1031,      0.1041,     0.10511,     0.10611,     0.10711,     0.10811,     0.10911,     0.11011,     0.11111,     0.11211,     0.11311,     0.11411,     0.11512,     0.11612,     0.11712,     0.11812,     0.11912,\n",
       "           0.12012,     0.12112,     0.12212,     0.12312,     0.12412,     0.12513,     0.12613,     0.12713,     0.12813,     0.12913,     0.13013,     0.13113,     0.13213,     0.13313,     0.13413,     0.13514,     0.13614,     0.13714,     0.13814,     0.13914,     0.14014,     0.14114,     0.14214,     0.14314,\n",
       "           0.14414,     0.14515,     0.14615,     0.14715,     0.14815,     0.14915,     0.15015,     0.15115,     0.15215,     0.15315,     0.15415,     0.15516,     0.15616,     0.15716,     0.15816,     0.15916,     0.16016,     0.16116,     0.16216,     0.16316,     0.16416,     0.16517,     0.16617,     0.16717,\n",
       "           0.16817,     0.16917,     0.17017,     0.17117,     0.17217,     0.17317,     0.17417,     0.17518,     0.17618,     0.17718,     0.17818,     0.17918,     0.18018,     0.18118,     0.18218,     0.18318,     0.18418,     0.18519,     0.18619,     0.18719,     0.18819,     0.18919,     0.19019,     0.19119,\n",
       "           0.19219,     0.19319,     0.19419,      0.1952,      0.1962,      0.1972,      0.1982,      0.1992,      0.2002,      0.2012,      0.2022,      0.2032,      0.2042,     0.20521,     0.20621,     0.20721,     0.20821,     0.20921,     0.21021,     0.21121,     0.21221,     0.21321,     0.21421,     0.21522,\n",
       "           0.21622,     0.21722,     0.21822,     0.21922,     0.22022,     0.22122,     0.22222,     0.22322,     0.22422,     0.22523,     0.22623,     0.22723,     0.22823,     0.22923,     0.23023,     0.23123,     0.23223,     0.23323,     0.23423,     0.23524,     0.23624,     0.23724,     0.23824,     0.23924,\n",
       "           0.24024,     0.24124,     0.24224,     0.24324,     0.24424,     0.24525,     0.24625,     0.24725,     0.24825,     0.24925,     0.25025,     0.25125,     0.25225,     0.25325,     0.25425,     0.25526,     0.25626,     0.25726,     0.25826,     0.25926,     0.26026,     0.26126,     0.26226,     0.26326,\n",
       "           0.26426,     0.26527,     0.26627,     0.26727,     0.26827,     0.26927,     0.27027,     0.27127,     0.27227,     0.27327,     0.27427,     0.27528,     0.27628,     0.27728,     0.27828,     0.27928,     0.28028,     0.28128,     0.28228,     0.28328,     0.28428,     0.28529,     0.28629,     0.28729,\n",
       "           0.28829,     0.28929,     0.29029,     0.29129,     0.29229,     0.29329,     0.29429,      0.2953,      0.2963,      0.2973,      0.2983,      0.2993,      0.3003,      0.3013,      0.3023,      0.3033,      0.3043,     0.30531,     0.30631,     0.30731,     0.30831,     0.30931,     0.31031,     0.31131,\n",
       "           0.31231,     0.31331,     0.31431,     0.31532,     0.31632,     0.31732,     0.31832,     0.31932,     0.32032,     0.32132,     0.32232,     0.32332,     0.32432,     0.32533,     0.32633,     0.32733,     0.32833,     0.32933,     0.33033,     0.33133,     0.33233,     0.33333,     0.33433,     0.33534,\n",
       "           0.33634,     0.33734,     0.33834,     0.33934,     0.34034,     0.34134,     0.34234,     0.34334,     0.34434,     0.34535,     0.34635,     0.34735,     0.34835,     0.34935,     0.35035,     0.35135,     0.35235,     0.35335,     0.35435,     0.35536,     0.35636,     0.35736,     0.35836,     0.35936,\n",
       "           0.36036,     0.36136,     0.36236,     0.36336,     0.36436,     0.36537,     0.36637,     0.36737,     0.36837,     0.36937,     0.37037,     0.37137,     0.37237,     0.37337,     0.37437,     0.37538,     0.37638,     0.37738,     0.37838,     0.37938,     0.38038,     0.38138,     0.38238,     0.38338,\n",
       "           0.38438,     0.38539,     0.38639,     0.38739,     0.38839,     0.38939,     0.39039,     0.39139,     0.39239,     0.39339,     0.39439,      0.3954,      0.3964,      0.3974,      0.3984,      0.3994,      0.4004,      0.4014,      0.4024,      0.4034,      0.4044,     0.40541,     0.40641,     0.40741,\n",
       "           0.40841,     0.40941,     0.41041,     0.41141,     0.41241,     0.41341,     0.41441,     0.41542,     0.41642,     0.41742,     0.41842,     0.41942,     0.42042,     0.42142,     0.42242,     0.42342,     0.42442,     0.42543,     0.42643,     0.42743,     0.42843,     0.42943,     0.43043,     0.43143,\n",
       "           0.43243,     0.43343,     0.43443,     0.43544,     0.43644,     0.43744,     0.43844,     0.43944,     0.44044,     0.44144,     0.44244,     0.44344,     0.44444,     0.44545,     0.44645,     0.44745,     0.44845,     0.44945,     0.45045,     0.45145,     0.45245,     0.45345,     0.45445,     0.45546,\n",
       "           0.45646,     0.45746,     0.45846,     0.45946,     0.46046,     0.46146,     0.46246,     0.46346,     0.46446,     0.46547,     0.46647,     0.46747,     0.46847,     0.46947,     0.47047,     0.47147,     0.47247,     0.47347,     0.47447,     0.47548,     0.47648,     0.47748,     0.47848,     0.47948,\n",
       "           0.48048,     0.48148,     0.48248,     0.48348,     0.48448,     0.48549,     0.48649,     0.48749,     0.48849,     0.48949,     0.49049,     0.49149,     0.49249,     0.49349,     0.49449,      0.4955,      0.4965,      0.4975,      0.4985,      0.4995,      0.5005,      0.5015,      0.5025,      0.5035,\n",
       "            0.5045,     0.50551,     0.50651,     0.50751,     0.50851,     0.50951,     0.51051,     0.51151,     0.51251,     0.51351,     0.51451,     0.51552,     0.51652,     0.51752,     0.51852,     0.51952,     0.52052,     0.52152,     0.52252,     0.52352,     0.52452,     0.52553,     0.52653,     0.52753,\n",
       "           0.52853,     0.52953,     0.53053,     0.53153,     0.53253,     0.53353,     0.53453,     0.53554,     0.53654,     0.53754,     0.53854,     0.53954,     0.54054,     0.54154,     0.54254,     0.54354,     0.54454,     0.54555,     0.54655,     0.54755,     0.54855,     0.54955,     0.55055,     0.55155,\n",
       "           0.55255,     0.55355,     0.55455,     0.55556,     0.55656,     0.55756,     0.55856,     0.55956,     0.56056,     0.56156,     0.56256,     0.56356,     0.56456,     0.56557,     0.56657,     0.56757,     0.56857,     0.56957,     0.57057,     0.57157,     0.57257,     0.57357,     0.57457,     0.57558,\n",
       "           0.57658,     0.57758,     0.57858,     0.57958,     0.58058,     0.58158,     0.58258,     0.58358,     0.58458,     0.58559,     0.58659,     0.58759,     0.58859,     0.58959,     0.59059,     0.59159,     0.59259,     0.59359,     0.59459,      0.5956,      0.5966,      0.5976,      0.5986,      0.5996,\n",
       "            0.6006,      0.6016,      0.6026,      0.6036,      0.6046,     0.60561,     0.60661,     0.60761,     0.60861,     0.60961,     0.61061,     0.61161,     0.61261,     0.61361,     0.61461,     0.61562,     0.61662,     0.61762,     0.61862,     0.61962,     0.62062,     0.62162,     0.62262,     0.62362,\n",
       "           0.62462,     0.62563,     0.62663,     0.62763,     0.62863,     0.62963,     0.63063,     0.63163,     0.63263,     0.63363,     0.63463,     0.63564,     0.63664,     0.63764,     0.63864,     0.63964,     0.64064,     0.64164,     0.64264,     0.64364,     0.64464,     0.64565,     0.64665,     0.64765,\n",
       "           0.64865,     0.64965,     0.65065,     0.65165,     0.65265,     0.65365,     0.65465,     0.65566,     0.65666,     0.65766,     0.65866,     0.65966,     0.66066,     0.66166,     0.66266,     0.66366,     0.66466,     0.66567,     0.66667,     0.66767,     0.66867,     0.66967,     0.67067,     0.67167,\n",
       "           0.67267,     0.67367,     0.67467,     0.67568,     0.67668,     0.67768,     0.67868,     0.67968,     0.68068,     0.68168,     0.68268,     0.68368,     0.68468,     0.68569,     0.68669,     0.68769,     0.68869,     0.68969,     0.69069,     0.69169,     0.69269,     0.69369,     0.69469,      0.6957,\n",
       "            0.6967,      0.6977,      0.6987,      0.6997,      0.7007,      0.7017,      0.7027,      0.7037,      0.7047,     0.70571,     0.70671,     0.70771,     0.70871,     0.70971,     0.71071,     0.71171,     0.71271,     0.71371,     0.71471,     0.71572,     0.71672,     0.71772,     0.71872,     0.71972,\n",
       "           0.72072,     0.72172,     0.72272,     0.72372,     0.72472,     0.72573,     0.72673,     0.72773,     0.72873,     0.72973,     0.73073,     0.73173,     0.73273,     0.73373,     0.73473,     0.73574,     0.73674,     0.73774,     0.73874,     0.73974,     0.74074,     0.74174,     0.74274,     0.74374,\n",
       "           0.74474,     0.74575,     0.74675,     0.74775,     0.74875,     0.74975,     0.75075,     0.75175,     0.75275,     0.75375,     0.75475,     0.75576,     0.75676,     0.75776,     0.75876,     0.75976,     0.76076,     0.76176,     0.76276,     0.76376,     0.76476,     0.76577,     0.76677,     0.76777,\n",
       "           0.76877,     0.76977,     0.77077,     0.77177,     0.77277,     0.77377,     0.77477,     0.77578,     0.77678,     0.77778,     0.77878,     0.77978,     0.78078,     0.78178,     0.78278,     0.78378,     0.78478,     0.78579,     0.78679,     0.78779,     0.78879,     0.78979,     0.79079,     0.79179,\n",
       "           0.79279,     0.79379,     0.79479,      0.7958,      0.7968,      0.7978,      0.7988,      0.7998,      0.8008,      0.8018,      0.8028,      0.8038,      0.8048,     0.80581,     0.80681,     0.80781,     0.80881,     0.80981,     0.81081,     0.81181,     0.81281,     0.81381,     0.81481,     0.81582,\n",
       "           0.81682,     0.81782,     0.81882,     0.81982,     0.82082,     0.82182,     0.82282,     0.82382,     0.82482,     0.82583,     0.82683,     0.82783,     0.82883,     0.82983,     0.83083,     0.83183,     0.83283,     0.83383,     0.83483,     0.83584,     0.83684,     0.83784,     0.83884,     0.83984,\n",
       "           0.84084,     0.84184,     0.84284,     0.84384,     0.84484,     0.84585,     0.84685,     0.84785,     0.84885,     0.84985,     0.85085,     0.85185,     0.85285,     0.85385,     0.85485,     0.85586,     0.85686,     0.85786,     0.85886,     0.85986,     0.86086,     0.86186,     0.86286,     0.86386,\n",
       "           0.86486,     0.86587,     0.86687,     0.86787,     0.86887,     0.86987,     0.87087,     0.87187,     0.87287,     0.87387,     0.87487,     0.87588,     0.87688,     0.87788,     0.87888,     0.87988,     0.88088,     0.88188,     0.88288,     0.88388,     0.88488,     0.88589,     0.88689,     0.88789,\n",
       "           0.88889,     0.88989,     0.89089,     0.89189,     0.89289,     0.89389,     0.89489,      0.8959,      0.8969,      0.8979,      0.8989,      0.8999,      0.9009,      0.9019,      0.9029,      0.9039,      0.9049,     0.90591,     0.90691,     0.90791,     0.90891,     0.90991,     0.91091,     0.91191,\n",
       "           0.91291,     0.91391,     0.91491,     0.91592,     0.91692,     0.91792,     0.91892,     0.91992,     0.92092,     0.92192,     0.92292,     0.92392,     0.92492,     0.92593,     0.92693,     0.92793,     0.92893,     0.92993,     0.93093,     0.93193,     0.93293,     0.93393,     0.93493,     0.93594,\n",
       "           0.93694,     0.93794,     0.93894,     0.93994,     0.94094,     0.94194,     0.94294,     0.94394,     0.94494,     0.94595,     0.94695,     0.94795,     0.94895,     0.94995,     0.95095,     0.95195,     0.95295,     0.95395,     0.95495,     0.95596,     0.95696,     0.95796,     0.95896,     0.95996,\n",
       "           0.96096,     0.96196,     0.96296,     0.96396,     0.96496,     0.96597,     0.96697,     0.96797,     0.96897,     0.96997,     0.97097,     0.97197,     0.97297,     0.97397,     0.97497,     0.97598,     0.97698,     0.97798,     0.97898,     0.97998,     0.98098,     0.98198,     0.98298,     0.98398,\n",
       "           0.98498,     0.98599,     0.98699,     0.98799,     0.98899,     0.98999,     0.99099,     0.99199,     0.99299,     0.99399,     0.99499,       0.996,       0.997,       0.998,       0.999,           1]), array([[    0.93528,     0.93528,      0.9224,     0.91562,      0.9102,     0.90342,     0.90105,     0.89936,     0.89597,     0.89258,     0.88851,     0.88445,     0.88106,     0.87902,     0.87631,     0.87326,     0.87021,     0.86954,     0.86682,     0.86615,     0.86479,     0.86411,     0.86242,\n",
       "            0.86005,     0.85768,     0.85666,     0.85395,     0.85124,      0.8492,     0.84886,     0.84717,     0.84615,     0.84548,     0.84412,     0.84344,      0.8409,     0.84005,     0.83972,     0.83972,      0.8387,     0.83802,     0.83667,     0.83565,     0.83497,     0.83497,     0.83429,\n",
       "            0.83294,     0.83226,     0.83124,     0.83023,     0.82955,     0.82853,     0.82684,     0.82413,     0.82311,     0.82243,      0.8204,     0.82006,     0.81871,     0.81769,     0.81701,     0.81566,     0.81464,     0.81362,     0.81261,     0.81193,     0.81159,     0.81023,     0.80922,\n",
       "            0.80854,     0.80752,     0.80651,     0.80651,     0.80515,     0.80413,     0.80413,     0.80244,     0.80145,     0.80108,     0.80041,     0.80041,     0.79973,     0.79905,     0.79837,     0.79837,      0.7977,     0.79736,     0.79702,     0.79612,     0.79532,     0.79329,      0.7929,\n",
       "            0.79193,     0.79092,     0.79092,     0.79058,      0.7899,     0.78889,     0.78787,     0.78719,     0.78651,     0.78617,     0.78551,     0.78482,     0.78346,     0.78279,     0.78245,     0.78109,     0.78007,     0.77974,     0.77906,      0.7777,     0.77702,     0.77669,     0.77635,\n",
       "            0.77635,     0.77607,     0.77567,     0.77499,     0.77465,     0.77397,     0.77364,      0.7733,     0.77296,     0.77228,     0.77126,     0.77093,     0.77025,     0.76991,     0.76957,     0.76889,     0.76855,     0.76754,     0.76652,     0.76604,      0.7655,     0.76483,     0.76483,\n",
       "            0.76381,     0.76347,     0.76313,     0.76225,     0.76144,     0.76042,     0.75974,     0.75839,     0.75737,     0.75737,     0.75635,     0.75601,     0.75534,       0.755,     0.75466,     0.75466,     0.75364,     0.75364,     0.75364,     0.75364,      0.7533,      0.7523,     0.75195,\n",
       "            0.75195,     0.75093,     0.75059,     0.74958,      0.7489,     0.74754,     0.74754,     0.74754,     0.74687,     0.74619,      0.7461,     0.74517,     0.74415,     0.74348,      0.7428,     0.74212,     0.74212,     0.74178,     0.74144,      0.7411,     0.74014,     0.73975,     0.73941,\n",
       "            0.73941,     0.73907,     0.73772,      0.7367,     0.73602,     0.73568,     0.73568,     0.73568,     0.73534,     0.73467,     0.73399,     0.73216,     0.73128,     0.73071,     0.72958,     0.72924,     0.72924,     0.72924,     0.72857,     0.72823,     0.72789,     0.72789,     0.72755,\n",
       "            0.72755,     0.72687,     0.72653,     0.72619,     0.72586,      0.7245,      0.7245,     0.72314,     0.72314,     0.72314,     0.72247,     0.72077,     0.72077,     0.71976,     0.71976,     0.71942,     0.71942,     0.71874,      0.7184,     0.71705,     0.71705,     0.71569,      0.7155,\n",
       "              0.714,       0.714,     0.71366,     0.71298,     0.71264,      0.7123,     0.71212,     0.71095,     0.71095,     0.71033,     0.70891,     0.70857,     0.70823,     0.70756,     0.70756,     0.70722,     0.70722,     0.70688,     0.70654,      0.7062,     0.70485,     0.70485,     0.70485,\n",
       "            0.70481,     0.70451,     0.70417,     0.70383,     0.70354,     0.70249,     0.70213,      0.7018,     0.70146,     0.70112,     0.70044,      0.7001,     0.69942,     0.69807,     0.69807,     0.69773,     0.69705,     0.69705,     0.69637,     0.69604,     0.69604,      0.6957,     0.69536,\n",
       "            0.69536,     0.69513,     0.69502,     0.69502,     0.69502,     0.69441,     0.69366,     0.69366,     0.69312,     0.69265,     0.69163,       0.691,     0.69027,      0.6896,     0.68858,     0.68811,     0.68722,     0.68689,     0.68553,     0.68553,     0.68519,     0.68427,     0.68351,\n",
       "            0.68316,     0.68316,     0.68248,     0.68221,     0.68113,       0.681,     0.68061,     0.68045,     0.68045,     0.67977,     0.67943,     0.67858,     0.67808,     0.67808,     0.67808,     0.67808,     0.67706,     0.67616,     0.67539,     0.67503,     0.67461,     0.67389,     0.67315,\n",
       "            0.67265,     0.67237,     0.67198,      0.6713,     0.67062,     0.67042,     0.67028,      0.6696,     0.66892,     0.66859,     0.66791,     0.66785,     0.66696,     0.66659,     0.66591,     0.66446,     0.66418,     0.66418,     0.66367,     0.66317,     0.66249,     0.66212,     0.66181,\n",
       "            0.66163,     0.66133,     0.66113,     0.66113,     0.66113,     0.66079,      0.6601,     0.65944,     0.65944,     0.65864,     0.65825,     0.65808,     0.65751,     0.65708,     0.65673,     0.65639,     0.65639,     0.65605,     0.65605,     0.65571,     0.65571,     0.65571,     0.65537,\n",
       "            0.65503,      0.6547,     0.65316,     0.65179,     0.65154,      0.6513,      0.6511,     0.65087,     0.65029,     0.64961,     0.64927,     0.64859,     0.64792,     0.64748,     0.64713,     0.64656,     0.64656,     0.64605,     0.64554,     0.64554,     0.64521,     0.64487,     0.64283,\n",
       "            0.64283,     0.64213,     0.64182,     0.64114,     0.64067,     0.63998,     0.63978,     0.63947,     0.63894,     0.63877,     0.63782,     0.63741,     0.63713,     0.63707,     0.63707,     0.63673,     0.63606,     0.63531,     0.63504,     0.63402,     0.63368,     0.63256,     0.63221,\n",
       "            0.63199,     0.63029,     0.62905,     0.62826,     0.62802,     0.62792,     0.62758,     0.62691,     0.62663,     0.62555,     0.62517,     0.62449,     0.62346,     0.62284,      0.6225,     0.62208,     0.62106,     0.62013,     0.62002,     0.61843,     0.61831,     0.61776,     0.61719,\n",
       "            0.61549,     0.61538,     0.61538,     0.61479,     0.61335,     0.61267,     0.61205,       0.612,       0.612,     0.61132,     0.60996,     0.60996,     0.60962,      0.6086,     0.60792,     0.60689,     0.60587,     0.60454,     0.60352,     0.60352,      0.6027,     0.60235,     0.60183,\n",
       "            0.60132,     0.60029,     0.59927,     0.59824,     0.59742,     0.59709,     0.59686,     0.59641,     0.59617,     0.59505,     0.59471,     0.59471,     0.59471,     0.59443,     0.59239,     0.59166,     0.59099,     0.58999,     0.58863,     0.58726,     0.58658,     0.58624,     0.58455,\n",
       "            0.58384,     0.58319,     0.58315,      0.5828,     0.58245,     0.58184,      0.5815,     0.58107,     0.58014,     0.57946,     0.57879,     0.57799,      0.5773,     0.57695,     0.57641,     0.57558,      0.5743,     0.57413,     0.57318,     0.57133,     0.57079,     0.57045,      0.5693,\n",
       "             0.5693,     0.56805,     0.56794,     0.56794,     0.56735,     0.56564,     0.56496,     0.56489,      0.5646,     0.56455,     0.56422,     0.56288,     0.56253,     0.56151,     0.56083,     0.56015,     0.56015,     0.56015,     0.55977,     0.55845,     0.55738,     0.55676,     0.55635,\n",
       "            0.55604,     0.55587,     0.55497,     0.55462,      0.5536,     0.55291,     0.55222,     0.55168,     0.55119,       0.551,     0.54982,     0.54913,     0.54845,     0.54776,     0.54741,     0.54727,     0.54706,     0.54569,     0.54467,     0.54422,     0.54388,     0.54329,      0.5426,\n",
       "            0.54225,     0.54219,     0.54185,     0.54185,     0.54154,     0.53967,     0.53898,      0.5383,     0.53727,     0.53643,      0.5359,     0.53521,     0.53486,     0.53452,     0.53349,     0.53145,      0.5311,     0.53076,     0.52931,     0.52769,     0.52666,     0.52598,     0.52563,\n",
       "            0.52461,      0.5229,     0.52238,      0.5222,     0.52084,     0.51982,      0.5198,     0.51847,     0.51759,      0.5169,     0.51656,     0.51485,     0.51417,     0.51339,     0.51313,     0.51135,     0.51075,     0.50972,     0.50768,     0.50695,     0.50597,     0.50356,     0.50239,\n",
       "            0.50137,     0.50068,     0.49932,     0.49795,     0.49659,      0.4959,     0.49488,     0.49475,     0.49324,     0.49265,     0.49129,      0.4906,     0.48822,     0.48729,     0.48685,      0.4865,     0.48581,     0.48479,      0.4839,     0.48291,     0.48222,     0.48187,     0.47949,\n",
       "            0.47915,      0.4771,     0.47506,     0.47366,     0.47217,     0.47114,     0.47011,     0.46773,     0.46705,      0.4656,     0.46466,     0.46177,     0.46142,     0.46086,     0.45937,     0.45835,     0.45717,     0.45613,     0.45476,      0.4534,     0.45271,     0.45169,     0.45131,\n",
       "            0.44866,     0.44641,     0.44606,     0.44527,     0.44435,      0.4429,     0.44281,     0.44179,     0.44155,     0.44053,     0.43951,     0.43752,     0.43683,     0.43513,     0.43292,      0.4324,     0.43053,      0.4295,     0.42797,     0.42627,     0.42558,     0.42523,     0.42415,\n",
       "            0.42233,     0.41995,     0.41825,     0.41502,     0.41298,     0.41206,     0.41149,     0.41003,     0.40939,     0.40803,     0.40581,     0.40445,     0.40343,     0.40189,      0.4002,     0.39883,     0.39851,     0.39796,     0.39524,     0.39422,     0.39167,     0.39064,     0.38886,\n",
       "            0.38774,     0.38672,     0.38563,     0.38224,     0.38047,     0.38023,     0.37956,     0.37718,     0.37361,     0.37191,     0.36936,     0.36867,     0.36661,     0.36442,     0.36272,     0.35847,     0.35745,      0.3567,     0.35523,     0.35488,     0.35199,     0.35131,     0.34746,\n",
       "              0.347,     0.34497,     0.34382,     0.34265,     0.34058,     0.34022,     0.33751,     0.33327,     0.32937,     0.32899,     0.32715,     0.32633,     0.32526,     0.32125,     0.32067,     0.31812,     0.31574,      0.3153,     0.31183,     0.30792,     0.30678,     0.30536,     0.30464,\n",
       "            0.29976,     0.29756,     0.29584,     0.29363,      0.2904,     0.28936,     0.28852,     0.28682,     0.28359,     0.28218,     0.27968,     0.27679,     0.27603,     0.27254,     0.27033,      0.2692,     0.26709,     0.26318,     0.26203,     0.25859,     0.25624,     0.25586,     0.25162,\n",
       "            0.25009,     0.24736,     0.24685,     0.24328,     0.24155,     0.23818,     0.23711,     0.23495,      0.2307,      0.2296,     0.22526,     0.22313,     0.22237,     0.21982,       0.218,     0.21539,     0.21424,     0.21328,     0.21183,     0.20943,     0.20637,     0.20331,     0.20009,\n",
       "            0.19684,     0.19499,     0.19206,     0.18887,      0.1866,     0.18487,     0.18299,     0.18104,     0.17603,     0.17526,     0.17328,      0.1722,     0.16884,     0.16778,      0.1661,     0.16183,     0.15963,     0.15673,     0.15282,     0.15044,     0.14872,     0.14531,     0.14313,\n",
       "            0.13952,     0.13786,     0.13711,     0.13472,      0.1336,     0.12926,      0.1263,     0.12347,      0.1204,     0.11814,     0.11461,     0.11019,     0.10829,     0.10744,     0.10641,     0.10131,     0.10061,    0.097207,    0.093463,    0.091962,    0.090718,    0.088329,     0.08499,\n",
       "            0.08389,    0.080823,    0.078773,    0.076723,    0.075967,      0.0733,    0.071928,    0.070555,    0.067149,    0.064234,    0.062033,    0.058288,    0.053866,    0.051477,    0.049427,    0.047376,    0.045326,    0.044681,    0.044276,    0.042564,     0.03882,     0.03677,    0.034381,\n",
       "            0.03277,    0.031636,    0.030602,     0.02872,    0.028488,    0.027163,    0.025113,    0.024069,    0.023045,    0.019979,    0.019469,     0.01825,    0.017556,    0.016183,    0.015538,    0.015191,    0.014438,    0.012388,    0.011099,     0.01066,   0.0092872,   0.0089638,    0.008693,\n",
       "          0.0084213,   0.0082824,   0.0081434,   0.0079724,   0.0077987,   0.0076814,   0.0075656,   0.0074232,   0.0067611,   0.0065295,   0.0059591,   0.0057275,    0.005496,   0.0051856,   0.0049199,   0.0046883,   0.0044567,   0.0038863,   0.0035091,   0.0032451,   0.0030714,   0.0025763,   0.0023148,\n",
       "          0.0021759,   0.0020369,   0.0018079,   0.0015763,   0.0013509,   0.0012516,   0.0011524,   0.0010531,  0.00099905,  0.00097126,  0.00094347,  0.00091568,   0.0008879,  0.00086011,  0.00083232,  0.00080453,  0.00077674,  0.00074896,  0.00072117,  0.00069338,  0.00066825,  0.00064654,  0.00062483,\n",
       "         0.00060312,  0.00058141,   0.0005597,  0.00053799,  0.00051628,  0.00049457,  0.00047287,  0.00045116,  0.00042945,  0.00040774,  0.00038603,  0.00036432,  0.00034261,           0,           0,           0,           0,           0,           0,           0,           0,           0,           0,\n",
       "                  0,           0,           0,           0,           0,           0,           0,           0,           0,           0,           0,           0,           0,           0,           0,           0,           0,           0,           0,           0,           0,           0,           0,\n",
       "                  0,           0,           0,           0,           0,           0,           0,           0,           0,           0,           0,           0,           0,           0,           0,           0,           0,           0,           0,           0,           0,           0,           0,\n",
       "                  0,           0,           0,           0,           0,           0,           0,           0,           0,           0,           0]]), 'Confidence', 'Recall']]\n",
       "fitness: 0.4246829059702536\n",
       "keys: ['metrics/precision(B)', 'metrics/recall(B)', 'metrics/mAP50(B)', 'metrics/mAP50-95(B)']\n",
       "maps: array([    0.38905])\n",
       "names: {0: 'Pothole'}\n",
       "plot: True\n",
       "results_dict: {'metrics/precision(B)': 0.7905773394345211, 'metrics/recall(B)': 0.6485936970518469, 'metrics/mAP50(B)': 0.7454135228671674, 'metrics/mAP50-95(B)': 0.38904617075948533, 'fitness': 0.4246829059702536}\n",
       "save_dir: PosixPath('runs/detect/yolov8m-D40-504')\n",
       "speed: {'preprocess': 0.17662536345265714, 'inference': 11.685986025811514, 'loss': 0.00031002513221368565, 'postprocess': 0.9423303811106705}\n",
       "task: 'detect'"
      ]
     },
     "execution_count": 9,
     "metadata": {},
     "output_type": "execute_result"
    }
   ],
   "source": [
    "# === Step 3: Training YOLOv8 ===\n",
    "from ultralytics import YOLO\n",
    "# Training model\n",
    "\n",
    "model = YOLO(\"yolov8m.pt\")  # Bisa ganti ke yolov8s.pt, yolov8m.pt, dll\n",
    "\n",
    "model.train(\n",
    "    data=\"/kaggle/working/data.yaml\",\n",
    "    epochs=50,\n",
    "    imgsz=640,\n",
    "    batch=16,\n",
    "    name=\"yolov8m-D40-50\",\n",
    "    device=0\n",
    ")"
   ]
  },
  {
   "cell_type": "code",
   "execution_count": 1,
   "metadata": {},
   "outputs": [
    {
     "ename": "SyntaxError",
     "evalue": "invalid syntax (4172558393.py, line 1)",
     "output_type": "error",
     "traceback": [
      "\u001b[1;36m  Cell \u001b[1;32mIn[1], line 1\u001b[1;36m\u001b[0m\n\u001b[1;33m    yolo task=detect mode=predict model=\"runs/detect/yolov8m-D40/weights/best.pt\" source=\"8-dataset-yolo/test/images\" save=True save_txt=True\u001b[0m\n\u001b[1;37m         ^\u001b[0m\n\u001b[1;31mSyntaxError\u001b[0m\u001b[1;31m:\u001b[0m invalid syntax\n"
     ]
    }
   ],
   "source": [
    "yolo task=detect mode=predict model=\"runs/detect/yolov8m-D40/weights/best.pt\" source=\"8-dataset-yolo/test/images\" save=True save_txt=True"
   ]
  }
 ],
 "metadata": {
  "kaggle": {
   "accelerator": "nvidiaTeslaT4",
   "dataSources": [
    {
     "datasetId": 7447530,
     "sourceId": 11852333,
     "sourceType": "datasetVersion"
    }
   ],
   "dockerImageVersionId": 31041,
   "isGpuEnabled": true,
   "isInternetEnabled": true,
   "language": "python",
   "sourceType": "notebook"
  },
  "kernelspec": {
   "display_name": ".venv",
   "language": "python",
   "name": "python3"
  },
  "language_info": {
   "codemirror_mode": {
    "name": "ipython",
    "version": 3
   },
   "file_extension": ".py",
   "mimetype": "text/x-python",
   "name": "python",
   "nbconvert_exporter": "python",
   "pygments_lexer": "ipython3",
   "version": "3.10.9"
  }
 },
 "nbformat": 4,
 "nbformat_minor": 4
}
