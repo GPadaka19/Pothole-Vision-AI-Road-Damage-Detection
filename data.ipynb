{
 "cells": [
  {
   "cell_type": "markdown",
   "metadata": {},
   "source": [
    "Cek jumlah beserta struktur datasets"
   ]
  },
  {
   "cell_type": "code",
   "execution_count": 4,
   "metadata": {},
   "outputs": [
    {
     "name": "stdout",
     "output_type": "stream",
     "text": [
      "China_Drone -> Train Images: 2401, Test Images: 0, Annotations: 2401\n",
      "China_MotorBike -> Train Images: 1977, Test Images: 500, Annotations: 1977\n",
      "Czech -> Train Images: 2829, Test Images: 709, Annotations: 2829\n",
      "India -> Train Images: 7706, Test Images: 1959, Annotations: 7706\n",
      "Japan -> Train Images: 10506, Test Images: 2627, Annotations: 10506\n",
      "Norway -> Train Images: 8161, Test Images: 2040, Annotations: 8161\n",
      "United_States -> Train Images: 4805, Test Images: 1200, Annotations: 4805\n"
     ]
    }
   ],
   "source": [
    "import os\n",
    "\n",
    "root_path = \"D:\\Pothole Vision - AI Road Damage Detection\\dataset\\RDD2022_all_countries\"\n",
    "def count_files(path):\n",
    "    return len([f for f in os.listdir(path) if os.path.isfile(os.path.join(path, f))]) if os.path.exists(path) else 0\n",
    "\n",
    "summary = []\n",
    "\n",
    "for country in os.listdir(root_path):\n",
    "    country_path = os.path.join(root_path, country)\n",
    "    if os.path.isdir(country_path):\n",
    "        train_images = count_files(os.path.join(country_path, \"train\", \"images\"))\n",
    "        test_images = count_files(os.path.join(country_path, \"test\", \"images\"))\n",
    "        xml_files = count_files(os.path.join(country_path, \"train\", \"annotations\", \"xmls\"))\n",
    "        summary.append(f\"{country} -> Train Images: {train_images}, Test Images: {test_images}, Annotations: {xml_files}\")\n",
    "\n",
    "for line in summary:\n",
    "    print(line)"
   ]
  },
  {
   "cell_type": "markdown",
   "metadata": {},
   "source": [
    "China_drone tidak punya folder test, abaikan?\n",
    "Selanjutnya Saya akan split datset dari Train & Test menjadi Train, Test, & Val\n"
   ]
  },
  {
   "cell_type": "code",
   "execution_count": null,
   "metadata": {},
   "outputs": [],
   "source": [
    "Jika dataset DIGABUNG semua negara menjadi satu dataset besar:\n",
    "Keuntungan:\n",
    "\n",
    "Model akan lebih general karena belajar dari berbagai jenis jalan, cuaca, kamera.\n",
    "\n",
    "Bisa membantu jika nanti digunakan di Indonesia yang belum punya data.\n",
    "\n",
    "Jumlah data menjadi sangat besar (10.000++), sangat bagus untuk deep learning.\n",
    "\n",
    "Kekurangan:\n",
    "\n",
    "Bisa menyebabkan bias ke negara dengan data terbanyak (misalnya India, Japan).\n",
    "\n",
    "Anotasi antar negara mungkin memiliki inkonsistensi kecil (labeling style, noise)."
   ]
  },
  {
   "cell_type": "code",
   "execution_count": null,
   "metadata": {},
   "outputs": [],
   "source": [
    "Rekomendasi untuk kasus ini:\n",
    "Karena kamu akan pakai untuk Indonesia, tapi belum punya data lokal, maka:\n",
    "\n",
    "Gabungkan semua negara → latih model global, supaya kuat terhadap variasi.\n",
    "\n",
    "Simpan metadata negara asalnya → bisa dipakai untuk evaluasi per negara.\n",
    "\n",
    "Nanti, jika ada data Indonesia, kamu bisa fine-tune model global ke data lokal."
   ]
  },
  {
   "cell_type": "code",
   "execution_count": 1,
   "metadata": {},
   "outputs": [
    {
     "name": "stdout",
     "output_type": "stream",
     "text": [
      "Dataset telah berhasil diproses dan disalin ke folder dataset-mix.\n"
     ]
    }
   ],
   "source": [
    "import os\n",
    "import random\n",
    "import shutil\n",
    "import xml.etree.ElementTree as ET\n",
    "import pandas as pd\n",
    "\n",
    "# Lokasi dataset dan output\n",
    "root_path = \"D:\\\\Pothole Vision - AI Road Damage Detection\\\\dataset\\\\RDD2022_all_countries\"\n",
    "output_path = \"D:\\\\Pothole Vision - AI Road Damage Detection\\\\dataset-mix\"\n",
    "train_val_split = 0.8  # 80% untuk train, 20% untuk val\n",
    "\n",
    "# Membuat direktori output\n",
    "os.makedirs(os.path.join(output_path, 'dataset-mix', 'train', 'images'), exist_ok=True)\n",
    "os.makedirs(os.path.join(output_path, 'dataset-mix', 'train', 'annotations'), exist_ok=True)\n",
    "os.makedirs(os.path.join(output_path, 'dataset-mix', 'val', 'images'), exist_ok=True)\n",
    "os.makedirs(os.path.join(output_path, 'dataset-mix', 'val', 'annotations'), exist_ok=True)\n",
    "os.makedirs(os.path.join(output_path, 'dataset-mix', 'test', 'images'), exist_ok=True)\n",
    "\n",
    "# Metadata untuk csv\n",
    "metadata = []\n",
    "\n",
    "# Fungsi untuk meng-copy file gambar dan anotasi ke folder baru\n",
    "def copy_file(src_file, dest_dir):\n",
    "    shutil.copy(src_file, dest_dir)\n",
    "\n",
    "# Proses pemindahan file per negara\n",
    "for country in os.listdir(root_path):\n",
    "    country_path = os.path.join(root_path, country)\n",
    "    \n",
    "    if os.path.isdir(country_path):  # Mengecek apakah ini folder negara\n",
    "        # Folder gambar dan anotasi\n",
    "        images_path = os.path.join(country_path, 'train', 'images')\n",
    "        annotations_path = os.path.join(country_path, 'train', 'annotations', 'xmls')\n",
    "        \n",
    "        # Ambil daftar gambar dan anotasi\n",
    "        image_files = [f for f in os.listdir(images_path) if f.endswith('.jpg')]\n",
    "        annotation_files = [f for f in os.listdir(annotations_path) if f.endswith('.xml')]\n",
    "\n",
    "        # Gabungkan data gambar dan anotasi ke dalam dataset-mix\n",
    "        for image, annotation in zip(image_files, annotation_files):\n",
    "            image_path = os.path.join(images_path, image)\n",
    "            annotation_path = os.path.join(annotations_path, annotation)\n",
    "            \n",
    "            # Tentukan split (train/val)\n",
    "            if random.random() < train_val_split:\n",
    "                split = 'train'\n",
    "                dest_image = os.path.join(output_path, 'dataset-mix', 'train', 'images', image)\n",
    "                dest_annotation = os.path.join(output_path, 'dataset-mix', 'train', 'annotations', annotation)\n",
    "            else:\n",
    "                split = 'val'\n",
    "                dest_image = os.path.join(output_path, 'dataset-mix', 'val', 'images', image)\n",
    "                dest_annotation = os.path.join(output_path, 'dataset-mix', 'val', 'annotations', annotation)\n",
    "\n",
    "            # Copy gambar dan anotasi\n",
    "            copy_file(image_path, os.path.dirname(dest_image))\n",
    "            copy_file(annotation_path, os.path.dirname(dest_annotation))\n",
    "            \n",
    "            # Menambahkan metadata\n",
    "            metadata.append({'filename': image, 'country': country, 'split': split})\n",
    "\n",
    "# Menyimpan metadata ke dalam CSV\n",
    "metadata_df = pd.DataFrame(metadata)\n",
    "metadata_df.to_csv(os.path.join(output_path, 'dataset-mix', 'metadata.csv'), index=False)\n",
    "\n",
    "print(\"Dataset telah berhasil diproses dan disalin ke folder dataset-mix.\")\n"
   ]
  }
 ],
 "metadata": {
  "kernelspec": {
   "display_name": "venv",
   "language": "python",
   "name": "python3"
  },
  "language_info": {
   "codemirror_mode": {
    "name": "ipython",
    "version": 3
   },
   "file_extension": ".py",
   "mimetype": "text/x-python",
   "name": "python",
   "nbconvert_exporter": "python",
   "pygments_lexer": "ipython3",
   "version": "3.11.5"
  }
 },
 "nbformat": 4,
 "nbformat_minor": 2
}
