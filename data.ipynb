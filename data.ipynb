{
 "cells": [
  {
   "cell_type": "markdown",
   "metadata": {},
   "source": [
    "## Cek jumlah beserta struktur datasets"
   ]
  },
  {
   "cell_type": "code",
   "execution_count": 1,
   "metadata": {},
   "outputs": [
    {
     "name": "stdout",
     "output_type": "stream",
     "text": [
      "China_Drone -> Train Images: 2401, Test Images: 0, Annotations: 2401\n",
      "China_MotorBike -> Train Images: 1977, Test Images: 500, Annotations: 1977\n",
      "Czech -> Train Images: 2829, Test Images: 709, Annotations: 2829\n",
      "India -> Train Images: 7706, Test Images: 1959, Annotations: 7706\n",
      "Japan -> Train Images: 10506, Test Images: 2627, Annotations: 10506\n",
      "Norway -> Train Images: 8161, Test Images: 2040, Annotations: 8161\n",
      "United_States -> Train Images: 4805, Test Images: 1200, Annotations: 4805\n"
     ]
    }
   ],
   "source": [
    "import os\n",
    "\n",
    "root_path = \"D:\\Pothole Vision - AI Road Damage Detection\\dataset\\RDD2022_all_countries\"\n",
    "def count_files(path):\n",
    "    return len([f for f in os.listdir(path) if os.path.isfile(os.path.join(path, f))]) if os.path.exists(path) else 0\n",
    "\n",
    "summary = []\n",
    "\n",
    "for country in os.listdir(root_path):\n",
    "    country_path = os.path.join(root_path, country)\n",
    "    if os.path.isdir(country_path):\n",
    "        train_images = count_files(os.path.join(country_path, \"train\", \"images\"))\n",
    "        test_images = count_files(os.path.join(country_path, \"test\", \"images\"))\n",
    "        xml_files = count_files(os.path.join(country_path, \"train\", \"annotations\", \"xmls\"))\n",
    "        summary.append(f\"{country} -> Train Images: {train_images}, Test Images: {test_images}, Annotations: {xml_files}\")\n",
    "\n",
    "for line in summary:\n",
    "    print(line)"
   ]
  },
  {
   "cell_type": "markdown",
   "metadata": {},
   "source": [
    "## Issue #1 Folder test China_drone [SOLVED]\n",
    "China_drone tidak punya folder test, abaikan?\n",
    "Selanjutnya Saya akan split datset dari Train & Test menjadi Train, Test, & Val\n"
   ]
  },
  {
   "cell_type": "markdown",
   "metadata": {},
   "source": [
    "## Issue #2 Struktur dataset [SOLVED]\n",
    "Jika dataset DIGABUNG semua negara menjadi satu dataset besar:\n",
    "Keuntungan:\n",
    "\n",
    "Model akan lebih general karena belajar dari berbagai jenis jalan, cuaca, kamera.\n",
    "\n",
    "Bisa membantu jika nanti digunakan di Indonesia yang belum punya data.\n",
    "\n",
    "Jumlah data menjadi sangat besar (10.000++), sangat bagus untuk deep learning.\n",
    "\n",
    "Kekurangan:\n",
    "\n",
    "Bisa menyebabkan bias ke negara dengan data terbanyak (misalnya India, Japan).\n",
    "\n",
    "Anotasi antar negara mungkin memiliki inkonsistensi kecil (labeling style, noise)."
   ]
  },
  {
   "cell_type": "markdown",
   "metadata": {},
   "source": [
    "Rekomendasi untuk kasus ini:\n",
    "Karena kamu akan pakai untuk Indonesia, tapi belum punya data lokal, maka:\n",
    "\n",
    "Gabungkan semua negara → latih model global, supaya kuat terhadap variasi.\n",
    "\n",
    "Simpan metadata negara asalnya → bisa dipakai untuk evaluasi per negara.\n",
    "\n",
    "Nanti, jika ada data Indonesia, kamu bisa fine-tune model global ke data lokal."
   ]
  },
  {
   "cell_type": "code",
   "execution_count": 2,
   "metadata": {},
   "outputs": [
    {
     "name": "stdout",
     "output_type": "stream",
     "text": [
      "Distribusi label di semua dataset mentah:\n",
      "D10: 11830\n",
      "D00: 26016\n",
      "D20: 10617\n",
      "Repair: 1046\n",
      "D40: 6544\n",
      "Block crack: 3\n",
      "D44: 5057\n",
      "D01: 179\n",
      "D11: 45\n",
      "D50: 3581\n",
      "D43: 793\n",
      "D0w0: 1\n"
     ]
    }
   ],
   "source": [
    "import os\n",
    "import xml.etree.ElementTree as ET\n",
    "from collections import Counter\n",
    "\n",
    "root_path = \"dataset/RDD2022_all_countries\"\n",
    "\n",
    "country_folders = [\n",
    "    \"China_Drone\", \"China_MotorBike\", \"Czech\",\n",
    "    \"India\", \"Japan\", \"Norway\", \"United_States\"\n",
    "]\n",
    "\n",
    "all_labels = []\n",
    "\n",
    "for country in country_folders:\n",
    "    annotation_folder = os.path.join(root_path, country, \"train\", \"annotations\", \"xmls\")\n",
    "    if os.path.exists(annotation_folder):\n",
    "        for filename in os.listdir(annotation_folder):\n",
    "            if filename.endswith('.xml'):\n",
    "                file_path = os.path.join(annotation_folder, filename)\n",
    "                try:\n",
    "                    tree = ET.parse(file_path)\n",
    "                    root = tree.getroot()\n",
    "                    for obj in root.findall('object'):\n",
    "                        label = obj.find('name').text.strip()\n",
    "                        all_labels.append(label)\n",
    "                except Exception as e:\n",
    "                    print(f\"❌ Error parsing {file_path}: {e}\")\n",
    "\n",
    "label_counts = Counter(all_labels)\n",
    "\n",
    "print(\"Distribusi label di semua dataset mentah:\")\n",
    "for label, count in label_counts.items():\n",
    "    print(f\"{label}: {count}\")"
   ]
  },
  {
   "cell_type": "code",
   "execution_count": 3,
   "metadata": {},
   "outputs": [
    {
     "name": "stdout",
     "output_type": "stream",
     "text": [
      "Proses selesai.\n",
      "File XML dan gambar yang dihapus: 34711\n",
      "File XML yang dipertahankan: 3674\n"
     ]
    }
   ],
   "source": [
    "import os\n",
    "import xml.etree.ElementTree as ET\n",
    "\n",
    "root_path = \"dataset/RDD2022_all_countries\"\n",
    "\n",
    "def clean_annotations(root_path, target_label='D40'):\n",
    "    removed_files = 0\n",
    "    kept_files = 0\n",
    "    for country in os.listdir(root_path):\n",
    "        country_path = os.path.join(root_path, country)\n",
    "        if not os.path.isdir(country_path):\n",
    "            continue\n",
    "\n",
    "        # Proses folder train annotations (ubah jika perlu val/test juga)\n",
    "        annotations_dir = os.path.join(country_path, 'train', 'annotations', 'xmls')\n",
    "        images_dir = os.path.join(country_path, 'train', 'images')\n",
    "\n",
    "        if not os.path.exists(annotations_dir):\n",
    "            print(f\"Folder anotasi tidak ditemukan: {annotations_dir}, dilewati.\")\n",
    "            continue\n",
    "\n",
    "        for xml_file in os.listdir(annotations_dir):\n",
    "            if not xml_file.endswith('.xml'):\n",
    "                continue\n",
    "\n",
    "            xml_path = os.path.join(annotations_dir, xml_file)\n",
    "            image_file = xml_file.replace('.xml', '.jpg')\n",
    "            image_path = os.path.join(images_dir, image_file)\n",
    "\n",
    "            tree = ET.parse(xml_path)\n",
    "            root = tree.getroot()\n",
    "\n",
    "            # Cari objek yang labelnya bukan target_label, hapus mereka\n",
    "            objects = root.findall('object')\n",
    "            removed_objs = 0\n",
    "            for obj in objects:\n",
    "                label = obj.find('name').text.strip()\n",
    "                if label != target_label:\n",
    "                    root.remove(obj)\n",
    "                    removed_objs += 1\n",
    "\n",
    "            # Cek apakah setelah penghapusan masih ada objek\n",
    "            if len(root.findall('object')) == 0:\n",
    "                # Hapus XML dan gambarnya\n",
    "                os.remove(xml_path)\n",
    "                if os.path.exists(image_path):\n",
    "                    os.remove(image_path)\n",
    "                removed_files += 1\n",
    "            else:\n",
    "                # Simpan ulang XML yang sudah dibersihkan\n",
    "                tree.write(xml_path)\n",
    "                kept_files += 1\n",
    "\n",
    "    print(f\"Proses selesai.\")\n",
    "    print(f\"File XML dan gambar yang dihapus: {removed_files}\")\n",
    "    print(f\"File XML yang dipertahankan: {kept_files}\")\n",
    "\n",
    "clean_annotations(root_path)"
   ]
  },
  {
   "cell_type": "code",
   "execution_count": 4,
   "metadata": {},
   "outputs": [
    {
     "name": "stdout",
     "output_type": "stream",
     "text": [
      "✅ Dataset berhasil digabung dan displit.\n"
     ]
    }
   ],
   "source": [
    "import os\n",
    "import random\n",
    "import shutil\n",
    "import pandas as pd\n",
    "\n",
    "# Lokasi dataset dan output\n",
    "root_path = \"D:\\\\Pothole Vision - AI Road Damage Detection\\\\dataset\\\\RDD2022_all_countries\"\n",
    "output_path = \"D:\\\\Pothole Vision - AI Road Damage Detection\\\\dataset-mix\"\n",
    "train_val_split = 0.8  # 80% untuk train, 20% untuk val\n",
    "\n",
    "# Membuat direktori output\n",
    "os.makedirs(os.path.join(output_path, 'train', 'images'), exist_ok=True)\n",
    "os.makedirs(os.path.join(output_path, 'train', 'annotations'), exist_ok=True)\n",
    "os.makedirs(os.path.join(output_path, 'val', 'images'), exist_ok=True)\n",
    "os.makedirs(os.path.join(output_path, 'val', 'annotations'), exist_ok=True)\n",
    "os.makedirs(os.path.join(output_path, 'test', 'images'), exist_ok=True)\n",
    "\n",
    "# Metadata untuk csv\n",
    "metadata = []\n",
    "\n",
    "def copy_file(src_file, dest_file):\n",
    "    shutil.copy(src_file, dest_file)\n",
    "\n",
    "# Proses per negara\n",
    "for country in os.listdir(root_path):\n",
    "    country_path = os.path.join(root_path, country)\n",
    "    if not os.path.isdir(country_path):\n",
    "        continue\n",
    "\n",
    "    images_path = os.path.join(country_path, 'train', 'images')\n",
    "    annotations_path = os.path.join(country_path, 'train', 'annotations', 'xmls')\n",
    "\n",
    "    if not os.path.exists(images_path) or not os.path.exists(annotations_path):\n",
    "        continue\n",
    "\n",
    "    image_files = sorted([f for f in os.listdir(images_path) if f.endswith('.jpg')])\n",
    "    annotation_files = sorted([f for f in os.listdir(annotations_path) if f.endswith('.xml')])\n",
    "\n",
    "    # Pastikan hanya file yang cocok (image dan XML) yang digunakan\n",
    "    matched_files = []\n",
    "    for image in image_files:\n",
    "        basename = os.path.splitext(image)[0]\n",
    "        if f\"{basename}.xml\" in annotation_files:\n",
    "            matched_files.append((image, f\"{basename}.xml\"))\n",
    "\n",
    "    for image, annotation in matched_files:\n",
    "        src_image = os.path.join(images_path, image)\n",
    "        src_annotation = os.path.join(annotations_path, annotation)\n",
    "\n",
    "        split = 'train' if random.random() < train_val_split else 'val'\n",
    "        dest_image = os.path.join(output_path, split, 'images', image)\n",
    "        dest_annotation = os.path.join(output_path, split, 'annotations', annotation)\n",
    "\n",
    "        copy_file(src_image, dest_image)\n",
    "        copy_file(src_annotation, dest_annotation)\n",
    "\n",
    "        metadata.append({'filename': image, 'country': country, 'split': split})\n",
    "\n",
    "    # Test set (copy ke test/images tanpa anotasi)\n",
    "    test_images_path = os.path.join(country_path, 'test', 'images')\n",
    "    if os.path.exists(test_images_path):\n",
    "        for test_img in os.listdir(test_images_path):\n",
    "            if test_img.endswith('.jpg'):\n",
    "                src_test_img = os.path.join(test_images_path, test_img)\n",
    "                dest_test_img = os.path.join(output_path, 'test', 'images', test_img)\n",
    "                copy_file(src_test_img, dest_test_img)\n",
    "\n",
    "# Simpan metadata\n",
    "metadata_df = pd.DataFrame(metadata)\n",
    "metadata_df = metadata_df.sort_values(by=['split', 'country', 'filename'])\n",
    "metadata_df.to_csv(os.path.join(output_path, 'metadata.csv'), index=False)\n",
    "\n",
    "print(\"✅ Dataset berhasil digabung dan displit.\")"
   ]
  },
  {
   "cell_type": "code",
   "execution_count": 5,
   "metadata": {},
   "outputs": [
    {
     "name": "stdout",
     "output_type": "stream",
     "text": [
      "=== Jumlah File per Split ===\n",
      "+-------+---------------+--------------------+\n",
      "| Split | Images (.jpg) | Annotations (.xml) |\n",
      "+-------+---------------+--------------------+\n",
      "| Train |     2951      |        2951        |\n",
      "|  Val  |      723      |        723         |\n",
      "| Test  |     9035      |         -          |\n",
      "+-------+---------------+--------------------+\n",
      "\n",
      "=== Distribusi Metadata per Split ===\n",
      "+-------+-------+\n",
      "| Split | Count |\n",
      "+-------+-------+\n",
      "| train | 2951  |\n",
      "|  val  |  723  |\n",
      "+-------+-------+\n",
      "\n",
      "=== Distribusi Metadata per Negara ===\n",
      "+-----------------+-------+\n",
      "|     Country     | Count |\n",
      "+-----------------+-------+\n",
      "|      India      | 1530  |\n",
      "|      Japan      | 1390  |\n",
      "|     Norway      |  256  |\n",
      "| China_MotorBike |  164  |\n",
      "|      Czech      |  154  |\n",
      "|  United_States  |  116  |\n",
      "|   China_Drone   |  64   |\n",
      "+-----------------+-------+\n"
     ]
    }
   ],
   "source": [
    "import os\n",
    "import pandas as pd\n",
    "from tabulate import tabulate\n",
    "\n",
    "root_path = \"D:\\\\Pothole Vision - AI Road Damage Detection\\\\dataset-mix\"\n",
    "\n",
    "def count_files(path, ext):\n",
    "    return len([f for f in os.listdir(path) if f.endswith(ext)]) if os.path.exists(path) else 0\n",
    "\n",
    "# Data jumlah file berdasarkan split\n",
    "data = {\n",
    "    'Split': ['Train', 'Val', 'Test'],\n",
    "    'Images (.jpg)': [\n",
    "        count_files(os.path.join(root_path, 'train', 'images'), '.jpg'),\n",
    "        count_files(os.path.join(root_path, 'val', 'images'), '.jpg'),\n",
    "        count_files(os.path.join(root_path, 'test', 'images'), '.jpg')\n",
    "    ],\n",
    "    'Annotations (.xml)': [\n",
    "        count_files(os.path.join(root_path, 'train', 'annotations'), '.xml'),\n",
    "        count_files(os.path.join(root_path, 'val', 'annotations'), '.xml'),\n",
    "        '-'  # Test tidak punya anotasi\n",
    "    ]\n",
    "}\n",
    "\n",
    "df_split = pd.DataFrame(data)\n",
    "\n",
    "# Membaca metadata.csv\n",
    "metadata_path = os.path.join(root_path, 'metadata.csv')\n",
    "if os.path.exists(metadata_path):\n",
    "    metadata = pd.read_csv(metadata_path)\n",
    "    split_counts = metadata['split'].value_counts().reset_index()\n",
    "    split_counts.columns = ['Split', 'Count']\n",
    "\n",
    "    country_counts = metadata['country'].value_counts().reset_index()\n",
    "    country_counts.columns = ['Country', 'Count']\n",
    "\n",
    "    # Tampilkan tabel\n",
    "    print(\"=== Jumlah File per Split ===\")\n",
    "    print(tabulate(df_split, headers='keys', tablefmt='pretty', showindex=False))\n",
    "    print(\"\\n=== Distribusi Metadata per Split ===\")\n",
    "    print(tabulate(split_counts, headers='keys', tablefmt='pretty', showindex=False))\n",
    "    print(\"\\n=== Distribusi Metadata per Negara ===\")\n",
    "    print(tabulate(country_counts, headers='keys', tablefmt='pretty', showindex=False))\n",
    "else:\n",
    "    print(\"❌ File metadata.csv tidak ditemukan.\")"
   ]
  },
  {
   "cell_type": "markdown",
   "metadata": {},
   "source": [
    "Checklist Sebelum Training\n",
    "-----------------------------------------\n",
    "| Langkah                      | Status |\n",
    "| ---------------------------- | ------ |\n",
    "| Label hanya `D40`            | ✅     |\n",
    "| Dataset bersih & rapi        | ✅     |\n",
    "| Split 80:20                  | ✅     |\n",
    "| Metadata terdokumentasi      | ✅     |\n",
    "| Format dataset per algoritma | 🔜     |\n",
    "| Training script siap pakai   | 🔜     |\n",
    "| Evaluasi & logging per model | 🔜     |\n"
   ]
  },
  {
   "cell_type": "code",
   "execution_count": 6,
   "metadata": {},
   "outputs": [
    {
     "name": "stdout",
     "output_type": "stream",
     "text": [
      "✅ Struktur direktori berhasil dibuat (kecuali SSD).\n"
     ]
    }
   ],
   "source": [
    "import os\n",
    "\n",
    "SOURCE_DATASET = \"D:/Pothole Vision - AI Road Damage Detection/dataset-mix\"\n",
    "TARGET_ROOT = \"D:/Pothole Vision - AI Road Damage Detection/prepared-datasets\"\n",
    "\n",
    "os.makedirs(TARGET_ROOT, exist_ok=True)\n",
    "\n",
    "# Daftar algoritma, SSD dikecualikan karena formatnya berbeda\n",
    "algorithms = [\"yolov8\", \"retinanet\", \"cornernet\", \"coco\"]  # SSD akan diproses dengan script khusus\n",
    "\n",
    "for algo in algorithms:\n",
    "    for split in [\"train\", \"val\", \"test\"]:\n",
    "        os.makedirs(os.path.join(TARGET_ROOT, algo, split, \"images\"), exist_ok=True)\n",
    "        if split != \"test\":  # hanya train dan val yang memiliki annotation\n",
    "            os.makedirs(os.path.join(TARGET_ROOT, algo, split, \"annotations\"), exist_ok=True)\n",
    "\n",
    "print(\"✅ Struktur direktori berhasil dibuat (kecuali SSD).\")"
   ]
  },
  {
   "cell_type": "code",
   "execution_count": 7,
   "metadata": {},
   "outputs": [
    {
     "name": "stdout",
     "output_type": "stream",
     "text": [
      "\n",
      "📁 Menyalin dataset untuk yolov8...\n"
     ]
    },
    {
     "name": "stderr",
     "output_type": "stream",
     "text": [
      "yolov8 - train images: 100%|██████████| 2951/2951 [00:15<00:00, 187.76it/s]\n",
      "yolov8 - train annotations: 100%|██████████| 2951/2951 [00:12<00:00, 240.84it/s]\n",
      "yolov8 - val images: 100%|██████████| 723/723 [00:04<00:00, 161.00it/s]\n",
      "yolov8 - val annotations: 100%|██████████| 723/723 [00:03<00:00, 207.95it/s]\n",
      "yolov8 - test images: 100%|██████████| 9035/9035 [00:58<00:00, 153.52it/s]\n"
     ]
    },
    {
     "name": "stdout",
     "output_type": "stream",
     "text": [
      "\n",
      "📁 Menyalin dataset untuk retinanet...\n"
     ]
    },
    {
     "name": "stderr",
     "output_type": "stream",
     "text": [
      "retinanet - train images: 100%|██████████| 2951/2951 [00:08<00:00, 347.41it/s] \n",
      "retinanet - train annotations: 100%|██████████| 2951/2951 [00:05<00:00, 572.85it/s] \n",
      "retinanet - val images: 100%|██████████| 723/723 [00:00<00:00, 1028.99it/s]\n",
      "retinanet - val annotations: 100%|██████████| 723/723 [00:00<00:00, 1837.15it/s]\n",
      "retinanet - test images: 100%|██████████| 9035/9035 [00:12<00:00, 743.75it/s] \n"
     ]
    },
    {
     "name": "stdout",
     "output_type": "stream",
     "text": [
      "\n",
      "📁 Menyalin dataset untuk cornernet...\n"
     ]
    },
    {
     "name": "stderr",
     "output_type": "stream",
     "text": [
      "cornernet - train images: 100%|██████████| 2951/2951 [00:02<00:00, 1081.20it/s]\n",
      "cornernet - train annotations: 100%|██████████| 2951/2951 [00:01<00:00, 2472.98it/s]\n",
      "cornernet - val images: 100%|██████████| 723/723 [00:00<00:00, 964.09it/s] \n",
      "cornernet - val annotations: 100%|██████████| 723/723 [00:00<00:00, 2672.98it/s]\n",
      "cornernet - test images: 100%|██████████| 9035/9035 [00:11<00:00, 791.50it/s] \n"
     ]
    },
    {
     "name": "stdout",
     "output_type": "stream",
     "text": [
      "\n",
      "📁 Menyalin dataset untuk coco...\n"
     ]
    },
    {
     "name": "stderr",
     "output_type": "stream",
     "text": [
      "coco - train images: 100%|██████████| 2951/2951 [00:06<00:00, 446.98it/s] \n",
      "coco - train annotations: 100%|██████████| 2951/2951 [00:02<00:00, 1201.40it/s]\n",
      "coco - val images: 100%|██████████| 723/723 [00:02<00:00, 317.09it/s] \n",
      "coco - val annotations: 100%|██████████| 723/723 [00:01<00:00, 522.19it/s]\n",
      "coco - test images: 100%|██████████| 9035/9035 [00:24<00:00, 368.64it/s] "
     ]
    },
    {
     "name": "stdout",
     "output_type": "stream",
     "text": [
      "\n",
      "✅ Semua data berhasil diduplikasi ke algoritma selain SSD.\n"
     ]
    },
    {
     "name": "stderr",
     "output_type": "stream",
     "text": [
      "\n"
     ]
    }
   ],
   "source": [
    "import shutil\n",
    "from tqdm import tqdm\n",
    "\n",
    "splits = [\"train\", \"val\", \"test\"]\n",
    "\n",
    "for algo in algorithms:\n",
    "    print(f\"\\n📁 Menyalin dataset untuk {algo}...\")\n",
    "    for split in splits:\n",
    "        src_img_dir = os.path.join(SOURCE_DATASET, split, \"images\")\n",
    "        dest_img_dir = os.path.join(TARGET_ROOT, algo, split, \"images\")\n",
    "        for f in tqdm(os.listdir(src_img_dir), desc=f\"{algo} - {split} images\"):\n",
    "            if f.endswith(\".jpg\"):\n",
    "                shutil.copy(os.path.join(src_img_dir, f), os.path.join(dest_img_dir, f))\n",
    "\n",
    "        if split != \"test\":\n",
    "            src_ann_dir = os.path.join(SOURCE_DATASET, split, \"annotations\")\n",
    "            dest_ann_dir = os.path.join(TARGET_ROOT, algo, split, \"annotations\")\n",
    "            for f in tqdm(os.listdir(src_ann_dir), desc=f\"{algo} - {split} annotations\"):\n",
    "                if f.endswith(\".xml\"):\n",
    "                    shutil.copy(os.path.join(src_ann_dir, f), os.path.join(dest_ann_dir, f))\n",
    "\n",
    "print(\"\\n✅ Semua data berhasil diduplikasi ke algoritma selain SSD.\")"
   ]
  },
  {
   "cell_type": "markdown",
   "metadata": {},
   "source": [
    "## Konversi annotation ke format:\n",
    "- YOLOv8      → .txt (YOLO format)\n",
    "- SSD         → TFRecord / COCO JSON\n",
    "- RetinaNet   → COCO JSON\n",
    "- Deformable DETR → COCO JSON\n",
    "- CornerNet   → COCO JSON (keypoint-style bounding box if needed)"
   ]
  },
  {
   "cell_type": "code",
   "execution_count": 8,
   "metadata": {},
   "outputs": [
    {
     "name": "stdout",
     "output_type": "stream",
     "text": [
      "+-----------+--------------+-------------------+------------+-----------------+-------------+------------------+\n",
      "| Algorithm | train_images | train_annotations | val_images | val_annotations | test_images | test_annotations |\n",
      "+-----------+--------------+-------------------+------------+-----------------+-------------+------------------+\n",
      "|  yolov8   |     2951     |       2951        |    723     |       723       |    9035     |        -         |\n",
      "| retinanet |     2951     |       2951        |    723     |       723       |    9035     |        -         |\n",
      "| cornernet |     2951     |       2951        |    723     |       723       |    9035     |        -         |\n",
      "|   coco    |     2951     |       2951        |    723     |       723       |    9035     |        -         |\n",
      "+-----------+--------------+-------------------+------------+-----------------+-------------+------------------+\n"
     ]
    }
   ],
   "source": [
    "import pandas as pd\n",
    "from tabulate import tabulate\n",
    "\n",
    "summary = []\n",
    "for algo in algorithms:\n",
    "    row = {\"Algorithm\": algo}\n",
    "    for split in splits:\n",
    "        img_dir = os.path.join(TARGET_ROOT, algo, split, \"images\")\n",
    "        ann_dir = os.path.join(TARGET_ROOT, algo, split, \"annotations\") if split != \"test\" else \"-\"\n",
    "        row[f\"{split}_images\"] = len(os.listdir(img_dir))\n",
    "        row[f\"{split}_annotations\"] = len(os.listdir(ann_dir)) if ann_dir != \"-\" else \"-\"\n",
    "    summary.append(row)\n",
    "\n",
    "df = pd.DataFrame(summary)\n",
    "print(tabulate(df, headers='keys', tablefmt='pretty', showindex=False))"
   ]
  },
  {
   "cell_type": "code",
   "execution_count": 9,
   "metadata": {},
   "outputs": [
    {
     "name": "stderr",
     "output_type": "stream",
     "text": [
      "[YOLO] Converting train: 100%|██████████| 2951/2951 [00:03<00:00, 905.50it/s] \n",
      "[YOLO] Converting val: 100%|██████████| 723/723 [00:00<00:00, 1537.73it/s]"
     ]
    },
    {
     "name": "stdout",
     "output_type": "stream",
     "text": [
      "✅ Konversi YOLOv8 selesai. Untuk algoritma lain, dilanjutkan dengan modul terpisah.\n"
     ]
    },
    {
     "name": "stderr",
     "output_type": "stream",
     "text": [
      "\n"
     ]
    }
   ],
   "source": [
    "# Konversi anotasi XML (Pascal VOC) ke format masing-masing algoritma\n",
    "# Output disimpan di folder prepared-datasets/{algo}/\n",
    "\n",
    "import os\n",
    "import xml.etree.ElementTree as ET\n",
    "from tqdm import tqdm\n",
    "\n",
    "# Dataset sumber\n",
    "SOURCE_IMAGES_DIR = \"dataset-mix\"\n",
    "SOURCE_ANN_DIR = {\n",
    "    'train': os.path.join(SOURCE_IMAGES_DIR, 'train', 'annotations'),\n",
    "    'val': os.path.join(SOURCE_IMAGES_DIR, 'val', 'annotations'),\n",
    "}\n",
    "\n",
    "# Target direktori per algoritma\n",
    "ALGORITHMS = ['yolov8', 'ssd', 'retinanet', 'coco', 'cornernet']\n",
    "PREPARED_ROOT = \"prepared-datasets\"\n",
    "\n",
    "# Pastikan direktori target tersedia\n",
    "def prepare_dirs():\n",
    "    for algo in ALGORITHMS:\n",
    "        for split in ['train', 'val']:\n",
    "            os.makedirs(os.path.join(PREPARED_ROOT, algo, split, 'images'), exist_ok=True)\n",
    "            os.makedirs(os.path.join(PREPARED_ROOT, algo, split, 'annotations'), exist_ok=True)\n",
    "            os.makedirs(os.path.join(PREPARED_ROOT, algo, split, 'labels'), exist_ok=True)\n",
    "\n",
    "# Konversi ke format YOLOv8\n",
    "# Hanya menyimpan kelas D40 dengan index 0\n",
    "def convert_to_yolo():\n",
    "    for split in ['train', 'val']:\n",
    "        image_dir = os.path.join(SOURCE_IMAGES_DIR, split, 'images')\n",
    "        ann_dir = SOURCE_ANN_DIR[split]\n",
    "        target_img_dir = os.path.join(PREPARED_ROOT, 'yolov8', split, 'images')\n",
    "        target_label_dir = os.path.join(PREPARED_ROOT, 'yolov8', split, 'labels')\n",
    "\n",
    "        for file in tqdm(os.listdir(ann_dir), desc=f\"[YOLO] Converting {split}\"):\n",
    "            if not file.endswith(\".xml\"): continue\n",
    "            xml_path = os.path.join(ann_dir, file)\n",
    "            tree = ET.parse(xml_path)\n",
    "            root = tree.getroot()\n",
    "            image_filename = root.find('filename').text\n",
    "            image_path = os.path.join(image_dir, image_filename)\n",
    "            out_image_path = os.path.join(target_img_dir, image_filename)\n",
    "\n",
    "            # Symlink image\n",
    "            if not os.path.exists(out_image_path):\n",
    "                os.symlink(os.path.abspath(image_path), out_image_path)\n",
    "\n",
    "            size = root.find(\"size\")\n",
    "            w, h = int(size.find(\"width\").text), int(size.find(\"height\").text)\n",
    "            yolo_lines = []\n",
    "\n",
    "            for obj in root.findall(\"object\"):\n",
    "                name = obj.find(\"name\").text.strip()\n",
    "                if name != \"D40\":\n",
    "                    continue  # Skip non-D40\n",
    "\n",
    "                bndbox = obj.find(\"bndbox\")\n",
    "                xmin = int(float(bndbox.find(\"xmin\").text))\n",
    "                ymin = int(float(bndbox.find(\"ymin\").text))\n",
    "                xmax = int(float(bndbox.find(\"xmax\").text))\n",
    "                ymax = int(float(bndbox.find(\"ymax\").text))\n",
    "\n",
    "                # Convert to YOLO format\n",
    "                x_center = ((xmin + xmax) / 2) / w\n",
    "                y_center = ((ymin + ymax) / 2) / h\n",
    "                bw = (xmax - xmin) / w\n",
    "                bh = (ymax - ymin) / h\n",
    "                yolo_lines.append(f\"0 {x_center:.6f} {y_center:.6f} {bw:.6f} {bh:.6f}\")\n",
    "\n",
    "            # Simpan hasil label YOLO\n",
    "            txt_path = os.path.join(target_label_dir, file.replace(\".xml\", \".txt\"))\n",
    "            with open(txt_path, \"w\") as f:\n",
    "                f.write(\"\\n\".join(yolo_lines))\n",
    "\n",
    "if __name__ == '__main__':\n",
    "    prepare_dirs()\n",
    "    convert_to_yolo()\n",
    "    print(\"✅ Konversi YOLOv8 selesai. Untuk algoritma lain, dilanjutkan dengan modul terpisah.\")"
   ]
  },
  {
   "cell_type": "code",
   "execution_count": 10,
   "metadata": {},
   "outputs": [
    {
     "name": "stdout",
     "output_type": "stream",
     "text": [
      "Konversi ke SSD selesai.\n"
     ]
    }
   ],
   "source": [
    "# convert_to_ssd.py\n",
    "import os\n",
    "import shutil\n",
    "import xml.etree.ElementTree as ET\n",
    "\n",
    "def convert_to_ssd(dataset_root, output_root):\n",
    "    \"\"\"\n",
    "    Konversi dataset yang sudah dalam VOC format ke struktur SSD:\n",
    "    - Annotations (XML)\n",
    "    - JPEGImages (images)\n",
    "    - ImageSets/Main/{train.txt,val.txt,test.txt}\n",
    "\n",
    "    Args:\n",
    "        dataset_root (str): folder dataset mix dengan struktur train/val/test\n",
    "        output_root (str): folder output konversi SSD\n",
    "    \"\"\"\n",
    "    os.makedirs(output_root, exist_ok=True)\n",
    "    ann_out = os.path.join(output_root, 'Annotations')\n",
    "    img_out = os.path.join(output_root, 'JPEGImages')\n",
    "    sets_main = os.path.join(output_root, 'ImageSets', 'Main')\n",
    "    os.makedirs(ann_out, exist_ok=True)\n",
    "    os.makedirs(img_out, exist_ok=True)\n",
    "    os.makedirs(sets_main, exist_ok=True)\n",
    "\n",
    "    splits = ['train', 'val', 'test']\n",
    "    for split in splits:\n",
    "        list_file = open(os.path.join(sets_main, f\"{split}.txt\"), 'w')\n",
    "        ann_dir = os.path.join(dataset_root, split, 'annotations')\n",
    "        img_dir = os.path.join(dataset_root, split, 'images')\n",
    "\n",
    "        for xml_file in os.listdir(ann_dir) if split != 'test' else []:\n",
    "            if not xml_file.endswith('.xml'):\n",
    "                continue\n",
    "            base_name = os.path.splitext(xml_file)[0]\n",
    "            # Copy annotation XML\n",
    "            shutil.copy(os.path.join(ann_dir, xml_file), os.path.join(ann_out, xml_file))\n",
    "            # Copy image\n",
    "            img_file = base_name + '.jpg'\n",
    "            shutil.copy(os.path.join(img_dir, img_file), os.path.join(img_out, img_file))\n",
    "            list_file.write(base_name + '\\n')\n",
    "\n",
    "        # For test split, no annotations, copy images only and write image IDs\n",
    "        if split == 'test':\n",
    "            for img_file in os.listdir(img_dir):\n",
    "                if not img_file.endswith('.jpg'):\n",
    "                    continue\n",
    "                base_name = os.path.splitext(img_file)[0]\n",
    "                shutil.copy(os.path.join(img_dir, img_file), os.path.join(img_out, img_file))\n",
    "                list_file.write(base_name + '\\n')\n",
    "\n",
    "        list_file.close()\n",
    "\n",
    "if __name__ == \"__main__\":\n",
    "    dataset_root = \"D:/Pothole Vision - AI Road Damage Detection/dataset-mix\"\n",
    "    output_root = \"D:/Pothole Vision - AI Road Damage Detection/prepared-datasets/ssd\"\n",
    "    convert_to_ssd(dataset_root, output_root)\n",
    "    print(\"Konversi ke SSD selesai.\")"
   ]
  },
  {
   "cell_type": "code",
   "execution_count": 11,
   "metadata": {},
   "outputs": [
    {
     "name": "stdout",
     "output_type": "stream",
     "text": [
      "Konversi ke RetinaNet (COCO JSON) selesai.\n"
     ]
    }
   ],
   "source": [
    "# convert_to_retinanet.py\n",
    "import os\n",
    "import json\n",
    "import xml.etree.ElementTree as ET\n",
    "\n",
    "def convert_to_coco(dataset_root, output_root):\n",
    "    \"\"\"\n",
    "    Konversi dataset VOC ke COCO JSON untuk RetinaNet.\n",
    "\n",
    "    Args:\n",
    "        dataset_root (str): folder dataset mix (train/val/test)\n",
    "        output_root (str): folder output untuk JSON dan images (images di luar scope)\n",
    "    \"\"\"\n",
    "    os.makedirs(output_root, exist_ok=True)\n",
    "\n",
    "    categories = [\n",
    "        {\"id\": 1, \"name\": \"D40\"}\n",
    "    ]\n",
    "\n",
    "    def parse_xml(xml_path, image_id, annotation_id_start):\n",
    "        tree = ET.parse(xml_path)\n",
    "        root = tree.getroot()\n",
    "        image_info = {\n",
    "            \"id\": image_id,\n",
    "            \"file_name\": root.find('filename').text,\n",
    "            \"height\": int(root.find('size/height').text),\n",
    "            \"width\": int(root.find('size/width').text),\n",
    "        }\n",
    "        annotations = []\n",
    "        annotation_id = annotation_id_start\n",
    "        for obj in root.findall('object'):\n",
    "            label = obj.find('name').text.strip()\n",
    "            if label != 'D40':  # Abaikan label selain D40\n",
    "                continue\n",
    "            bndbox = obj.find('bndbox')\n",
    "            xmin = int(float(bndbox.find('xmin').text))\n",
    "            ymin = int(float(bndbox.find('ymin').text))\n",
    "            xmax = int(float(bndbox.find('xmax').text))\n",
    "            ymax = int(float(bndbox.find('ymax').text))\n",
    "            width = xmax - xmin\n",
    "            height = ymax - ymin\n",
    "\n",
    "            annotations.append({\n",
    "                \"id\": annotation_id,\n",
    "                \"image_id\": image_id,\n",
    "                \"category_id\": 1,\n",
    "                \"bbox\": [xmin, ymin, width, height],\n",
    "                \"area\": width * height,\n",
    "                \"iscrowd\": 0,\n",
    "            })\n",
    "            annotation_id += 1\n",
    "        return image_info, annotations, annotation_id\n",
    "\n",
    "    splits = ['train', 'val', 'test']\n",
    "    for split in splits:\n",
    "        images_dir = os.path.join(dataset_root, split, 'images')\n",
    "        ann_dir = os.path.join(dataset_root, split, 'annotations')\n",
    "        json_out_path = os.path.join(output_root, f'{split}.json')\n",
    "\n",
    "        images = []\n",
    "        annotations = []\n",
    "        annotation_id = 1\n",
    "        image_id = 1\n",
    "\n",
    "        for img_file in os.listdir(images_dir):\n",
    "            if not img_file.endswith('.jpg'):\n",
    "                continue\n",
    "            base_name = os.path.splitext(img_file)[0]\n",
    "            xml_file = os.path.join(ann_dir, base_name + '.xml')\n",
    "\n",
    "            if split == 'test' or not os.path.exists(xml_file):\n",
    "                # Untuk test split, kita buat data image tanpa annotation\n",
    "                images.append({\n",
    "                    \"id\": image_id,\n",
    "                    \"file_name\": img_file,\n",
    "                    \"height\": None,\n",
    "                    \"width\": None,\n",
    "                })\n",
    "                image_id += 1\n",
    "                continue\n",
    "\n",
    "            image_info, anns, annotation_id = parse_xml(xml_file, image_id, annotation_id)\n",
    "            if anns:\n",
    "                images.append(image_info)\n",
    "                annotations.extend(anns)\n",
    "            image_id += 1\n",
    "\n",
    "        coco_format = {\n",
    "            \"images\": images,\n",
    "            \"annotations\": annotations,\n",
    "            \"categories\": categories\n",
    "        }\n",
    "\n",
    "        with open(json_out_path, 'w') as f:\n",
    "            json.dump(coco_format, f, indent=4)\n",
    "\n",
    "    print(\"Konversi ke RetinaNet (COCO JSON) selesai.\")\n",
    "\n",
    "if __name__ == \"__main__\":\n",
    "    dataset_root = \"D:/Pothole Vision - AI Road Damage Detection/dataset-mix\"\n",
    "    output_root = \"D:/Pothole Vision - AI Road Damage Detection/prepared-datasets/retinanet\"\n",
    "    convert_to_coco(dataset_root, output_root)"
   ]
  },
  {
   "cell_type": "markdown",
   "metadata": {},
   "source": [
    "# DETR == RettinaNet\n",
    "Konversi ke format Deformable DETR (COCO JSON style, sama dengan RetinaNet)\n",
    "Karena Deformable DETR juga menggunakan COCO format, kamu bisa gunakan file JSON yang sama dari script RetinaNet di atas. Jadi cukup jalankan script convert_to_retinanet.py untuk kedua algoritma tersebut."
   ]
  },
  {
   "cell_type": "code",
   "execution_count": 12,
   "metadata": {},
   "outputs": [
    {
     "name": "stdout",
     "output_type": "stream",
     "text": [
      "Konversi ke CornerNet selesai.\n"
     ]
    }
   ],
   "source": [
    "# convert_to_cornernet.py\n",
    "import os\n",
    "import json\n",
    "import xml.etree.ElementTree as ET\n",
    "\n",
    "def convert_to_cornernet(dataset_root, output_root):\n",
    "    \"\"\"\n",
    "    Konversi dataset VOC ke format JSON sederhana untuk CornerNet.\n",
    "\n",
    "    Format JSON yang dihasilkan:\n",
    "    {\n",
    "    \"images\": [\n",
    "        {\n",
    "            \"file_name\": \"image1.jpg\",\n",
    "            \"bboxes\": [[xmin, ymin, xmax, ymax], ...]\n",
    "        },\n",
    "        ...\n",
    "    ]\n",
    "    }\n",
    "    \"\"\"\n",
    "\n",
    "    os.makedirs(output_root, exist_ok=True)\n",
    "\n",
    "    splits = ['train', 'val', 'test']\n",
    "\n",
    "    for split in splits:\n",
    "        images_dir = os.path.join(dataset_root, split, 'images')\n",
    "        ann_dir = os.path.join(dataset_root, split, 'annotations')\n",
    "        json_out_path = os.path.join(output_root, f'{split}.json')\n",
    "\n",
    "        data = {\"images\": []}\n",
    "\n",
    "        for img_file in os.listdir(images_dir):\n",
    "            if not img_file.endswith('.jpg'):\n",
    "                continue\n",
    "\n",
    "            img_info = {\"file_name\": img_file, \"bboxes\": []}\n",
    "            base_name = os.path.splitext(img_file)[0]\n",
    "            xml_file = os.path.join(ann_dir, base_name + '.xml')\n",
    "\n",
    "            if split != 'test' and os.path.exists(xml_file):\n",
    "                tree = ET.parse(xml_file)\n",
    "                root = tree.getroot()\n",
    "\n",
    "                for obj in root.findall('object'):\n",
    "                    label = obj.find('name').text.strip()\n",
    "                    if label != 'D40':  # Hanya kelas D40 yang diambil\n",
    "                        continue\n",
    "\n",
    "                    bndbox = obj.find('bndbox')\n",
    "                    xmin = int(float(bndbox.find('xmin').text))\n",
    "                    ymin = int(float(bndbox.find('ymin').text))\n",
    "                    xmax = int(float(bndbox.find('xmax').text))\n",
    "                    ymax = int(float(bndbox.find('ymax').text))\n",
    "                    img_info[\"bboxes\"].append([xmin, ymin, xmax, ymax])\n",
    "\n",
    "            data[\"images\"].append(img_info)\n",
    "\n",
    "        with open(json_out_path, 'w') as f:\n",
    "            json.dump(data, f, indent=4)\n",
    "\n",
    "    print(\"Konversi ke CornerNet selesai.\")\n",
    "\n",
    "if __name__ == \"__main__\":\n",
    "    dataset_root = \"D:/Pothole Vision - AI Road Damage Detection/dataset-mix\"\n",
    "    output_root = \"D:/Pothole Vision - AI Road Damage Detection/prepared-datasets/cornernet\"\n",
    "    convert_to_cornernet(dataset_root, output_root)"
   ]
  },
  {
   "cell_type": "code",
   "execution_count": 13,
   "metadata": {},
   "outputs": [
    {
     "name": "stdout",
     "output_type": "stream",
     "text": [
      "2.5.1+cu121\n",
      "12.1\n"
     ]
    }
   ],
   "source": [
    "import torch\n",
    "print(torch.__version__)\n",
    "print(torch.version.cuda)"
   ]
  },
  {
   "cell_type": "code",
   "execution_count": 14,
   "metadata": {},
   "outputs": [
    {
     "name": "stdout",
     "output_type": "stream",
     "text": [
      "2.5.1+cu121\n",
      "12.1\n",
      "CUDA available: True\n",
      "GPU name: NVIDIA GeForce RTX 3050 Laptop GPU\n"
     ]
    }
   ],
   "source": [
    "import torch\n",
    "print(torch.__version__)\n",
    "print(torch.version.cuda)\n",
    "print(\"CUDA available:\", torch.cuda.is_available())\n",
    "print(\"GPU name:\", torch.cuda.get_device_name(0) if torch.cuda.is_available() else \"No GPU detected\")"
   ]
  },
  {
   "cell_type": "code",
   "execution_count": 1,
   "metadata": {},
   "outputs": [
    {
     "name": "stdout",
     "output_type": "stream",
     "text": [
      "New https://pypi.org/project/ultralytics/8.3.136 available  Update with 'pip install -U ultralytics'\n",
      "Ultralytics 8.3.135  Python-3.10.9 torch-2.5.1+cu121 CUDA:0 (NVIDIA GeForce RTX 3050 Laptop GPU, 4096MiB)\n",
      "\u001b[34m\u001b[1mengine\\trainer: \u001b[0magnostic_nms=False, amp=True, augment=False, auto_augment=randaugment, batch=16, bgr=0.0, box=7.5, cache=False, cfg=None, classes=None, close_mosaic=10, cls=0.5, conf=None, copy_paste=0.0, copy_paste_mode=flip, cos_lr=False, cutmix=0.0, data=yolo.yaml, degrees=0.0, deterministic=True, device=0, dfl=1.5, dnn=False, dropout=0.0, dynamic=False, embed=None, epochs=20, erasing=0.4, exist_ok=False, fliplr=0.5, flipud=0.0, format=torchscript, fraction=1.0, freeze=None, half=False, hsv_h=0.015, hsv_s=0.7, hsv_v=0.4, imgsz=640, int8=False, iou=0.7, keras=False, kobj=1.0, line_width=None, lr0=0.01, lrf=0.01, mask_ratio=4, max_det=300, mixup=0.0, mode=train, model=yolov8n.pt, momentum=0.937, mosaic=1.0, multi_scale=False, name=yolov8n-D402, nbs=64, nms=False, opset=None, optimize=False, optimizer=auto, overlap_mask=True, patience=100, perspective=0.0, plots=True, pose=12.0, pretrained=True, profile=False, project=None, rect=False, resume=False, retina_masks=False, save=True, save_conf=False, save_crop=False, save_dir=d:\\Pothole Vision - AI Road Damage Detection\\runs\\detect\\yolov8n-D402, save_frames=False, save_json=False, save_period=-1, save_txt=False, scale=0.5, seed=0, shear=0.0, show=False, show_boxes=True, show_conf=True, show_labels=True, simplify=True, single_cls=False, source=None, split=val, stream_buffer=False, task=detect, time=None, tracker=botsort.yaml, translate=0.1, val=True, verbose=True, vid_stride=1, visualize=False, warmup_bias_lr=0.1, warmup_epochs=3.0, warmup_momentum=0.8, weight_decay=0.0005, workers=8, workspace=None\n",
      "Overriding model.yaml nc=80 with nc=1\n",
      "\n",
      "                   from  n    params  module                                       arguments                     \n",
      "  0                  -1  1       464  ultralytics.nn.modules.conv.Conv             [3, 16, 3, 2]                 \n",
      "  1                  -1  1      4672  ultralytics.nn.modules.conv.Conv             [16, 32, 3, 2]                \n",
      "  2                  -1  1      7360  ultralytics.nn.modules.block.C2f             [32, 32, 1, True]             \n",
      "  3                  -1  1     18560  ultralytics.nn.modules.conv.Conv             [32, 64, 3, 2]                \n",
      "  4                  -1  2     49664  ultralytics.nn.modules.block.C2f             [64, 64, 2, True]             \n",
      "  5                  -1  1     73984  ultralytics.nn.modules.conv.Conv             [64, 128, 3, 2]               \n",
      "  6                  -1  2    197632  ultralytics.nn.modules.block.C2f             [128, 128, 2, True]           \n",
      "  7                  -1  1    295424  ultralytics.nn.modules.conv.Conv             [128, 256, 3, 2]              \n",
      "  8                  -1  1    460288  ultralytics.nn.modules.block.C2f             [256, 256, 1, True]           \n",
      "  9                  -1  1    164608  ultralytics.nn.modules.block.SPPF            [256, 256, 5]                 \n",
      " 10                  -1  1         0  torch.nn.modules.upsampling.Upsample         [None, 2, 'nearest']          \n",
      " 11             [-1, 6]  1         0  ultralytics.nn.modules.conv.Concat           [1]                           \n",
      " 12                  -1  1    148224  ultralytics.nn.modules.block.C2f             [384, 128, 1]                 \n",
      " 13                  -1  1         0  torch.nn.modules.upsampling.Upsample         [None, 2, 'nearest']          \n",
      " 14             [-1, 4]  1         0  ultralytics.nn.modules.conv.Concat           [1]                           \n",
      " 15                  -1  1     37248  ultralytics.nn.modules.block.C2f             [192, 64, 1]                  \n",
      " 16                  -1  1     36992  ultralytics.nn.modules.conv.Conv             [64, 64, 3, 2]                \n",
      " 17            [-1, 12]  1         0  ultralytics.nn.modules.conv.Concat           [1]                           \n",
      " 18                  -1  1    123648  ultralytics.nn.modules.block.C2f             [192, 128, 1]                 \n",
      " 19                  -1  1    147712  ultralytics.nn.modules.conv.Conv             [128, 128, 3, 2]              \n",
      " 20             [-1, 9]  1         0  ultralytics.nn.modules.conv.Concat           [1]                           \n",
      " 21                  -1  1    493056  ultralytics.nn.modules.block.C2f             [384, 256, 1]                 \n",
      " 22        [15, 18, 21]  1    751507  ultralytics.nn.modules.head.Detect           [1, [64, 128, 256]]           \n",
      "Model summary: 129 layers, 3,011,043 parameters, 3,011,027 gradients, 8.2 GFLOPs\n",
      "\n",
      "Transferred 319/355 items from pretrained weights\n",
      "Freezing layer 'model.22.dfl.conv.weight'\n",
      "\u001b[34m\u001b[1mAMP: \u001b[0mrunning Automatic Mixed Precision (AMP) checks...\n",
      "\u001b[34m\u001b[1mAMP: \u001b[0mchecks passed \n",
      "\u001b[34m\u001b[1mtrain: \u001b[0mFast image access  (ping: 0.10.0 ms, read: 160.839.7 MB/s, size: 60.4 KB)\n"
     ]
    },
    {
     "name": "stderr",
     "output_type": "stream",
     "text": [
      "\u001b[34m\u001b[1mtrain: \u001b[0mScanning D:\\Pothole Vision - AI Road Damage Detection\\prepared-datasets\\yolov8\\train\\labels.cache... 2951 images, 0 backgrounds, 0 corrupt: 100%|██████████| 2951/2951 [00:00<?, ?it/s]\n"
     ]
    },
    {
     "name": "stdout",
     "output_type": "stream",
     "text": [
      "\u001b[34m\u001b[1mval: \u001b[0mFast image access  (ping: 0.00.0 ms, read: 186.993.3 MB/s, size: 70.3 KB)\n"
     ]
    },
    {
     "name": "stderr",
     "output_type": "stream",
     "text": [
      "\u001b[34m\u001b[1mval: \u001b[0mScanning D:\\Pothole Vision - AI Road Damage Detection\\prepared-datasets\\yolov8\\val\\labels.cache... 723 images, 0 backgrounds, 0 corrupt: 100%|██████████| 723/723 [00:00<?, ?it/s]\n"
     ]
    },
    {
     "name": "stdout",
     "output_type": "stream",
     "text": [
      "Plotting labels to d:\\Pothole Vision - AI Road Damage Detection\\runs\\detect\\yolov8n-D402\\labels.jpg... \n",
      "\u001b[34m\u001b[1moptimizer:\u001b[0m 'optimizer=auto' found, ignoring 'lr0=0.01' and 'momentum=0.937' and determining best 'optimizer', 'lr0' and 'momentum' automatically... \n",
      "\u001b[34m\u001b[1moptimizer:\u001b[0m AdamW(lr=0.002, momentum=0.9) with parameter groups 57 weight(decay=0.0), 64 weight(decay=0.0005), 63 bias(decay=0.0)\n",
      "Image sizes 640 train, 640 val\n",
      "Using 8 dataloader workers\n",
      "Logging results to \u001b[1md:\\Pothole Vision - AI Road Damage Detection\\runs\\detect\\yolov8n-D402\u001b[0m\n",
      "Starting training for 20 epochs...\n",
      "\n",
      "      Epoch    GPU_mem   box_loss   cls_loss   dfl_loss  Instances       Size\n"
     ]
    },
    {
     "name": "stderr",
     "output_type": "stream",
     "text": [
      "       1/20       2.1G      2.259       3.41      1.714         22        640: 100%|██████████| 185/185 [00:36<00:00,  5.10it/s]\n",
      "                 Class     Images  Instances      Box(P          R      mAP50  mAP50-95): 100%|██████████| 23/23 [00:04<00:00,  4.69it/s]\n"
     ]
    },
    {
     "name": "stdout",
     "output_type": "stream",
     "text": [
      "                   all        723       1305      0.282      0.202      0.161     0.0606\n",
      "\n",
      "      Epoch    GPU_mem   box_loss   cls_loss   dfl_loss  Instances       Size\n"
     ]
    },
    {
     "name": "stderr",
     "output_type": "stream",
     "text": [
      "       2/20      2.02G      2.229      2.635      1.747         16        640: 100%|██████████| 185/185 [00:35<00:00,  5.28it/s]\n",
      "                 Class     Images  Instances      Box(P          R      mAP50  mAP50-95): 100%|██████████| 23/23 [00:04<00:00,  4.95it/s]\n"
     ]
    },
    {
     "name": "stdout",
     "output_type": "stream",
     "text": [
      "                   all        723       1305       0.33       0.25      0.194     0.0724\n",
      "\n",
      "      Epoch    GPU_mem   box_loss   cls_loss   dfl_loss  Instances       Size\n"
     ]
    },
    {
     "name": "stderr",
     "output_type": "stream",
     "text": [
      "       3/20      2.04G      2.265      2.464      1.756         17        640: 100%|██████████| 185/185 [00:35<00:00,  5.27it/s]\n",
      "                 Class     Images  Instances      Box(P          R      mAP50  mAP50-95): 100%|██████████| 23/23 [00:04<00:00,  4.90it/s]"
     ]
    },
    {
     "name": "stdout",
     "output_type": "stream",
     "text": [
      "                   all        723       1305      0.273       0.19      0.142     0.0525\n"
     ]
    },
    {
     "name": "stderr",
     "output_type": "stream",
     "text": [
      "\n"
     ]
    },
    {
     "name": "stdout",
     "output_type": "stream",
     "text": [
      "\n",
      "      Epoch    GPU_mem   box_loss   cls_loss   dfl_loss  Instances       Size\n"
     ]
    },
    {
     "name": "stderr",
     "output_type": "stream",
     "text": [
      "       4/20      2.01G      2.245      2.384      1.756         13        640: 100%|██████████| 185/185 [00:35<00:00,  5.25it/s]\n",
      "                 Class     Images  Instances      Box(P          R      mAP50  mAP50-95): 100%|██████████| 23/23 [00:04<00:00,  4.86it/s]"
     ]
    },
    {
     "name": "stdout",
     "output_type": "stream",
     "text": [
      "                   all        723       1305      0.352      0.259      0.219      0.088\n"
     ]
    },
    {
     "name": "stderr",
     "output_type": "stream",
     "text": [
      "\n"
     ]
    },
    {
     "name": "stdout",
     "output_type": "stream",
     "text": [
      "\n",
      "      Epoch    GPU_mem   box_loss   cls_loss   dfl_loss  Instances       Size\n"
     ]
    },
    {
     "name": "stderr",
     "output_type": "stream",
     "text": [
      "       5/20      2.03G      2.183       2.25      1.698         17        640: 100%|██████████| 185/185 [00:35<00:00,  5.20it/s]\n",
      "                 Class     Images  Instances      Box(P          R      mAP50  mAP50-95): 100%|██████████| 23/23 [00:04<00:00,  4.91it/s]"
     ]
    },
    {
     "name": "stdout",
     "output_type": "stream",
     "text": [
      "                   all        723       1305      0.398      0.308       0.29      0.111\n"
     ]
    },
    {
     "name": "stderr",
     "output_type": "stream",
     "text": [
      "\n"
     ]
    },
    {
     "name": "stdout",
     "output_type": "stream",
     "text": [
      "\n",
      "      Epoch    GPU_mem   box_loss   cls_loss   dfl_loss  Instances       Size\n"
     ]
    },
    {
     "name": "stderr",
     "output_type": "stream",
     "text": [
      "       6/20      2.03G      2.152      2.206      1.692         22        640: 100%|██████████| 185/185 [00:36<00:00,  5.10it/s]\n",
      "                 Class     Images  Instances      Box(P          R      mAP50  mAP50-95): 100%|██████████| 23/23 [00:05<00:00,  4.48it/s]\n"
     ]
    },
    {
     "name": "stdout",
     "output_type": "stream",
     "text": [
      "                   all        723       1305      0.411      0.316      0.292      0.113\n",
      "\n",
      "      Epoch    GPU_mem   box_loss   cls_loss   dfl_loss  Instances       Size\n"
     ]
    },
    {
     "name": "stderr",
     "output_type": "stream",
     "text": [
      "       7/20      2.04G      2.128      2.171      1.662         10        640: 100%|██████████| 185/185 [00:36<00:00,  5.01it/s]\n",
      "                 Class     Images  Instances      Box(P          R      mAP50  mAP50-95): 100%|██████████| 23/23 [00:05<00:00,  4.37it/s]\n"
     ]
    },
    {
     "name": "stdout",
     "output_type": "stream",
     "text": [
      "                   all        723       1305      0.427      0.348      0.326      0.132\n",
      "\n",
      "      Epoch    GPU_mem   box_loss   cls_loss   dfl_loss  Instances       Size\n"
     ]
    },
    {
     "name": "stderr",
     "output_type": "stream",
     "text": [
      "       8/20      2.03G      2.087      2.107      1.641         19        640: 100%|██████████| 185/185 [00:36<00:00,  5.03it/s]\n",
      "                 Class     Images  Instances      Box(P          R      mAP50  mAP50-95): 100%|██████████| 23/23 [00:05<00:00,  4.51it/s]\n"
     ]
    },
    {
     "name": "stdout",
     "output_type": "stream",
     "text": [
      "                   all        723       1305      0.435      0.349      0.356      0.142\n",
      "\n",
      "      Epoch    GPU_mem   box_loss   cls_loss   dfl_loss  Instances       Size\n"
     ]
    },
    {
     "name": "stderr",
     "output_type": "stream",
     "text": [
      "       9/20      2.03G      2.063       2.06      1.631         18        640: 100%|██████████| 185/185 [00:35<00:00,  5.16it/s]\n",
      "                 Class     Images  Instances      Box(P          R      mAP50  mAP50-95): 100%|██████████| 23/23 [00:04<00:00,  4.83it/s]"
     ]
    },
    {
     "name": "stdout",
     "output_type": "stream",
     "text": [
      "                   all        723       1305      0.452      0.377      0.369      0.145\n"
     ]
    },
    {
     "name": "stderr",
     "output_type": "stream",
     "text": [
      "\n"
     ]
    },
    {
     "name": "stdout",
     "output_type": "stream",
     "text": [
      "\n",
      "      Epoch    GPU_mem   box_loss   cls_loss   dfl_loss  Instances       Size\n"
     ]
    },
    {
     "name": "stderr",
     "output_type": "stream",
     "text": [
      "      10/20      2.01G      2.049      1.989      1.606         24        640: 100%|██████████| 185/185 [00:35<00:00,  5.20it/s]\n",
      "                 Class     Images  Instances      Box(P          R      mAP50  mAP50-95): 100%|██████████| 23/23 [00:04<00:00,  5.00it/s]"
     ]
    },
    {
     "name": "stdout",
     "output_type": "stream",
     "text": [
      "                   all        723       1305      0.467      0.384      0.389      0.154\n"
     ]
    },
    {
     "name": "stderr",
     "output_type": "stream",
     "text": [
      "\n"
     ]
    },
    {
     "name": "stdout",
     "output_type": "stream",
     "text": [
      "Closing dataloader mosaic\n",
      "\n",
      "      Epoch    GPU_mem   box_loss   cls_loss   dfl_loss  Instances       Size\n"
     ]
    },
    {
     "name": "stderr",
     "output_type": "stream",
     "text": [
      "      11/20      2.02G      2.041      1.976      1.654         12        640: 100%|██████████| 185/185 [00:35<00:00,  5.27it/s]\n",
      "                 Class     Images  Instances      Box(P          R      mAP50  mAP50-95): 100%|██████████| 23/23 [00:04<00:00,  4.79it/s]"
     ]
    },
    {
     "name": "stdout",
     "output_type": "stream",
     "text": [
      "                   all        723       1305        0.5      0.352      0.377      0.149\n"
     ]
    },
    {
     "name": "stderr",
     "output_type": "stream",
     "text": [
      "\n"
     ]
    },
    {
     "name": "stdout",
     "output_type": "stream",
     "text": [
      "\n",
      "      Epoch    GPU_mem   box_loss   cls_loss   dfl_loss  Instances       Size\n"
     ]
    },
    {
     "name": "stderr",
     "output_type": "stream",
     "text": [
      "      12/20      2.01G      2.021      1.918      1.643          8        640: 100%|██████████| 185/185 [00:35<00:00,  5.26it/s]\n",
      "                 Class     Images  Instances      Box(P          R      mAP50  mAP50-95): 100%|██████████| 23/23 [00:04<00:00,  4.83it/s]"
     ]
    },
    {
     "name": "stdout",
     "output_type": "stream",
     "text": [
      "                   all        723       1305      0.502      0.359      0.382      0.154\n"
     ]
    },
    {
     "name": "stderr",
     "output_type": "stream",
     "text": [
      "\n"
     ]
    },
    {
     "name": "stdout",
     "output_type": "stream",
     "text": [
      "\n",
      "      Epoch    GPU_mem   box_loss   cls_loss   dfl_loss  Instances       Size\n"
     ]
    },
    {
     "name": "stderr",
     "output_type": "stream",
     "text": [
      "      13/20      2.01G      1.984      1.886      1.628         11        640: 100%|██████████| 185/185 [00:35<00:00,  5.27it/s]\n",
      "                 Class     Images  Instances      Box(P          R      mAP50  mAP50-95): 100%|██████████| 23/23 [00:04<00:00,  4.90it/s]"
     ]
    },
    {
     "name": "stdout",
     "output_type": "stream",
     "text": [
      "                   all        723       1305      0.505      0.389      0.395      0.161\n"
     ]
    },
    {
     "name": "stderr",
     "output_type": "stream",
     "text": [
      "\n"
     ]
    },
    {
     "name": "stdout",
     "output_type": "stream",
     "text": [
      "\n",
      "      Epoch    GPU_mem   box_loss   cls_loss   dfl_loss  Instances       Size\n"
     ]
    },
    {
     "name": "stderr",
     "output_type": "stream",
     "text": [
      "      14/20      2.01G      1.969      1.864      1.611          8        640: 100%|██████████| 185/185 [00:34<00:00,  5.30it/s]\n",
      "                 Class     Images  Instances      Box(P          R      mAP50  mAP50-95): 100%|██████████| 23/23 [00:04<00:00,  4.91it/s]"
     ]
    },
    {
     "name": "stdout",
     "output_type": "stream",
     "text": [
      "                   all        723       1305      0.493      0.432      0.432      0.182\n"
     ]
    },
    {
     "name": "stderr",
     "output_type": "stream",
     "text": [
      "\n"
     ]
    },
    {
     "name": "stdout",
     "output_type": "stream",
     "text": [
      "\n",
      "      Epoch    GPU_mem   box_loss   cls_loss   dfl_loss  Instances       Size\n"
     ]
    },
    {
     "name": "stderr",
     "output_type": "stream",
     "text": [
      "      15/20      2.03G      1.946       1.81      1.591         10        640: 100%|██████████| 185/185 [00:35<00:00,  5.28it/s]\n",
      "                 Class     Images  Instances      Box(P          R      mAP50  mAP50-95): 100%|██████████| 23/23 [00:04<00:00,  4.88it/s]"
     ]
    },
    {
     "name": "stdout",
     "output_type": "stream",
     "text": [
      "                   all        723       1305      0.513      0.402      0.422      0.175\n"
     ]
    },
    {
     "name": "stderr",
     "output_type": "stream",
     "text": [
      "\n"
     ]
    },
    {
     "name": "stdout",
     "output_type": "stream",
     "text": [
      "\n",
      "      Epoch    GPU_mem   box_loss   cls_loss   dfl_loss  Instances       Size\n"
     ]
    },
    {
     "name": "stderr",
     "output_type": "stream",
     "text": [
      "      16/20      2.03G      1.945      1.799      1.593          9        640: 100%|██████████| 185/185 [00:34<00:00,  5.31it/s]\n",
      "                 Class     Images  Instances      Box(P          R      mAP50  mAP50-95): 100%|██████████| 23/23 [00:04<00:00,  4.88it/s]"
     ]
    },
    {
     "name": "stdout",
     "output_type": "stream",
     "text": [
      "                   all        723       1305      0.532      0.433      0.454      0.186\n"
     ]
    },
    {
     "name": "stderr",
     "output_type": "stream",
     "text": [
      "\n"
     ]
    },
    {
     "name": "stdout",
     "output_type": "stream",
     "text": [
      "\n",
      "      Epoch    GPU_mem   box_loss   cls_loss   dfl_loss  Instances       Size\n"
     ]
    },
    {
     "name": "stderr",
     "output_type": "stream",
     "text": [
      "      17/20      2.01G      1.936      1.738      1.575         18        640: 100%|██████████| 185/185 [00:34<00:00,  5.31it/s]\n",
      "                 Class     Images  Instances      Box(P          R      mAP50  mAP50-95): 100%|██████████| 23/23 [00:04<00:00,  4.84it/s]"
     ]
    },
    {
     "name": "stdout",
     "output_type": "stream",
     "text": [
      "                   all        723       1305      0.539      0.457       0.47      0.196\n"
     ]
    },
    {
     "name": "stderr",
     "output_type": "stream",
     "text": [
      "\n"
     ]
    },
    {
     "name": "stdout",
     "output_type": "stream",
     "text": [
      "\n",
      "      Epoch    GPU_mem   box_loss   cls_loss   dfl_loss  Instances       Size\n"
     ]
    },
    {
     "name": "stderr",
     "output_type": "stream",
     "text": [
      "      18/20      2.01G      1.906      1.703      1.564          9        640: 100%|██████████| 185/185 [00:35<00:00,  5.28it/s]\n",
      "                 Class     Images  Instances      Box(P          R      mAP50  mAP50-95): 100%|██████████| 23/23 [00:04<00:00,  4.68it/s]"
     ]
    },
    {
     "name": "stdout",
     "output_type": "stream",
     "text": [
      "                   all        723       1305      0.558      0.458      0.482      0.199\n"
     ]
    },
    {
     "name": "stderr",
     "output_type": "stream",
     "text": [
      "\n"
     ]
    },
    {
     "name": "stdout",
     "output_type": "stream",
     "text": [
      "\n",
      "      Epoch    GPU_mem   box_loss   cls_loss   dfl_loss  Instances       Size\n"
     ]
    },
    {
     "name": "stderr",
     "output_type": "stream",
     "text": [
      "      19/20      2.01G      1.889      1.653      1.539          7        640: 100%|██████████| 185/185 [00:35<00:00,  5.28it/s]\n",
      "                 Class     Images  Instances      Box(P          R      mAP50  mAP50-95): 100%|██████████| 23/23 [00:04<00:00,  4.83it/s]"
     ]
    },
    {
     "name": "stdout",
     "output_type": "stream",
     "text": [
      "                   all        723       1305      0.564      0.461       0.49      0.209\n"
     ]
    },
    {
     "name": "stderr",
     "output_type": "stream",
     "text": [
      "\n"
     ]
    },
    {
     "name": "stdout",
     "output_type": "stream",
     "text": [
      "\n",
      "      Epoch    GPU_mem   box_loss   cls_loss   dfl_loss  Instances       Size\n"
     ]
    },
    {
     "name": "stderr",
     "output_type": "stream",
     "text": [
      "      20/20      2.02G      1.865      1.631      1.535         15        640: 100%|██████████| 185/185 [00:35<00:00,  5.27it/s]\n",
      "                 Class     Images  Instances      Box(P          R      mAP50  mAP50-95): 100%|██████████| 23/23 [00:04<00:00,  4.89it/s]"
     ]
    },
    {
     "name": "stdout",
     "output_type": "stream",
     "text": [
      "                   all        723       1305      0.596      0.449      0.494      0.211\n"
     ]
    },
    {
     "name": "stderr",
     "output_type": "stream",
     "text": [
      "\n"
     ]
    },
    {
     "name": "stdout",
     "output_type": "stream",
     "text": [
      "\n",
      "20 epochs completed in 0.230 hours.\n",
      "Optimizer stripped from d:\\Pothole Vision - AI Road Damage Detection\\runs\\detect\\yolov8n-D402\\weights\\last.pt, 6.2MB\n",
      "Optimizer stripped from d:\\Pothole Vision - AI Road Damage Detection\\runs\\detect\\yolov8n-D402\\weights\\best.pt, 6.2MB\n",
      "\n",
      "Validating d:\\Pothole Vision - AI Road Damage Detection\\runs\\detect\\yolov8n-D402\\weights\\best.pt...\n",
      "Ultralytics 8.3.135  Python-3.10.9 torch-2.5.1+cu121 CUDA:0 (NVIDIA GeForce RTX 3050 Laptop GPU, 4096MiB)\n",
      "Model summary (fused): 72 layers, 3,005,843 parameters, 0 gradients, 8.1 GFLOPs\n"
     ]
    },
    {
     "name": "stderr",
     "output_type": "stream",
     "text": [
      "                 Class     Images  Instances      Box(P          R      mAP50  mAP50-95): 100%|██████████| 23/23 [00:04<00:00,  4.86it/s]\n"
     ]
    },
    {
     "name": "stdout",
     "output_type": "stream",
     "text": [
      "                   all        723       1305      0.597      0.451      0.494      0.211\n",
      "Speed: 0.2ms preprocess, 2.8ms inference, 0.0ms loss, 1.0ms postprocess per image\n",
      "Results saved to \u001b[1md:\\Pothole Vision - AI Road Damage Detection\\runs\\detect\\yolov8n-D402\u001b[0m\n"
     ]
    },
    {
     "data": {
      "text/plain": [
       "ultralytics.utils.metrics.DetMetrics object with attributes:\n",
       "\n",
       "ap_class_index: array([0])\n",
       "box: ultralytics.utils.metrics.Metric object\n",
       "confusion_matrix: <ultralytics.utils.metrics.ConfusionMatrix object at 0x0000017890339750>\n",
       "curves: ['Precision-Recall(B)', 'F1-Confidence(B)', 'Precision-Confidence(B)', 'Recall-Confidence(B)']\n",
       "curves_results: [[array([          0,    0.001001,    0.002002,    0.003003,    0.004004,    0.005005,    0.006006,    0.007007,    0.008008,    0.009009,     0.01001,    0.011011,    0.012012,    0.013013,    0.014014,    0.015015,    0.016016,    0.017017,    0.018018,    0.019019,     0.02002,    0.021021,    0.022022,    0.023023,\n",
       "          0.024024,    0.025025,    0.026026,    0.027027,    0.028028,    0.029029,     0.03003,    0.031031,    0.032032,    0.033033,    0.034034,    0.035035,    0.036036,    0.037037,    0.038038,    0.039039,     0.04004,    0.041041,    0.042042,    0.043043,    0.044044,    0.045045,    0.046046,    0.047047,\n",
       "          0.048048,    0.049049,     0.05005,    0.051051,    0.052052,    0.053053,    0.054054,    0.055055,    0.056056,    0.057057,    0.058058,    0.059059,     0.06006,    0.061061,    0.062062,    0.063063,    0.064064,    0.065065,    0.066066,    0.067067,    0.068068,    0.069069,     0.07007,    0.071071,\n",
       "          0.072072,    0.073073,    0.074074,    0.075075,    0.076076,    0.077077,    0.078078,    0.079079,     0.08008,    0.081081,    0.082082,    0.083083,    0.084084,    0.085085,    0.086086,    0.087087,    0.088088,    0.089089,     0.09009,    0.091091,    0.092092,    0.093093,    0.094094,    0.095095,\n",
       "          0.096096,    0.097097,    0.098098,    0.099099,      0.1001,      0.1011,      0.1021,      0.1031,      0.1041,     0.10511,     0.10611,     0.10711,     0.10811,     0.10911,     0.11011,     0.11111,     0.11211,     0.11311,     0.11411,     0.11512,     0.11612,     0.11712,     0.11812,     0.11912,\n",
       "           0.12012,     0.12112,     0.12212,     0.12312,     0.12412,     0.12513,     0.12613,     0.12713,     0.12813,     0.12913,     0.13013,     0.13113,     0.13213,     0.13313,     0.13413,     0.13514,     0.13614,     0.13714,     0.13814,     0.13914,     0.14014,     0.14114,     0.14214,     0.14314,\n",
       "           0.14414,     0.14515,     0.14615,     0.14715,     0.14815,     0.14915,     0.15015,     0.15115,     0.15215,     0.15315,     0.15415,     0.15516,     0.15616,     0.15716,     0.15816,     0.15916,     0.16016,     0.16116,     0.16216,     0.16316,     0.16416,     0.16517,     0.16617,     0.16717,\n",
       "           0.16817,     0.16917,     0.17017,     0.17117,     0.17217,     0.17317,     0.17417,     0.17518,     0.17618,     0.17718,     0.17818,     0.17918,     0.18018,     0.18118,     0.18218,     0.18318,     0.18418,     0.18519,     0.18619,     0.18719,     0.18819,     0.18919,     0.19019,     0.19119,\n",
       "           0.19219,     0.19319,     0.19419,      0.1952,      0.1962,      0.1972,      0.1982,      0.1992,      0.2002,      0.2012,      0.2022,      0.2032,      0.2042,     0.20521,     0.20621,     0.20721,     0.20821,     0.20921,     0.21021,     0.21121,     0.21221,     0.21321,     0.21421,     0.21522,\n",
       "           0.21622,     0.21722,     0.21822,     0.21922,     0.22022,     0.22122,     0.22222,     0.22322,     0.22422,     0.22523,     0.22623,     0.22723,     0.22823,     0.22923,     0.23023,     0.23123,     0.23223,     0.23323,     0.23423,     0.23524,     0.23624,     0.23724,     0.23824,     0.23924,\n",
       "           0.24024,     0.24124,     0.24224,     0.24324,     0.24424,     0.24525,     0.24625,     0.24725,     0.24825,     0.24925,     0.25025,     0.25125,     0.25225,     0.25325,     0.25425,     0.25526,     0.25626,     0.25726,     0.25826,     0.25926,     0.26026,     0.26126,     0.26226,     0.26326,\n",
       "           0.26426,     0.26527,     0.26627,     0.26727,     0.26827,     0.26927,     0.27027,     0.27127,     0.27227,     0.27327,     0.27427,     0.27528,     0.27628,     0.27728,     0.27828,     0.27928,     0.28028,     0.28128,     0.28228,     0.28328,     0.28428,     0.28529,     0.28629,     0.28729,\n",
       "           0.28829,     0.28929,     0.29029,     0.29129,     0.29229,     0.29329,     0.29429,      0.2953,      0.2963,      0.2973,      0.2983,      0.2993,      0.3003,      0.3013,      0.3023,      0.3033,      0.3043,     0.30531,     0.30631,     0.30731,     0.30831,     0.30931,     0.31031,     0.31131,\n",
       "           0.31231,     0.31331,     0.31431,     0.31532,     0.31632,     0.31732,     0.31832,     0.31932,     0.32032,     0.32132,     0.32232,     0.32332,     0.32432,     0.32533,     0.32633,     0.32733,     0.32833,     0.32933,     0.33033,     0.33133,     0.33233,     0.33333,     0.33433,     0.33534,\n",
       "           0.33634,     0.33734,     0.33834,     0.33934,     0.34034,     0.34134,     0.34234,     0.34334,     0.34434,     0.34535,     0.34635,     0.34735,     0.34835,     0.34935,     0.35035,     0.35135,     0.35235,     0.35335,     0.35435,     0.35536,     0.35636,     0.35736,     0.35836,     0.35936,\n",
       "           0.36036,     0.36136,     0.36236,     0.36336,     0.36436,     0.36537,     0.36637,     0.36737,     0.36837,     0.36937,     0.37037,     0.37137,     0.37237,     0.37337,     0.37437,     0.37538,     0.37638,     0.37738,     0.37838,     0.37938,     0.38038,     0.38138,     0.38238,     0.38338,\n",
       "           0.38438,     0.38539,     0.38639,     0.38739,     0.38839,     0.38939,     0.39039,     0.39139,     0.39239,     0.39339,     0.39439,      0.3954,      0.3964,      0.3974,      0.3984,      0.3994,      0.4004,      0.4014,      0.4024,      0.4034,      0.4044,     0.40541,     0.40641,     0.40741,\n",
       "           0.40841,     0.40941,     0.41041,     0.41141,     0.41241,     0.41341,     0.41441,     0.41542,     0.41642,     0.41742,     0.41842,     0.41942,     0.42042,     0.42142,     0.42242,     0.42342,     0.42442,     0.42543,     0.42643,     0.42743,     0.42843,     0.42943,     0.43043,     0.43143,\n",
       "           0.43243,     0.43343,     0.43443,     0.43544,     0.43644,     0.43744,     0.43844,     0.43944,     0.44044,     0.44144,     0.44244,     0.44344,     0.44444,     0.44545,     0.44645,     0.44745,     0.44845,     0.44945,     0.45045,     0.45145,     0.45245,     0.45345,     0.45445,     0.45546,\n",
       "           0.45646,     0.45746,     0.45846,     0.45946,     0.46046,     0.46146,     0.46246,     0.46346,     0.46446,     0.46547,     0.46647,     0.46747,     0.46847,     0.46947,     0.47047,     0.47147,     0.47247,     0.47347,     0.47447,     0.47548,     0.47648,     0.47748,     0.47848,     0.47948,\n",
       "           0.48048,     0.48148,     0.48248,     0.48348,     0.48448,     0.48549,     0.48649,     0.48749,     0.48849,     0.48949,     0.49049,     0.49149,     0.49249,     0.49349,     0.49449,      0.4955,      0.4965,      0.4975,      0.4985,      0.4995,      0.5005,      0.5015,      0.5025,      0.5035,\n",
       "            0.5045,     0.50551,     0.50651,     0.50751,     0.50851,     0.50951,     0.51051,     0.51151,     0.51251,     0.51351,     0.51451,     0.51552,     0.51652,     0.51752,     0.51852,     0.51952,     0.52052,     0.52152,     0.52252,     0.52352,     0.52452,     0.52553,     0.52653,     0.52753,\n",
       "           0.52853,     0.52953,     0.53053,     0.53153,     0.53253,     0.53353,     0.53453,     0.53554,     0.53654,     0.53754,     0.53854,     0.53954,     0.54054,     0.54154,     0.54254,     0.54354,     0.54454,     0.54555,     0.54655,     0.54755,     0.54855,     0.54955,     0.55055,     0.55155,\n",
       "           0.55255,     0.55355,     0.55455,     0.55556,     0.55656,     0.55756,     0.55856,     0.55956,     0.56056,     0.56156,     0.56256,     0.56356,     0.56456,     0.56557,     0.56657,     0.56757,     0.56857,     0.56957,     0.57057,     0.57157,     0.57257,     0.57357,     0.57457,     0.57558,\n",
       "           0.57658,     0.57758,     0.57858,     0.57958,     0.58058,     0.58158,     0.58258,     0.58358,     0.58458,     0.58559,     0.58659,     0.58759,     0.58859,     0.58959,     0.59059,     0.59159,     0.59259,     0.59359,     0.59459,      0.5956,      0.5966,      0.5976,      0.5986,      0.5996,\n",
       "            0.6006,      0.6016,      0.6026,      0.6036,      0.6046,     0.60561,     0.60661,     0.60761,     0.60861,     0.60961,     0.61061,     0.61161,     0.61261,     0.61361,     0.61461,     0.61562,     0.61662,     0.61762,     0.61862,     0.61962,     0.62062,     0.62162,     0.62262,     0.62362,\n",
       "           0.62462,     0.62563,     0.62663,     0.62763,     0.62863,     0.62963,     0.63063,     0.63163,     0.63263,     0.63363,     0.63463,     0.63564,     0.63664,     0.63764,     0.63864,     0.63964,     0.64064,     0.64164,     0.64264,     0.64364,     0.64464,     0.64565,     0.64665,     0.64765,\n",
       "           0.64865,     0.64965,     0.65065,     0.65165,     0.65265,     0.65365,     0.65465,     0.65566,     0.65666,     0.65766,     0.65866,     0.65966,     0.66066,     0.66166,     0.66266,     0.66366,     0.66466,     0.66567,     0.66667,     0.66767,     0.66867,     0.66967,     0.67067,     0.67167,\n",
       "           0.67267,     0.67367,     0.67467,     0.67568,     0.67668,     0.67768,     0.67868,     0.67968,     0.68068,     0.68168,     0.68268,     0.68368,     0.68468,     0.68569,     0.68669,     0.68769,     0.68869,     0.68969,     0.69069,     0.69169,     0.69269,     0.69369,     0.69469,      0.6957,\n",
       "            0.6967,      0.6977,      0.6987,      0.6997,      0.7007,      0.7017,      0.7027,      0.7037,      0.7047,     0.70571,     0.70671,     0.70771,     0.70871,     0.70971,     0.71071,     0.71171,     0.71271,     0.71371,     0.71471,     0.71572,     0.71672,     0.71772,     0.71872,     0.71972,\n",
       "           0.72072,     0.72172,     0.72272,     0.72372,     0.72472,     0.72573,     0.72673,     0.72773,     0.72873,     0.72973,     0.73073,     0.73173,     0.73273,     0.73373,     0.73473,     0.73574,     0.73674,     0.73774,     0.73874,     0.73974,     0.74074,     0.74174,     0.74274,     0.74374,\n",
       "           0.74474,     0.74575,     0.74675,     0.74775,     0.74875,     0.74975,     0.75075,     0.75175,     0.75275,     0.75375,     0.75475,     0.75576,     0.75676,     0.75776,     0.75876,     0.75976,     0.76076,     0.76176,     0.76276,     0.76376,     0.76476,     0.76577,     0.76677,     0.76777,\n",
       "           0.76877,     0.76977,     0.77077,     0.77177,     0.77277,     0.77377,     0.77477,     0.77578,     0.77678,     0.77778,     0.77878,     0.77978,     0.78078,     0.78178,     0.78278,     0.78378,     0.78478,     0.78579,     0.78679,     0.78779,     0.78879,     0.78979,     0.79079,     0.79179,\n",
       "           0.79279,     0.79379,     0.79479,      0.7958,      0.7968,      0.7978,      0.7988,      0.7998,      0.8008,      0.8018,      0.8028,      0.8038,      0.8048,     0.80581,     0.80681,     0.80781,     0.80881,     0.80981,     0.81081,     0.81181,     0.81281,     0.81381,     0.81481,     0.81582,\n",
       "           0.81682,     0.81782,     0.81882,     0.81982,     0.82082,     0.82182,     0.82282,     0.82382,     0.82482,     0.82583,     0.82683,     0.82783,     0.82883,     0.82983,     0.83083,     0.83183,     0.83283,     0.83383,     0.83483,     0.83584,     0.83684,     0.83784,     0.83884,     0.83984,\n",
       "           0.84084,     0.84184,     0.84284,     0.84384,     0.84484,     0.84585,     0.84685,     0.84785,     0.84885,     0.84985,     0.85085,     0.85185,     0.85285,     0.85385,     0.85485,     0.85586,     0.85686,     0.85786,     0.85886,     0.85986,     0.86086,     0.86186,     0.86286,     0.86386,\n",
       "           0.86486,     0.86587,     0.86687,     0.86787,     0.86887,     0.86987,     0.87087,     0.87187,     0.87287,     0.87387,     0.87487,     0.87588,     0.87688,     0.87788,     0.87888,     0.87988,     0.88088,     0.88188,     0.88288,     0.88388,     0.88488,     0.88589,     0.88689,     0.88789,\n",
       "           0.88889,     0.88989,     0.89089,     0.89189,     0.89289,     0.89389,     0.89489,      0.8959,      0.8969,      0.8979,      0.8989,      0.8999,      0.9009,      0.9019,      0.9029,      0.9039,      0.9049,     0.90591,     0.90691,     0.90791,     0.90891,     0.90991,     0.91091,     0.91191,\n",
       "           0.91291,     0.91391,     0.91491,     0.91592,     0.91692,     0.91792,     0.91892,     0.91992,     0.92092,     0.92192,     0.92292,     0.92392,     0.92492,     0.92593,     0.92693,     0.92793,     0.92893,     0.92993,     0.93093,     0.93193,     0.93293,     0.93393,     0.93493,     0.93594,\n",
       "           0.93694,     0.93794,     0.93894,     0.93994,     0.94094,     0.94194,     0.94294,     0.94394,     0.94494,     0.94595,     0.94695,     0.94795,     0.94895,     0.94995,     0.95095,     0.95195,     0.95295,     0.95395,     0.95495,     0.95596,     0.95696,     0.95796,     0.95896,     0.95996,\n",
       "           0.96096,     0.96196,     0.96296,     0.96396,     0.96496,     0.96597,     0.96697,     0.96797,     0.96897,     0.96997,     0.97097,     0.97197,     0.97297,     0.97397,     0.97497,     0.97598,     0.97698,     0.97798,     0.97898,     0.97998,     0.98098,     0.98198,     0.98298,     0.98398,\n",
       "           0.98498,     0.98599,     0.98699,     0.98799,     0.98899,     0.98999,     0.99099,     0.99199,     0.99299,     0.99399,     0.99499,       0.996,       0.997,       0.998,       0.999,           1]), array([[          1,           1,           1,           1,           1,           1,           1,           1,           1,           1,           1,           1,     0.97059,     0.97059,     0.97059,     0.97059,     0.97059,     0.97059,     0.97059,     0.97059,     0.97059,     0.97059,     0.97059,\n",
       "            0.97059,     0.97059,     0.97059,     0.96774,     0.96774,     0.96774,     0.96774,     0.96774,     0.96774,     0.96774,     0.96774,     0.96774,     0.96774,     0.96774,     0.96774,     0.96774,     0.96774,     0.96774,     0.96774,     0.96774,     0.96774,     0.96774,     0.96774,\n",
       "            0.95833,     0.95833,     0.95833,     0.95833,     0.95833,     0.95833,     0.95833,     0.95062,     0.95062,     0.95062,     0.95062,     0.95062,     0.95062,     0.94186,     0.94186,     0.94186,     0.94186,     0.92593,     0.92593,     0.92593,     0.92593,     0.92593,     0.92593,\n",
       "            0.92593,     0.92593,     0.92593,     0.92593,     0.92593,     0.92593,     0.92593,     0.92593,     0.91975,     0.91975,     0.91975,     0.91975,     0.91975,     0.91975,     0.91975,     0.91975,     0.91975,     0.91975,     0.91975,     0.91975,     0.91975,     0.91975,     0.91975,\n",
       "            0.91975,     0.91975,     0.91975,     0.91975,     0.91975,     0.91975,     0.91975,     0.91975,     0.91975,     0.91975,     0.91975,     0.91975,     0.91975,     0.91975,     0.91975,     0.91975,     0.91975,     0.91975,     0.91975,     0.91975,     0.91975,     0.91975,     0.91975,\n",
       "            0.91515,     0.90116,     0.90116,     0.90116,     0.90055,     0.90055,     0.90055,     0.90055,     0.90055,     0.90055,     0.89806,     0.89806,     0.89806,     0.89806,     0.89806,     0.89806,     0.89806,     0.89806,     0.89806,     0.89806,     0.89806,     0.89806,     0.89806,\n",
       "            0.89806,     0.89806,     0.89806,     0.89806,     0.89565,     0.89565,     0.89565,     0.89565,     0.89565,     0.89565,     0.89565,     0.89565,     0.89565,     0.89565,     0.89565,     0.89565,     0.89565,     0.89565,     0.89565,     0.89565,      0.8927,      0.8927,     0.89189,\n",
       "            0.89189,     0.89189,     0.89189,     0.89189,     0.89189,     0.89189,     0.89189,     0.89189,     0.89189,     0.89189,     0.89189,     0.89189,     0.89189,     0.89189,     0.89189,     0.89189,     0.88931,     0.88931,     0.88346,      0.8806,     0.87868,     0.87868,     0.87591,\n",
       "             0.8741,      0.8741,      0.8741,     0.86926,     0.86926,     0.86713,     0.86458,     0.86301,     0.86301,     0.85906,     0.85906,     0.85906,     0.85538,     0.85538,     0.85538,     0.85538,     0.85538,     0.85538,     0.85538,     0.85538,     0.85538,     0.85538,     0.85538,\n",
       "            0.85538,     0.85538,     0.85538,     0.85538,     0.85538,     0.85538,     0.85455,     0.85455,     0.85455,     0.85241,     0.85119,     0.85119,     0.84911,     0.84795,     0.84795,     0.84483,     0.84483,     0.84483,     0.84483,      0.8433,     0.84136,     0.84123,     0.84123,\n",
       "            0.84123,     0.84123,     0.83747,     0.82973,     0.82973,     0.82973,     0.82933,     0.82933,     0.82933,      0.8285,      0.8285,     0.82723,     0.82597,     0.82597,     0.82474,     0.82443,     0.82443,     0.82443,     0.82443,     0.82338,     0.82338,     0.82338,     0.82338,\n",
       "            0.82338,     0.81975,     0.81687,     0.81687,     0.81687,     0.81687,     0.81687,     0.81429,     0.81429,     0.81221,     0.81221,     0.81221,     0.81075,     0.80787,     0.80787,      0.8032,     0.80272,     0.80272,     0.80135,     0.80089,     0.80089,     0.80089,     0.79823,\n",
       "            0.79691,      0.7956,     0.79476,     0.79079,     0.79079,     0.79079,     0.79079,     0.79079,     0.79079,     0.79079,     0.79079,     0.79079,     0.79079,     0.79079,     0.78958,     0.78745,     0.78745,     0.78745,     0.78745,     0.78745,     0.78745,     0.78745,     0.78629,\n",
       "            0.78514,     0.78443,     0.78261,     0.78261,     0.78261,     0.77583,     0.77519,     0.77519,     0.77159,     0.77099,     0.77099,      0.7704,     0.76792,      0.7671,      0.7671,      0.7671,      0.7671,      0.7671,      0.7671,     0.76685,     0.76685,     0.76685,     0.76685,\n",
       "            0.76685,     0.76588,     0.76481,     0.76481,     0.76481,     0.76157,     0.75832,     0.75832,     0.75832,     0.75832,      0.7561,     0.75563,     0.75517,     0.75517,      0.7543,     0.75211,     0.75211,     0.75211,     0.75211,     0.75211,        0.75,     0.74876,     0.74876,\n",
       "            0.74876,     0.74876,     0.74468,     0.74468,     0.74388,     0.74152,     0.74152,     0.73955,     0.73684,     0.73651,     0.73651,     0.72628,     0.72628,     0.72558,     0.72531,     0.72435,     0.72435,     0.72435,     0.71861,     0.71687,     0.71557,     0.71386,     0.71365,\n",
       "            0.71365,     0.70968,     0.70968,     0.70803,     0.70725,     0.70725,     0.70504,     0.70504,     0.70286,     0.70228,     0.70113,     0.70042,     0.70042,     0.70042,     0.69916,     0.69916,     0.69916,     0.69379,     0.69273,     0.69262,     0.69262,      0.6922,      0.6922,\n",
       "             0.6922,      0.6922,      0.6922,      0.6922,     0.69076,     0.68289,     0.68289,     0.68241,     0.67704,     0.67658,     0.67179,     0.67087,     0.67087,     0.67087,     0.67087,     0.67087,     0.67087,     0.66917,     0.66875,      0.6589,      0.6589,     0.65812,     0.65773,\n",
       "            0.65697,     0.65501,     0.64994,     0.64958,     0.64277,     0.64252,     0.64252,     0.64252,     0.64186,     0.64079,     0.63899,      0.6373,      0.6373,     0.63595,     0.63492,      0.6339,     0.62653,     0.62458,     0.61816,     0.61656,     0.61297,     0.61117,     0.61093,\n",
       "            0.60939,     0.60764,     0.60485,     0.60188,     0.60042,         0.6,         0.6,     0.59877,     0.59877,     0.59755,     0.59755,     0.59695,     0.59695,     0.59695,     0.59517,     0.59517,     0.59064,     0.59046,     0.59028,     0.58893,      0.5876,     0.58325,     0.58309,\n",
       "            0.58261,     0.58261,     0.58133,     0.58006,     0.57264,     0.57223,     0.57223,      0.5721,     0.57076,     0.57076,     0.56538,     0.56307,     0.56091,     0.55978,     0.55447,     0.55447,     0.55447,     0.55447,     0.55447,     0.55447,     0.54436,     0.54436,     0.54436,\n",
       "            0.54436,     0.54428,     0.54274,     0.54274,     0.53484,     0.53034,      0.5281,     0.52369,     0.52365,     0.52107,     0.51932,      0.5168,     0.51513,     0.51429,     0.50899,     0.50899,     0.50425,      0.5023,     0.50192,     0.50191,         0.5,         0.5,         0.5,\n",
       "            0.49662,     0.49552,     0.49405,     0.49223,      0.4919,      0.4919,     0.49047,     0.48765,     0.48103,     0.48003,     0.47368,     0.47273,     0.47244,     0.47149,     0.46676,     0.46676,     0.46589,     0.46216,     0.45973,     0.45828,     0.45828,     0.45828,     0.45828,\n",
       "            0.45828,     0.45743,     0.45658,     0.45609,     0.45074,     0.45074,     0.45074,     0.45051,     0.44571,     0.44409,      0.4434,     0.43851,     0.43831,     0.43532,     0.43532,      0.4346,     0.43415,     0.43289,     0.43289,     0.43289,     0.43046,     0.42823,     0.42688,\n",
       "            0.42621,     0.42529,     0.42364,     0.42169,     0.42169,     0.42163,     0.42163,     0.42084,       0.419,     0.41743,     0.41629,     0.41629,     0.41526,     0.41526,     0.41526,     0.41513,     0.41347,      0.4132,      0.4132,     0.41147,     0.40974,     0.40974,      0.4065,\n",
       "            0.40387,     0.40203,     0.40106,     0.40064,     0.40053,         0.4,     0.39822,     0.39389,     0.39339,     0.39269,     0.39191,     0.38804,      0.3864,     0.38278,     0.37488,     0.37175,     0.36757,     0.36735,     0.36557,     0.36552,     0.36237,     0.36007,     0.36007,\n",
       "            0.35799,     0.35799,     0.35799,     0.35485,     0.35419,     0.35381,     0.35064,     0.34557,     0.34435,     0.34389,     0.34091,     0.34032,     0.33944,     0.33842,     0.33403,     0.33333,     0.33086,     0.33086,     0.32951,     0.32885,     0.32594,     0.32568,     0.32322,\n",
       "            0.32209,     0.32147,     0.31997,     0.31689,      0.3152,     0.31413,     0.31382,     0.31336,     0.31184,     0.31127,     0.30749,     0.30718,     0.30709,     0.30281,     0.30281,     0.30178,     0.30087,     0.30087,     0.30079,     0.29882,     0.29811,     0.29799,     0.29799,\n",
       "            0.29799,     0.29799,      0.2949,     0.29375,     0.29267,     0.29221,     0.29204,     0.29204,     0.29019,     0.28998,     0.28924,     0.28919,     0.28797,       0.285,     0.28327,     0.28285,     0.28175,     0.27746,     0.27721,     0.27691,     0.27451,     0.27431,     0.27338,\n",
       "            0.27131,     0.27115,     0.27115,     0.27029,      0.2696,     0.26703,     0.26482,     0.26361,     0.26273,     0.26084,     0.25968,     0.25823,     0.25673,     0.24951,     0.24951,      0.2484,     0.24433,     0.24433,     0.24408,     0.24309,     0.24107,     0.24089,     0.23861,\n",
       "            0.23832,     0.23832,     0.23771,     0.23042,     0.23014,     0.23011,     0.22667,     0.22667,     0.22214,     0.22109,     0.21979,     0.21867,      0.2181,     0.21629,     0.21505,     0.21192,     0.20798,      0.2075,     0.20726,     0.20536,     0.20306,     0.20288,     0.20039,\n",
       "            0.19889,     0.19205,     0.19105,     0.19067,     0.19056,     0.18752,     0.18457,     0.18375,     0.18293,     0.18284,     0.18261,     0.18157,      0.1803,     0.17977,     0.17965,      0.1794,     0.17786,     0.17759,     0.17754,     0.17732,     0.17594,     0.17519,     0.17422,\n",
       "            0.17045,     0.16984,     0.16939,      0.1673,     0.16315,     0.16118,     0.15973,     0.15973,     0.15929,     0.15861,     0.15756,     0.15755,      0.1546,     0.15459,     0.15284,     0.15263,     0.15153,     0.15097,     0.15075,     0.15007,     0.14864,     0.14797,     0.14666,\n",
       "            0.14308,     0.14208,     0.14016,     0.13934,      0.1388,     0.13592,     0.13592,     0.13588,     0.13588,     0.13557,     0.13555,     0.13536,     0.13503,     0.13452,     0.13255,      0.1291,     0.12766,     0.12739,     0.12649,     0.12638,     0.12551,     0.12486,     0.12415,\n",
       "            0.12377,     0.12325,     0.12175,     0.12142,     0.12087,     0.11688,     0.11565,     0.11193,     0.10915,     0.10842,     0.10703,     0.10702,     0.10569,     0.10569,     0.10399,     0.10324,     0.10265,     0.10228,    0.099279,    0.098848,    0.096965,    0.095364,    0.094159,\n",
       "           0.093337,    0.093112,    0.092091,    0.091294,    0.091231,    0.089427,    0.089098,    0.087232,    0.085382,    0.084673,    0.083405,     0.08297,    0.082945,    0.080716,    0.079283,    0.078483,    0.076967,    0.076967,    0.076502,    0.076011,    0.075847,    0.075038,    0.075038,\n",
       "           0.074221,    0.074097,    0.073197,    0.071745,    0.071461,      0.0714,     0.07077,    0.070233,    0.069676,    0.068911,    0.068911,    0.067272,    0.064395,    0.063365,    0.063077,    0.062239,    0.061724,    0.061303,    0.059084,    0.058506,    0.057968,    0.055486,    0.055128,\n",
       "           0.053155,    0.053114,     0.05234,    0.051849,    0.049837,    0.049347,    0.048849,    0.048627,    0.047404,     0.04699,    0.046908,    0.045521,    0.045449,    0.044473,    0.044073,    0.043944,    0.042974,    0.042898,    0.042766,    0.042725,    0.040947,    0.040634,    0.040619,\n",
       "           0.040597,    0.039736,    0.038089,    0.036911,    0.036911,    0.036886,    0.036694,    0.036678,    0.035393,    0.035272,    0.034427,    0.029104,     0.02871,    0.027985,    0.027577,    0.027043,    0.026161,     0.02614,    0.025881,    0.025558,    0.024937,    0.023787,     0.02253,\n",
       "           0.021658,    0.020828,    0.020287,    0.020141,    0.020111,    0.019343,    0.019144,    0.018945,    0.018745,    0.018546,    0.018346,    0.018147,    0.017948,    0.017748,    0.017549,    0.017349,     0.01715,     0.01695,    0.016751,    0.016552,    0.016352,    0.016153,    0.015953,\n",
       "           0.015754,    0.015555,    0.015355,    0.015156,    0.014956,    0.014757,    0.014557,    0.014358,    0.014159,    0.013959,     0.01376,     0.01356,    0.013361,    0.013162,    0.012962,    0.012763,    0.012563,    0.012364,    0.012164,    0.011965,    0.011766,    0.011566,    0.011367,\n",
       "           0.011167,    0.010968,    0.010769,    0.010569,     0.01037,     0.01017,   0.0099709,   0.0097714,    0.009572,   0.0093726,   0.0091732,   0.0089738,   0.0087744,   0.0085749,   0.0083755,   0.0081761,   0.0079767,   0.0077773,   0.0075779,   0.0073784,    0.007179,   0.0069796,   0.0067802,\n",
       "          0.0065808,   0.0063814,   0.0061819,   0.0059825,   0.0057831,   0.0055837,   0.0053843,   0.0051848,   0.0049854,    0.004786,   0.0045866,   0.0043872,   0.0041878,   0.0039883,   0.0037889,   0.0035895,   0.0033901,   0.0031907,   0.0029913,   0.0027918,   0.0025924,    0.002393,   0.0021936,\n",
       "          0.0019942,   0.0017948,   0.0015953,   0.0013959,   0.0011965,  0.00099709,  0.00079767,  0.00059825,  0.00039883,  0.00019942,           0]]), 'Recall', 'Precision'], [array([          0,    0.001001,    0.002002,    0.003003,    0.004004,    0.005005,    0.006006,    0.007007,    0.008008,    0.009009,     0.01001,    0.011011,    0.012012,    0.013013,    0.014014,    0.015015,    0.016016,    0.017017,    0.018018,    0.019019,     0.02002,    0.021021,    0.022022,    0.023023,\n",
       "          0.024024,    0.025025,    0.026026,    0.027027,    0.028028,    0.029029,     0.03003,    0.031031,    0.032032,    0.033033,    0.034034,    0.035035,    0.036036,    0.037037,    0.038038,    0.039039,     0.04004,    0.041041,    0.042042,    0.043043,    0.044044,    0.045045,    0.046046,    0.047047,\n",
       "          0.048048,    0.049049,     0.05005,    0.051051,    0.052052,    0.053053,    0.054054,    0.055055,    0.056056,    0.057057,    0.058058,    0.059059,     0.06006,    0.061061,    0.062062,    0.063063,    0.064064,    0.065065,    0.066066,    0.067067,    0.068068,    0.069069,     0.07007,    0.071071,\n",
       "          0.072072,    0.073073,    0.074074,    0.075075,    0.076076,    0.077077,    0.078078,    0.079079,     0.08008,    0.081081,    0.082082,    0.083083,    0.084084,    0.085085,    0.086086,    0.087087,    0.088088,    0.089089,     0.09009,    0.091091,    0.092092,    0.093093,    0.094094,    0.095095,\n",
       "          0.096096,    0.097097,    0.098098,    0.099099,      0.1001,      0.1011,      0.1021,      0.1031,      0.1041,     0.10511,     0.10611,     0.10711,     0.10811,     0.10911,     0.11011,     0.11111,     0.11211,     0.11311,     0.11411,     0.11512,     0.11612,     0.11712,     0.11812,     0.11912,\n",
       "           0.12012,     0.12112,     0.12212,     0.12312,     0.12412,     0.12513,     0.12613,     0.12713,     0.12813,     0.12913,     0.13013,     0.13113,     0.13213,     0.13313,     0.13413,     0.13514,     0.13614,     0.13714,     0.13814,     0.13914,     0.14014,     0.14114,     0.14214,     0.14314,\n",
       "           0.14414,     0.14515,     0.14615,     0.14715,     0.14815,     0.14915,     0.15015,     0.15115,     0.15215,     0.15315,     0.15415,     0.15516,     0.15616,     0.15716,     0.15816,     0.15916,     0.16016,     0.16116,     0.16216,     0.16316,     0.16416,     0.16517,     0.16617,     0.16717,\n",
       "           0.16817,     0.16917,     0.17017,     0.17117,     0.17217,     0.17317,     0.17417,     0.17518,     0.17618,     0.17718,     0.17818,     0.17918,     0.18018,     0.18118,     0.18218,     0.18318,     0.18418,     0.18519,     0.18619,     0.18719,     0.18819,     0.18919,     0.19019,     0.19119,\n",
       "           0.19219,     0.19319,     0.19419,      0.1952,      0.1962,      0.1972,      0.1982,      0.1992,      0.2002,      0.2012,      0.2022,      0.2032,      0.2042,     0.20521,     0.20621,     0.20721,     0.20821,     0.20921,     0.21021,     0.21121,     0.21221,     0.21321,     0.21421,     0.21522,\n",
       "           0.21622,     0.21722,     0.21822,     0.21922,     0.22022,     0.22122,     0.22222,     0.22322,     0.22422,     0.22523,     0.22623,     0.22723,     0.22823,     0.22923,     0.23023,     0.23123,     0.23223,     0.23323,     0.23423,     0.23524,     0.23624,     0.23724,     0.23824,     0.23924,\n",
       "           0.24024,     0.24124,     0.24224,     0.24324,     0.24424,     0.24525,     0.24625,     0.24725,     0.24825,     0.24925,     0.25025,     0.25125,     0.25225,     0.25325,     0.25425,     0.25526,     0.25626,     0.25726,     0.25826,     0.25926,     0.26026,     0.26126,     0.26226,     0.26326,\n",
       "           0.26426,     0.26527,     0.26627,     0.26727,     0.26827,     0.26927,     0.27027,     0.27127,     0.27227,     0.27327,     0.27427,     0.27528,     0.27628,     0.27728,     0.27828,     0.27928,     0.28028,     0.28128,     0.28228,     0.28328,     0.28428,     0.28529,     0.28629,     0.28729,\n",
       "           0.28829,     0.28929,     0.29029,     0.29129,     0.29229,     0.29329,     0.29429,      0.2953,      0.2963,      0.2973,      0.2983,      0.2993,      0.3003,      0.3013,      0.3023,      0.3033,      0.3043,     0.30531,     0.30631,     0.30731,     0.30831,     0.30931,     0.31031,     0.31131,\n",
       "           0.31231,     0.31331,     0.31431,     0.31532,     0.31632,     0.31732,     0.31832,     0.31932,     0.32032,     0.32132,     0.32232,     0.32332,     0.32432,     0.32533,     0.32633,     0.32733,     0.32833,     0.32933,     0.33033,     0.33133,     0.33233,     0.33333,     0.33433,     0.33534,\n",
       "           0.33634,     0.33734,     0.33834,     0.33934,     0.34034,     0.34134,     0.34234,     0.34334,     0.34434,     0.34535,     0.34635,     0.34735,     0.34835,     0.34935,     0.35035,     0.35135,     0.35235,     0.35335,     0.35435,     0.35536,     0.35636,     0.35736,     0.35836,     0.35936,\n",
       "           0.36036,     0.36136,     0.36236,     0.36336,     0.36436,     0.36537,     0.36637,     0.36737,     0.36837,     0.36937,     0.37037,     0.37137,     0.37237,     0.37337,     0.37437,     0.37538,     0.37638,     0.37738,     0.37838,     0.37938,     0.38038,     0.38138,     0.38238,     0.38338,\n",
       "           0.38438,     0.38539,     0.38639,     0.38739,     0.38839,     0.38939,     0.39039,     0.39139,     0.39239,     0.39339,     0.39439,      0.3954,      0.3964,      0.3974,      0.3984,      0.3994,      0.4004,      0.4014,      0.4024,      0.4034,      0.4044,     0.40541,     0.40641,     0.40741,\n",
       "           0.40841,     0.40941,     0.41041,     0.41141,     0.41241,     0.41341,     0.41441,     0.41542,     0.41642,     0.41742,     0.41842,     0.41942,     0.42042,     0.42142,     0.42242,     0.42342,     0.42442,     0.42543,     0.42643,     0.42743,     0.42843,     0.42943,     0.43043,     0.43143,\n",
       "           0.43243,     0.43343,     0.43443,     0.43544,     0.43644,     0.43744,     0.43844,     0.43944,     0.44044,     0.44144,     0.44244,     0.44344,     0.44444,     0.44545,     0.44645,     0.44745,     0.44845,     0.44945,     0.45045,     0.45145,     0.45245,     0.45345,     0.45445,     0.45546,\n",
       "           0.45646,     0.45746,     0.45846,     0.45946,     0.46046,     0.46146,     0.46246,     0.46346,     0.46446,     0.46547,     0.46647,     0.46747,     0.46847,     0.46947,     0.47047,     0.47147,     0.47247,     0.47347,     0.47447,     0.47548,     0.47648,     0.47748,     0.47848,     0.47948,\n",
       "           0.48048,     0.48148,     0.48248,     0.48348,     0.48448,     0.48549,     0.48649,     0.48749,     0.48849,     0.48949,     0.49049,     0.49149,     0.49249,     0.49349,     0.49449,      0.4955,      0.4965,      0.4975,      0.4985,      0.4995,      0.5005,      0.5015,      0.5025,      0.5035,\n",
       "            0.5045,     0.50551,     0.50651,     0.50751,     0.50851,     0.50951,     0.51051,     0.51151,     0.51251,     0.51351,     0.51451,     0.51552,     0.51652,     0.51752,     0.51852,     0.51952,     0.52052,     0.52152,     0.52252,     0.52352,     0.52452,     0.52553,     0.52653,     0.52753,\n",
       "           0.52853,     0.52953,     0.53053,     0.53153,     0.53253,     0.53353,     0.53453,     0.53554,     0.53654,     0.53754,     0.53854,     0.53954,     0.54054,     0.54154,     0.54254,     0.54354,     0.54454,     0.54555,     0.54655,     0.54755,     0.54855,     0.54955,     0.55055,     0.55155,\n",
       "           0.55255,     0.55355,     0.55455,     0.55556,     0.55656,     0.55756,     0.55856,     0.55956,     0.56056,     0.56156,     0.56256,     0.56356,     0.56456,     0.56557,     0.56657,     0.56757,     0.56857,     0.56957,     0.57057,     0.57157,     0.57257,     0.57357,     0.57457,     0.57558,\n",
       "           0.57658,     0.57758,     0.57858,     0.57958,     0.58058,     0.58158,     0.58258,     0.58358,     0.58458,     0.58559,     0.58659,     0.58759,     0.58859,     0.58959,     0.59059,     0.59159,     0.59259,     0.59359,     0.59459,      0.5956,      0.5966,      0.5976,      0.5986,      0.5996,\n",
       "            0.6006,      0.6016,      0.6026,      0.6036,      0.6046,     0.60561,     0.60661,     0.60761,     0.60861,     0.60961,     0.61061,     0.61161,     0.61261,     0.61361,     0.61461,     0.61562,     0.61662,     0.61762,     0.61862,     0.61962,     0.62062,     0.62162,     0.62262,     0.62362,\n",
       "           0.62462,     0.62563,     0.62663,     0.62763,     0.62863,     0.62963,     0.63063,     0.63163,     0.63263,     0.63363,     0.63463,     0.63564,     0.63664,     0.63764,     0.63864,     0.63964,     0.64064,     0.64164,     0.64264,     0.64364,     0.64464,     0.64565,     0.64665,     0.64765,\n",
       "           0.64865,     0.64965,     0.65065,     0.65165,     0.65265,     0.65365,     0.65465,     0.65566,     0.65666,     0.65766,     0.65866,     0.65966,     0.66066,     0.66166,     0.66266,     0.66366,     0.66466,     0.66567,     0.66667,     0.66767,     0.66867,     0.66967,     0.67067,     0.67167,\n",
       "           0.67267,     0.67367,     0.67467,     0.67568,     0.67668,     0.67768,     0.67868,     0.67968,     0.68068,     0.68168,     0.68268,     0.68368,     0.68468,     0.68569,     0.68669,     0.68769,     0.68869,     0.68969,     0.69069,     0.69169,     0.69269,     0.69369,     0.69469,      0.6957,\n",
       "            0.6967,      0.6977,      0.6987,      0.6997,      0.7007,      0.7017,      0.7027,      0.7037,      0.7047,     0.70571,     0.70671,     0.70771,     0.70871,     0.70971,     0.71071,     0.71171,     0.71271,     0.71371,     0.71471,     0.71572,     0.71672,     0.71772,     0.71872,     0.71972,\n",
       "           0.72072,     0.72172,     0.72272,     0.72372,     0.72472,     0.72573,     0.72673,     0.72773,     0.72873,     0.72973,     0.73073,     0.73173,     0.73273,     0.73373,     0.73473,     0.73574,     0.73674,     0.73774,     0.73874,     0.73974,     0.74074,     0.74174,     0.74274,     0.74374,\n",
       "           0.74474,     0.74575,     0.74675,     0.74775,     0.74875,     0.74975,     0.75075,     0.75175,     0.75275,     0.75375,     0.75475,     0.75576,     0.75676,     0.75776,     0.75876,     0.75976,     0.76076,     0.76176,     0.76276,     0.76376,     0.76476,     0.76577,     0.76677,     0.76777,\n",
       "           0.76877,     0.76977,     0.77077,     0.77177,     0.77277,     0.77377,     0.77477,     0.77578,     0.77678,     0.77778,     0.77878,     0.77978,     0.78078,     0.78178,     0.78278,     0.78378,     0.78478,     0.78579,     0.78679,     0.78779,     0.78879,     0.78979,     0.79079,     0.79179,\n",
       "           0.79279,     0.79379,     0.79479,      0.7958,      0.7968,      0.7978,      0.7988,      0.7998,      0.8008,      0.8018,      0.8028,      0.8038,      0.8048,     0.80581,     0.80681,     0.80781,     0.80881,     0.80981,     0.81081,     0.81181,     0.81281,     0.81381,     0.81481,     0.81582,\n",
       "           0.81682,     0.81782,     0.81882,     0.81982,     0.82082,     0.82182,     0.82282,     0.82382,     0.82482,     0.82583,     0.82683,     0.82783,     0.82883,     0.82983,     0.83083,     0.83183,     0.83283,     0.83383,     0.83483,     0.83584,     0.83684,     0.83784,     0.83884,     0.83984,\n",
       "           0.84084,     0.84184,     0.84284,     0.84384,     0.84484,     0.84585,     0.84685,     0.84785,     0.84885,     0.84985,     0.85085,     0.85185,     0.85285,     0.85385,     0.85485,     0.85586,     0.85686,     0.85786,     0.85886,     0.85986,     0.86086,     0.86186,     0.86286,     0.86386,\n",
       "           0.86486,     0.86587,     0.86687,     0.86787,     0.86887,     0.86987,     0.87087,     0.87187,     0.87287,     0.87387,     0.87487,     0.87588,     0.87688,     0.87788,     0.87888,     0.87988,     0.88088,     0.88188,     0.88288,     0.88388,     0.88488,     0.88589,     0.88689,     0.88789,\n",
       "           0.88889,     0.88989,     0.89089,     0.89189,     0.89289,     0.89389,     0.89489,      0.8959,      0.8969,      0.8979,      0.8989,      0.8999,      0.9009,      0.9019,      0.9029,      0.9039,      0.9049,     0.90591,     0.90691,     0.90791,     0.90891,     0.90991,     0.91091,     0.91191,\n",
       "           0.91291,     0.91391,     0.91491,     0.91592,     0.91692,     0.91792,     0.91892,     0.91992,     0.92092,     0.92192,     0.92292,     0.92392,     0.92492,     0.92593,     0.92693,     0.92793,     0.92893,     0.92993,     0.93093,     0.93193,     0.93293,     0.93393,     0.93493,     0.93594,\n",
       "           0.93694,     0.93794,     0.93894,     0.93994,     0.94094,     0.94194,     0.94294,     0.94394,     0.94494,     0.94595,     0.94695,     0.94795,     0.94895,     0.94995,     0.95095,     0.95195,     0.95295,     0.95395,     0.95495,     0.95596,     0.95696,     0.95796,     0.95896,     0.95996,\n",
       "           0.96096,     0.96196,     0.96296,     0.96396,     0.96496,     0.96597,     0.96697,     0.96797,     0.96897,     0.96997,     0.97097,     0.97197,     0.97297,     0.97397,     0.97497,     0.97598,     0.97698,     0.97798,     0.97898,     0.97998,     0.98098,     0.98198,     0.98298,     0.98398,\n",
       "           0.98498,     0.98599,     0.98699,     0.98799,     0.98899,     0.98999,     0.99099,     0.99199,     0.99299,     0.99399,     0.99499,       0.996,       0.997,       0.998,       0.999,           1]), array([[   0.038252,    0.038252,    0.055464,    0.069933,    0.082109,    0.093076,     0.10347,     0.11295,     0.12215,     0.13043,     0.13826,     0.14516,     0.15229,      0.1595,     0.16618,     0.17282,     0.17898,     0.18521,     0.19076,     0.19691,     0.20314,      0.2086,       0.214,\n",
       "            0.21856,     0.22312,     0.22827,       0.231,     0.23599,     0.24026,     0.24554,     0.24955,     0.25369,     0.25768,     0.26133,      0.2645,      0.2685,     0.27255,     0.27574,     0.27912,     0.28267,      0.2856,     0.28821,     0.29105,     0.29376,     0.29676,     0.30092,\n",
       "             0.3036,     0.30747,     0.31164,     0.31508,     0.31796,     0.32066,      0.3238,     0.32666,     0.33037,      0.3333,     0.33655,     0.33916,      0.3419,     0.34476,      0.3464,     0.34935,     0.35255,     0.35437,     0.35764,     0.35951,     0.36159,     0.36437,     0.36714,\n",
       "            0.36976,     0.37243,     0.37509,     0.37644,     0.37891,      0.3815,     0.38409,     0.38569,     0.38676,     0.38836,     0.39072,     0.39254,     0.39462,     0.39562,     0.39755,     0.40022,      0.4016,      0.4028,     0.40324,     0.40474,     0.40752,      0.4082,     0.40885,\n",
       "            0.40952,     0.41167,     0.41345,     0.41466,     0.41712,      0.4178,     0.41944,     0.42088,     0.42263,     0.42426,     0.42573,     0.42647,      0.4278,     0.42941,      0.4302,     0.43222,      0.4335,      0.4351,     0.43669,     0.43887,     0.43978,     0.44083,     0.44378,\n",
       "             0.4456,     0.44778,     0.44784,     0.44902,     0.44939,     0.45236,     0.45327,     0.45459,     0.45636,     0.45786,     0.46103,     0.46317,     0.46444,     0.46596,      0.4671,     0.46813,     0.46959,     0.46995,     0.47007,      0.4721,      0.4725,     0.47341,     0.47446,\n",
       "            0.47589,     0.47623,       0.477,     0.47725,     0.47921,      0.4796,     0.47875,     0.47862,     0.47935,     0.47963,     0.47997,     0.48091,     0.48119,     0.48168,     0.48255,     0.48316,     0.48277,      0.4834,     0.48312,     0.48443,     0.48401,     0.48603,     0.48665,\n",
       "            0.48744,     0.48854,     0.48911,      0.4899,     0.49106,     0.49099,     0.49128,     0.48968,     0.48928,     0.49098,     0.49247,     0.49272,      0.4918,     0.49319,     0.49413,     0.49398,     0.49392,     0.49497,      0.4962,     0.49672,     0.49679,     0.49855,     0.49987,\n",
       "            0.50037,     0.50033,     0.50126,     0.50039,     0.50127,     0.50149,      0.5008,     0.50149,      0.5013,     0.50222,     0.50161,     0.50181,     0.50291,     0.50347,     0.50332,     0.50364,     0.50397,     0.50468,     0.50492,      0.5053,     0.50541,     0.50657,     0.50598,\n",
       "            0.50641,     0.50675,     0.50726,      0.5082,     0.50871,     0.50992,     0.51038,     0.51132,     0.51195,     0.51324,       0.512,     0.51087,     0.51008,     0.51088,     0.51162,      0.5128,     0.51404,     0.51187,     0.51108,     0.51227,     0.51295,     0.51295,     0.51294,\n",
       "            0.51405,     0.51444,     0.51453,     0.51303,     0.51391,     0.51497,     0.51516,     0.51372,      0.5136,     0.51392,     0.51406,     0.51397,     0.51239,     0.51366,     0.51384,     0.51313,     0.51343,      0.5123,     0.51204,     0.51089,     0.50991,     0.50923,     0.50921,\n",
       "            0.50871,     0.50876,     0.50888,     0.50897,      0.5087,     0.50833,     0.50818,     0.50915,     0.50927,     0.51066,     0.51013,     0.50994,      0.5102,     0.51065,     0.51156,     0.51148,     0.51061,     0.51117,      0.5099,     0.50959,     0.50953,     0.50899,     0.50723,\n",
       "            0.50635,     0.50683,     0.50744,     0.50799,     0.50748,     0.50861,     0.50797,     0.50749,     0.50738,     0.50539,     0.50718,     0.50818,     0.50741,     0.50714,     0.50359,     0.50391,     0.50293,      0.5026,     0.50254,     0.50282,     0.50254,     0.50287,     0.50313,\n",
       "            0.50244,     0.50195,     0.50236,     0.50263,     0.50284,     0.50143,     0.50011,     0.49731,     0.49712,     0.49637,     0.49559,     0.49483,      0.4954,     0.49608,     0.49472,     0.49415,     0.49292,      0.4918,     0.49126,     0.49076,     0.48877,     0.48891,     0.48842,\n",
       "            0.48734,     0.48653,     0.48539,      0.4859,     0.48503,     0.48358,     0.48313,     0.48274,     0.48192,     0.48272,     0.48305,     0.48232,     0.48168,     0.48101,     0.48129,     0.47844,     0.47867,     0.47921,     0.47814,     0.47765,     0.47748,     0.47668,     0.47625,\n",
       "             0.4759,     0.47532,     0.47548,     0.47346,     0.47376,     0.47195,     0.47136,     0.47053,     0.47011,     0.46999,     0.46985,     0.46863,     0.46618,     0.46541,     0.46481,     0.46448,     0.46316,     0.46227,     0.46158,     0.46128,      0.4611,     0.45861,     0.45773,\n",
       "            0.45836,     0.45849,     0.45653,     0.45568,     0.45457,     0.45437,     0.45364,     0.45195,     0.45006,     0.45021,     0.44881,     0.44627,     0.44419,     0.44336,     0.44212,     0.44063,     0.43954,     0.43982,     0.43714,     0.43763,     0.43702,     0.43719,     0.43732,\n",
       "            0.43643,     0.43475,     0.43519,     0.43487,     0.43454,     0.43295,     0.43271,     0.43233,     0.43029,     0.42925,     0.42764,     0.42499,     0.42502,     0.42438,     0.42462,     0.42398,     0.42296,      0.4185,     0.41603,     0.41512,      0.4142,     0.41328,     0.41259,\n",
       "            0.41211,     0.41261,     0.41234,     0.41129,     0.41063,     0.41003,     0.40997,      0.4084,     0.40703,      0.4061,     0.40528,      0.4054,     0.40277,     0.40289,     0.40212,     0.40235,      0.4016,      0.4003,     0.39961,     0.39621,     0.39526,     0.39398,     0.39343,\n",
       "            0.39167,     0.39071,     0.38975,     0.38968,     0.38897,     0.38754,     0.38702,     0.38511,     0.38414,     0.38316,     0.38329,     0.37926,     0.37877,     0.37706,     0.37657,     0.37627,     0.37529,     0.37444,     0.37426,     0.37327,     0.37153,     0.37054,     0.37013,\n",
       "            0.36877,     0.36777,     0.36504,     0.36404,     0.36399,      0.3629,     0.36283,     0.36295,     0.35868,     0.35818,     0.35821,     0.35744,     0.35609,     0.35558,     0.35569,     0.35483,     0.35381,     0.35279,     0.35167,     0.35116,     0.34964,     0.34916,     0.34851,\n",
       "            0.34747,     0.34644,     0.34562,     0.34378,     0.34172,     0.34092,     0.34102,     0.33982,     0.33775,     0.33568,     0.33281,     0.33246,      0.3321,     0.33065,     0.33012,     0.32832,     0.32623,     0.32517,      0.3241,     0.32324,     0.32237,     0.31921,     0.31873,\n",
       "            0.31766,     0.31589,     0.31535,     0.31534,     0.31479,     0.31258,     0.31172,     0.31025,      0.3097,     0.30888,     0.30779,     0.30669,     0.30672,     0.30682,     0.30647,     0.30483,     0.30292,     0.30298,     0.30305,     0.30188,     0.29989,     0.29907,     0.29852,\n",
       "            0.29522,     0.29529,     0.29535,     0.29505,     0.29312,     0.29284,     0.29256,     0.29228,     0.29164,     0.28942,      0.2872,     0.28607,     0.28273,     0.28232,     0.28064,     0.27616,     0.27502,     0.27387,     0.27362,     0.27287,     0.27044,     0.27005,     0.26947,\n",
       "            0.26522,     0.26293,     0.26128,     0.26089,      0.2605,     0.25862,     0.25766,     0.25484,     0.25204,     0.25117,     0.25058,     0.24734,     0.24499,     0.24465,     0.24177,     0.24118,     0.24088,     0.24058,     0.24028,     0.23695,     0.23457,     0.23101,     0.22862,\n",
       "            0.22859,     0.22753,     0.22705,     0.22665,     0.22624,     0.22384,     0.22153,     0.21932,     0.21867,     0.21744,     0.21621,     0.21377,     0.21133,     0.20838,     0.20797,     0.20755,      0.2065,     0.20514,     0.20536,     0.20543,     0.20436,     0.20166,     0.20103,\n",
       "            0.20011,     0.19762,     0.19636,     0.19261,     0.19134,     0.18883,     0.18505,     0.18292,     0.18228,     0.18209,     0.18212,     0.18215,     0.18217,     0.18183,     0.17424,     0.17294,     0.17065,     0.17013,     0.16961,     0.16457,     0.15919,     0.15893,     0.15866,\n",
       "             0.1584,     0.15807,     0.15552,     0.15499,     0.15446,     0.15385,     0.15318,     0.15252,     0.15185,     0.15069,      0.1497,     0.14627,      0.1456,     0.14521,     0.14268,     0.14273,     0.14038,     0.13895,      0.1376,     0.13725,     0.13691,     0.13658,     0.13603,\n",
       "            0.13413,     0.13333,     0.13288,     0.13243,     0.13001,     0.12897,     0.12794,     0.12677,     0.12608,     0.12532,     0.12441,     0.12436,     0.12315,     0.12177,     0.12082,     0.11968,     0.11634,     0.11462,     0.11373,     0.11338,     0.11303,     0.11268,     0.11233,\n",
       "            0.11193,     0.11153,     0.11113,     0.11041,     0.10955,     0.10885,     0.10807,     0.10714,     0.10679,     0.10654,     0.10628,     0.10603,     0.10577,     0.10544,     0.10504,     0.10464,     0.10265,     0.10128,     0.10088,     0.10047,     0.10016,     0.10002,    0.099075,\n",
       "           0.098307,    0.097598,    0.096323,    0.093057,    0.092344,    0.088934,    0.088456,    0.087979,    0.087734,    0.087767,    0.087301,    0.084942,    0.083983,    0.083161,    0.082441,    0.079051,    0.078569,    0.078086,    0.076019,    0.075293,    0.074748,    0.074263,    0.073778,\n",
       "            0.07335,    0.072934,    0.072518,     0.07073,    0.070438,    0.070146,    0.069854,    0.069561,    0.068908,    0.067986,    0.067813,    0.067641,    0.067469,    0.067297,    0.067124,    0.066952,    0.066779,    0.066607,    0.065433,    0.063312,    0.062822,    0.062331,    0.059545,\n",
       "           0.058509,    0.057523,    0.056536,    0.055788,    0.055033,    0.053485,    0.051748,    0.051004,    0.050509,    0.050177,    0.049846,    0.049515,    0.049259,    0.049284,    0.047676,    0.047077,    0.046478,     0.04555,    0.041618,    0.040614,     0.03997,    0.039366,    0.038579,\n",
       "           0.037572,    0.037365,    0.037164,    0.036962,    0.036761,    0.036559,    0.036357,    0.036155,    0.034202,    0.033595,    0.032771,     0.03162,    0.031503,    0.031386,    0.031269,    0.031152,    0.031035,    0.030918,    0.030801,    0.030683,    0.030566,    0.030449,    0.030332,\n",
       "           0.030215,    0.028089,    0.027146,    0.026764,    0.026382,       0.026,    0.023987,    0.022965,    0.022714,    0.022718,    0.022722,    0.022727,    0.022206,    0.021591,    0.020598,    0.019281,    0.018253,    0.018127,    0.018027,    0.017928,    0.017828,    0.017728,    0.017629,\n",
       "           0.017529,     0.01743,     0.01733,    0.017231,    0.017131,    0.017031,    0.016932,    0.016832,    0.016732,    0.016455,    0.016146,    0.015837,    0.015527,    0.015218,    0.015105,    0.014999,    0.014892,    0.014785,    0.014679,    0.014572,    0.014465,    0.014358,    0.014251,\n",
       "           0.014145,    0.014038,    0.013931,    0.013824,    0.013717,    0.013528,    0.013321,    0.013115,    0.012908,    0.012701,    0.012494,    0.012288,    0.011923,    0.011405,    0.010887,    0.010606,    0.010495,    0.010384,    0.010273,    0.010162,    0.010051,   0.0099398,   0.0098287,\n",
       "          0.0097176,   0.0096065,   0.0094953,   0.0093842,    0.009273,   0.0091618,   0.0081947,   0.0076169,   0.0075807,   0.0075444,   0.0075081,   0.0074719,   0.0074356,   0.0073994,   0.0073631,   0.0073268,   0.0072906,   0.0072543,    0.007218,   0.0071818,   0.0071455,   0.0071092,   0.0070729,\n",
       "          0.0070367,   0.0070004,   0.0069641,   0.0069278,   0.0068915,   0.0068553,    0.006819,   0.0067827,   0.0067464,   0.0067101,   0.0066738,   0.0066375,   0.0066012,    0.006565,   0.0065287,   0.0064924,   0.0064561,   0.0064198,   0.0063835,   0.0063472,   0.0063109,   0.0062746,   0.0062383,\n",
       "           0.006202,   0.0061656,   0.0061293,   0.0045826,   0.0043741,   0.0041655,   0.0039569,   0.0037482,   0.0035395,   0.0033308,    0.003122,   0.0030236,   0.0029714,   0.0029192,    0.002867,   0.0028148,   0.0027626,   0.0027104,   0.0026581,   0.0026059,   0.0025537,   0.0025014,   0.0024492,\n",
       "           0.002397,   0.0023447,   0.0022925,   0.0022402,    0.002188,   0.0021357,   0.0020835,   0.0020312,    0.001979,   0.0019267,   0.0018744,   0.0018222,   0.0017699,   0.0017176,   0.0016654,   0.0016131,   0.0015608,           0,           0,           0,           0,           0,           0,\n",
       "                  0,           0,           0,           0,           0,           0,           0,           0,           0,           0,           0,           0,           0,           0,           0,           0,           0,           0,           0,           0,           0,           0,           0,\n",
       "                  0,           0,           0,           0,           0,           0,           0,           0,           0,           0,           0,           0,           0,           0,           0,           0,           0,           0,           0,           0,           0,           0,           0,\n",
       "                  0,           0,           0,           0,           0,           0,           0,           0,           0,           0,           0]]), 'Confidence', 'F1'], [array([          0,    0.001001,    0.002002,    0.003003,    0.004004,    0.005005,    0.006006,    0.007007,    0.008008,    0.009009,     0.01001,    0.011011,    0.012012,    0.013013,    0.014014,    0.015015,    0.016016,    0.017017,    0.018018,    0.019019,     0.02002,    0.021021,    0.022022,    0.023023,\n",
       "          0.024024,    0.025025,    0.026026,    0.027027,    0.028028,    0.029029,     0.03003,    0.031031,    0.032032,    0.033033,    0.034034,    0.035035,    0.036036,    0.037037,    0.038038,    0.039039,     0.04004,    0.041041,    0.042042,    0.043043,    0.044044,    0.045045,    0.046046,    0.047047,\n",
       "          0.048048,    0.049049,     0.05005,    0.051051,    0.052052,    0.053053,    0.054054,    0.055055,    0.056056,    0.057057,    0.058058,    0.059059,     0.06006,    0.061061,    0.062062,    0.063063,    0.064064,    0.065065,    0.066066,    0.067067,    0.068068,    0.069069,     0.07007,    0.071071,\n",
       "          0.072072,    0.073073,    0.074074,    0.075075,    0.076076,    0.077077,    0.078078,    0.079079,     0.08008,    0.081081,    0.082082,    0.083083,    0.084084,    0.085085,    0.086086,    0.087087,    0.088088,    0.089089,     0.09009,    0.091091,    0.092092,    0.093093,    0.094094,    0.095095,\n",
       "          0.096096,    0.097097,    0.098098,    0.099099,      0.1001,      0.1011,      0.1021,      0.1031,      0.1041,     0.10511,     0.10611,     0.10711,     0.10811,     0.10911,     0.11011,     0.11111,     0.11211,     0.11311,     0.11411,     0.11512,     0.11612,     0.11712,     0.11812,     0.11912,\n",
       "           0.12012,     0.12112,     0.12212,     0.12312,     0.12412,     0.12513,     0.12613,     0.12713,     0.12813,     0.12913,     0.13013,     0.13113,     0.13213,     0.13313,     0.13413,     0.13514,     0.13614,     0.13714,     0.13814,     0.13914,     0.14014,     0.14114,     0.14214,     0.14314,\n",
       "           0.14414,     0.14515,     0.14615,     0.14715,     0.14815,     0.14915,     0.15015,     0.15115,     0.15215,     0.15315,     0.15415,     0.15516,     0.15616,     0.15716,     0.15816,     0.15916,     0.16016,     0.16116,     0.16216,     0.16316,     0.16416,     0.16517,     0.16617,     0.16717,\n",
       "           0.16817,     0.16917,     0.17017,     0.17117,     0.17217,     0.17317,     0.17417,     0.17518,     0.17618,     0.17718,     0.17818,     0.17918,     0.18018,     0.18118,     0.18218,     0.18318,     0.18418,     0.18519,     0.18619,     0.18719,     0.18819,     0.18919,     0.19019,     0.19119,\n",
       "           0.19219,     0.19319,     0.19419,      0.1952,      0.1962,      0.1972,      0.1982,      0.1992,      0.2002,      0.2012,      0.2022,      0.2032,      0.2042,     0.20521,     0.20621,     0.20721,     0.20821,     0.20921,     0.21021,     0.21121,     0.21221,     0.21321,     0.21421,     0.21522,\n",
       "           0.21622,     0.21722,     0.21822,     0.21922,     0.22022,     0.22122,     0.22222,     0.22322,     0.22422,     0.22523,     0.22623,     0.22723,     0.22823,     0.22923,     0.23023,     0.23123,     0.23223,     0.23323,     0.23423,     0.23524,     0.23624,     0.23724,     0.23824,     0.23924,\n",
       "           0.24024,     0.24124,     0.24224,     0.24324,     0.24424,     0.24525,     0.24625,     0.24725,     0.24825,     0.24925,     0.25025,     0.25125,     0.25225,     0.25325,     0.25425,     0.25526,     0.25626,     0.25726,     0.25826,     0.25926,     0.26026,     0.26126,     0.26226,     0.26326,\n",
       "           0.26426,     0.26527,     0.26627,     0.26727,     0.26827,     0.26927,     0.27027,     0.27127,     0.27227,     0.27327,     0.27427,     0.27528,     0.27628,     0.27728,     0.27828,     0.27928,     0.28028,     0.28128,     0.28228,     0.28328,     0.28428,     0.28529,     0.28629,     0.28729,\n",
       "           0.28829,     0.28929,     0.29029,     0.29129,     0.29229,     0.29329,     0.29429,      0.2953,      0.2963,      0.2973,      0.2983,      0.2993,      0.3003,      0.3013,      0.3023,      0.3033,      0.3043,     0.30531,     0.30631,     0.30731,     0.30831,     0.30931,     0.31031,     0.31131,\n",
       "           0.31231,     0.31331,     0.31431,     0.31532,     0.31632,     0.31732,     0.31832,     0.31932,     0.32032,     0.32132,     0.32232,     0.32332,     0.32432,     0.32533,     0.32633,     0.32733,     0.32833,     0.32933,     0.33033,     0.33133,     0.33233,     0.33333,     0.33433,     0.33534,\n",
       "           0.33634,     0.33734,     0.33834,     0.33934,     0.34034,     0.34134,     0.34234,     0.34334,     0.34434,     0.34535,     0.34635,     0.34735,     0.34835,     0.34935,     0.35035,     0.35135,     0.35235,     0.35335,     0.35435,     0.35536,     0.35636,     0.35736,     0.35836,     0.35936,\n",
       "           0.36036,     0.36136,     0.36236,     0.36336,     0.36436,     0.36537,     0.36637,     0.36737,     0.36837,     0.36937,     0.37037,     0.37137,     0.37237,     0.37337,     0.37437,     0.37538,     0.37638,     0.37738,     0.37838,     0.37938,     0.38038,     0.38138,     0.38238,     0.38338,\n",
       "           0.38438,     0.38539,     0.38639,     0.38739,     0.38839,     0.38939,     0.39039,     0.39139,     0.39239,     0.39339,     0.39439,      0.3954,      0.3964,      0.3974,      0.3984,      0.3994,      0.4004,      0.4014,      0.4024,      0.4034,      0.4044,     0.40541,     0.40641,     0.40741,\n",
       "           0.40841,     0.40941,     0.41041,     0.41141,     0.41241,     0.41341,     0.41441,     0.41542,     0.41642,     0.41742,     0.41842,     0.41942,     0.42042,     0.42142,     0.42242,     0.42342,     0.42442,     0.42543,     0.42643,     0.42743,     0.42843,     0.42943,     0.43043,     0.43143,\n",
       "           0.43243,     0.43343,     0.43443,     0.43544,     0.43644,     0.43744,     0.43844,     0.43944,     0.44044,     0.44144,     0.44244,     0.44344,     0.44444,     0.44545,     0.44645,     0.44745,     0.44845,     0.44945,     0.45045,     0.45145,     0.45245,     0.45345,     0.45445,     0.45546,\n",
       "           0.45646,     0.45746,     0.45846,     0.45946,     0.46046,     0.46146,     0.46246,     0.46346,     0.46446,     0.46547,     0.46647,     0.46747,     0.46847,     0.46947,     0.47047,     0.47147,     0.47247,     0.47347,     0.47447,     0.47548,     0.47648,     0.47748,     0.47848,     0.47948,\n",
       "           0.48048,     0.48148,     0.48248,     0.48348,     0.48448,     0.48549,     0.48649,     0.48749,     0.48849,     0.48949,     0.49049,     0.49149,     0.49249,     0.49349,     0.49449,      0.4955,      0.4965,      0.4975,      0.4985,      0.4995,      0.5005,      0.5015,      0.5025,      0.5035,\n",
       "            0.5045,     0.50551,     0.50651,     0.50751,     0.50851,     0.50951,     0.51051,     0.51151,     0.51251,     0.51351,     0.51451,     0.51552,     0.51652,     0.51752,     0.51852,     0.51952,     0.52052,     0.52152,     0.52252,     0.52352,     0.52452,     0.52553,     0.52653,     0.52753,\n",
       "           0.52853,     0.52953,     0.53053,     0.53153,     0.53253,     0.53353,     0.53453,     0.53554,     0.53654,     0.53754,     0.53854,     0.53954,     0.54054,     0.54154,     0.54254,     0.54354,     0.54454,     0.54555,     0.54655,     0.54755,     0.54855,     0.54955,     0.55055,     0.55155,\n",
       "           0.55255,     0.55355,     0.55455,     0.55556,     0.55656,     0.55756,     0.55856,     0.55956,     0.56056,     0.56156,     0.56256,     0.56356,     0.56456,     0.56557,     0.56657,     0.56757,     0.56857,     0.56957,     0.57057,     0.57157,     0.57257,     0.57357,     0.57457,     0.57558,\n",
       "           0.57658,     0.57758,     0.57858,     0.57958,     0.58058,     0.58158,     0.58258,     0.58358,     0.58458,     0.58559,     0.58659,     0.58759,     0.58859,     0.58959,     0.59059,     0.59159,     0.59259,     0.59359,     0.59459,      0.5956,      0.5966,      0.5976,      0.5986,      0.5996,\n",
       "            0.6006,      0.6016,      0.6026,      0.6036,      0.6046,     0.60561,     0.60661,     0.60761,     0.60861,     0.60961,     0.61061,     0.61161,     0.61261,     0.61361,     0.61461,     0.61562,     0.61662,     0.61762,     0.61862,     0.61962,     0.62062,     0.62162,     0.62262,     0.62362,\n",
       "           0.62462,     0.62563,     0.62663,     0.62763,     0.62863,     0.62963,     0.63063,     0.63163,     0.63263,     0.63363,     0.63463,     0.63564,     0.63664,     0.63764,     0.63864,     0.63964,     0.64064,     0.64164,     0.64264,     0.64364,     0.64464,     0.64565,     0.64665,     0.64765,\n",
       "           0.64865,     0.64965,     0.65065,     0.65165,     0.65265,     0.65365,     0.65465,     0.65566,     0.65666,     0.65766,     0.65866,     0.65966,     0.66066,     0.66166,     0.66266,     0.66366,     0.66466,     0.66567,     0.66667,     0.66767,     0.66867,     0.66967,     0.67067,     0.67167,\n",
       "           0.67267,     0.67367,     0.67467,     0.67568,     0.67668,     0.67768,     0.67868,     0.67968,     0.68068,     0.68168,     0.68268,     0.68368,     0.68468,     0.68569,     0.68669,     0.68769,     0.68869,     0.68969,     0.69069,     0.69169,     0.69269,     0.69369,     0.69469,      0.6957,\n",
       "            0.6967,      0.6977,      0.6987,      0.6997,      0.7007,      0.7017,      0.7027,      0.7037,      0.7047,     0.70571,     0.70671,     0.70771,     0.70871,     0.70971,     0.71071,     0.71171,     0.71271,     0.71371,     0.71471,     0.71572,     0.71672,     0.71772,     0.71872,     0.71972,\n",
       "           0.72072,     0.72172,     0.72272,     0.72372,     0.72472,     0.72573,     0.72673,     0.72773,     0.72873,     0.72973,     0.73073,     0.73173,     0.73273,     0.73373,     0.73473,     0.73574,     0.73674,     0.73774,     0.73874,     0.73974,     0.74074,     0.74174,     0.74274,     0.74374,\n",
       "           0.74474,     0.74575,     0.74675,     0.74775,     0.74875,     0.74975,     0.75075,     0.75175,     0.75275,     0.75375,     0.75475,     0.75576,     0.75676,     0.75776,     0.75876,     0.75976,     0.76076,     0.76176,     0.76276,     0.76376,     0.76476,     0.76577,     0.76677,     0.76777,\n",
       "           0.76877,     0.76977,     0.77077,     0.77177,     0.77277,     0.77377,     0.77477,     0.77578,     0.77678,     0.77778,     0.77878,     0.77978,     0.78078,     0.78178,     0.78278,     0.78378,     0.78478,     0.78579,     0.78679,     0.78779,     0.78879,     0.78979,     0.79079,     0.79179,\n",
       "           0.79279,     0.79379,     0.79479,      0.7958,      0.7968,      0.7978,      0.7988,      0.7998,      0.8008,      0.8018,      0.8028,      0.8038,      0.8048,     0.80581,     0.80681,     0.80781,     0.80881,     0.80981,     0.81081,     0.81181,     0.81281,     0.81381,     0.81481,     0.81582,\n",
       "           0.81682,     0.81782,     0.81882,     0.81982,     0.82082,     0.82182,     0.82282,     0.82382,     0.82482,     0.82583,     0.82683,     0.82783,     0.82883,     0.82983,     0.83083,     0.83183,     0.83283,     0.83383,     0.83483,     0.83584,     0.83684,     0.83784,     0.83884,     0.83984,\n",
       "           0.84084,     0.84184,     0.84284,     0.84384,     0.84484,     0.84585,     0.84685,     0.84785,     0.84885,     0.84985,     0.85085,     0.85185,     0.85285,     0.85385,     0.85485,     0.85586,     0.85686,     0.85786,     0.85886,     0.85986,     0.86086,     0.86186,     0.86286,     0.86386,\n",
       "           0.86486,     0.86587,     0.86687,     0.86787,     0.86887,     0.86987,     0.87087,     0.87187,     0.87287,     0.87387,     0.87487,     0.87588,     0.87688,     0.87788,     0.87888,     0.87988,     0.88088,     0.88188,     0.88288,     0.88388,     0.88488,     0.88589,     0.88689,     0.88789,\n",
       "           0.88889,     0.88989,     0.89089,     0.89189,     0.89289,     0.89389,     0.89489,      0.8959,      0.8969,      0.8979,      0.8989,      0.8999,      0.9009,      0.9019,      0.9029,      0.9039,      0.9049,     0.90591,     0.90691,     0.90791,     0.90891,     0.90991,     0.91091,     0.91191,\n",
       "           0.91291,     0.91391,     0.91491,     0.91592,     0.91692,     0.91792,     0.91892,     0.91992,     0.92092,     0.92192,     0.92292,     0.92392,     0.92492,     0.92593,     0.92693,     0.92793,     0.92893,     0.92993,     0.93093,     0.93193,     0.93293,     0.93393,     0.93493,     0.93594,\n",
       "           0.93694,     0.93794,     0.93894,     0.93994,     0.94094,     0.94194,     0.94294,     0.94394,     0.94494,     0.94595,     0.94695,     0.94795,     0.94895,     0.94995,     0.95095,     0.95195,     0.95295,     0.95395,     0.95495,     0.95596,     0.95696,     0.95796,     0.95896,     0.95996,\n",
       "           0.96096,     0.96196,     0.96296,     0.96396,     0.96496,     0.96597,     0.96697,     0.96797,     0.96897,     0.96997,     0.97097,     0.97197,     0.97297,     0.97397,     0.97497,     0.97598,     0.97698,     0.97798,     0.97898,     0.97998,     0.98098,     0.98198,     0.98298,     0.98398,\n",
       "           0.98498,     0.98599,     0.98699,     0.98799,     0.98899,     0.98999,     0.99099,     0.99199,     0.99299,     0.99399,     0.99499,       0.996,       0.997,       0.998,       0.999,           1]), array([[    0.01954,     0.01954,    0.028626,     0.03641,    0.043094,    0.049209,    0.055084,    0.060511,    0.065862,    0.070737,    0.075439,    0.079637,    0.083992,    0.088435,     0.09262,    0.096831,     0.10076,      0.1048,     0.10845,     0.11248,     0.11659,     0.12023,     0.12395,\n",
       "            0.12716,     0.13033,      0.1339,     0.13605,      0.1396,     0.14268,     0.14644,     0.14943,     0.15263,     0.15562,     0.15847,     0.16098,     0.16399,     0.16702,      0.1695,      0.1722,     0.17499,     0.17742,     0.17972,     0.18213,      0.1845,     0.18698,     0.19034,\n",
       "            0.19277,      0.1959,     0.19936,     0.20231,     0.20482,      0.2072,     0.21003,     0.21258,     0.21581,     0.21861,     0.22156,     0.22399,     0.22655,     0.22915,     0.23085,     0.23357,     0.23644,     0.23854,      0.2417,      0.2437,     0.24591,      0.2486,      0.2515,\n",
       "            0.25396,     0.25659,     0.25924,     0.26087,     0.26348,     0.26611,     0.26888,     0.27071,     0.27227,     0.27437,     0.27687,     0.27911,     0.28121,     0.28264,     0.28486,     0.28781,     0.28984,      0.2917,     0.29263,     0.29469,     0.29765,     0.29954,     0.30091,\n",
       "            0.30233,     0.30486,     0.30681,     0.30888,     0.31199,     0.31332,     0.31555,     0.31758,     0.31979,     0.32186,     0.32418,     0.32555,     0.32723,     0.32933,      0.3307,     0.33377,     0.33554,     0.33792,     0.34033,     0.34322,     0.34532,     0.34662,     0.35028,\n",
       "            0.35281,     0.35663,     0.35752,      0.3593,     0.36061,     0.36531,     0.36738,     0.36942,     0.37206,     0.37407,     0.37863,     0.38153,     0.38358,     0.38631,     0.38822,     0.38965,     0.39167,     0.39321,     0.39407,      0.3973,     0.39822,     0.40103,     0.40324,\n",
       "            0.40569,     0.40695,     0.40806,     0.40961,     0.41291,      0.4151,     0.41506,     0.41695,     0.41892,     0.42157,     0.42294,     0.42485,     0.42619,     0.42788,     0.43019,     0.43163,     0.43244,     0.43453,     0.43544,     0.43807,     0.43838,     0.44172,     0.44313,\n",
       "            0.44561,     0.44799,     0.45056,     0.45301,     0.45566,     0.45656,     0.45764,     0.45733,     0.45818,     0.46201,     0.46502,     0.46673,     0.46626,     0.46939,     0.47134,     0.47209,     0.47371,     0.47584,     0.47811,     0.47907,     0.47987,     0.48385,     0.48635,\n",
       "            0.48728,      0.4879,     0.49038,     0.49153,     0.49395,     0.49538,     0.49595,     0.49731,     0.49917,     0.50186,     0.50208,     0.50481,     0.50704,     0.50873,     0.50947,     0.51013,     0.51161,     0.51308,      0.5144,     0.51603,     0.51708,     0.52037,     0.52073,\n",
       "            0.52173,     0.52421,     0.52617,      0.5291,     0.53112,     0.53467,     0.53568,     0.53776,     0.53915,     0.54202,       0.542,     0.54344,      0.5434,     0.54641,     0.54809,     0.55081,     0.55426,     0.55378,       0.554,     0.55787,     0.56056,     0.56164,     0.56379,\n",
       "             0.5676,     0.57018,     0.57218,     0.57308,     0.57529,     0.57914,     0.58082,       0.582,     0.58294,     0.58502,     0.58789,     0.58894,     0.58991,      0.5933,     0.59484,     0.59585,     0.59668,     0.59617,     0.59741,     0.59791,     0.59938,     0.59943,     0.60026,\n",
       "            0.60315,     0.60473,     0.60799,     0.61067,     0.61198,     0.61234,     0.61353,     0.61634,     0.61982,     0.62395,     0.62468,     0.62501,     0.62743,     0.62879,     0.63156,     0.63466,     0.63534,     0.63706,     0.63828,     0.63902,     0.64162,     0.64189,     0.64215,\n",
       "            0.64212,     0.64449,     0.64646,     0.64828,     0.65032,     0.65405,     0.65772,     0.65743,     0.65803,     0.65874,     0.66486,     0.66828,     0.66892,     0.67085,     0.66879,     0.66995,     0.67069,     0.67165,      0.6736,     0.67626,     0.67798,     0.67919,     0.68012,\n",
       "            0.68277,     0.68478,     0.68632,     0.68732,     0.69072,     0.69149,     0.69075,     0.68994,     0.69224,     0.69198,     0.69218,     0.69339,     0.69563,      0.6983,     0.69828,     0.69825,     0.69978,     0.70085,     0.70219,     0.70281,     0.70534,     0.70594,     0.70679,\n",
       "            0.70763,     0.70932,      0.7106,     0.71278,     0.71305,     0.71504,     0.71479,     0.71645,     0.71886,     0.72245,     0.72392,      0.7239,     0.72355,     0.72393,     0.72521,     0.72791,     0.73218,     0.73474,     0.73627,     0.73726,     0.73852,     0.73933,     0.74105,\n",
       "            0.74301,       0.743,     0.74383,     0.74435,     0.74846,     0.74752,     0.74832,     0.74788,     0.74916,     0.74985,     0.75149,     0.75141,     0.75013,     0.75088,     0.75172,     0.75389,      0.7547,     0.75508,     0.75591,     0.75648,     0.75805,     0.75676,      0.7574,\n",
       "            0.76086,     0.76156,     0.76428,     0.76384,     0.76492,     0.76569,     0.76659,     0.76572,     0.76524,     0.76606,     0.76668,     0.76537,     0.76691,      0.7678,     0.76983,     0.77041,     0.77169,      0.7734,     0.77639,     0.77948,     0.78062,     0.78171,      0.7826,\n",
       "            0.78216,     0.78141,     0.78442,     0.78426,      0.7841,     0.78536,      0.7861,     0.78659,     0.78637,     0.78585,     0.78654,     0.78521,     0.78648,     0.78771,     0.78939,     0.79065,     0.79027,     0.78804,     0.78835,     0.78789,     0.78742,     0.78695,     0.78818,\n",
       "             0.7887,      0.7924,     0.79446,     0.79506,      0.7964,     0.79658,      0.7978,     0.79742,     0.80008,     0.80132,     0.80101,     0.80194,     0.80152,     0.80246,     0.80314,     0.80503,     0.80775,      0.8094,      0.8109,     0.81414,     0.81368,     0.81677,     0.81651,\n",
       "            0.81567,     0.81521,     0.81475,     0.81615,     0.81775,     0.81939,     0.82301,     0.82212,     0.82166,      0.8212,      0.8231,     0.82331,     0.82308,     0.82429,     0.82405,     0.82595,     0.82548,     0.82539,     0.82705,     0.82658,     0.82784,     0.82737,      0.8282,\n",
       "            0.82864,     0.82817,     0.82901,     0.82853,     0.83199,     0.83673,     0.83966,     0.84086,     0.83928,     0.83904,     0.84079,     0.84279,     0.84267,     0.84244,     0.84449,     0.84443,     0.84397,     0.84351,     0.84774,     0.84751,     0.84683,      0.8467,     0.85116,\n",
       "            0.85071,     0.85025,     0.85235,     0.85403,     0.85313,     0.85304,     0.85438,     0.85482,     0.85391,     0.85298,     0.85168,     0.85152,     0.85136,      0.8507,     0.85045,     0.84962,     0.84864,     0.84814,     0.84763,     0.84989,     0.85217,     0.85069,     0.85876,\n",
       "            0.85827,     0.85746,     0.85721,      0.8593,     0.86265,     0.86395,     0.86657,     0.86647,     0.86623,     0.86885,     0.86837,     0.86789,     0.86935,     0.87095,     0.87387,     0.87317,     0.87553,     0.87663,     0.87772,     0.87817,     0.88052,     0.88342,     0.88319,\n",
       "            0.88873,     0.88991,     0.89108,     0.89176,     0.89101,     0.89091,      0.8908,     0.89069,     0.89044,     0.88956,     0.88867,     0.88822,     0.88685,     0.88867,     0.88953,     0.88768,      0.8872,     0.88671,     0.88913,     0.88996,     0.89171,     0.89253,     0.89229,\n",
       "            0.89436,     0.89341,     0.89272,     0.89255,     0.89239,     0.89159,     0.89117,     0.89191,     0.89277,     0.89239,     0.89213,     0.89069,     0.88963,     0.89217,     0.89672,     0.89646,     0.89633,      0.8962,     0.89607,     0.89458,      0.8935,     0.89184,      0.8907,\n",
       "            0.89477,     0.89478,     0.89456,     0.89437,     0.89418,     0.89304,     0.89669,      0.8984,     0.90023,     0.89966,     0.89908,     0.89792,     0.89674,     0.90045,     0.90025,     0.90005,     0.89953,     0.90319,     0.91195,     0.91478,     0.91469,     0.91915,     0.91889,\n",
       "            0.91851,     0.91746,     0.91692,     0.91529,     0.91472,     0.91357,     0.91179,     0.91076,     0.91045,     0.91131,     0.91275,     0.91419,     0.91563,      0.9165,     0.91284,     0.91219,     0.91101,     0.91074,     0.91047,     0.91431,     0.91186,     0.91172,     0.91157,\n",
       "            0.91143,     0.91124,     0.90981,      0.9095,      0.9092,     0.90884,     0.90845,     0.90806,     0.90766,     0.90696,     0.90636,     0.90422,     0.90379,     0.90643,     0.91153,     0.91577,     0.92532,     0.92455,     0.92382,     0.92362,     0.92344,     0.92325,     0.92294,\n",
       "            0.92186,      0.9214,     0.92114,     0.92087,     0.91942,     0.91878,     0.91814,      0.9174,     0.91696,     0.91647,     0.91587,     0.92447,      0.9248,     0.92396,     0.92337,     0.92266,     0.92592,     0.94092,     0.94046,     0.94028,      0.9401,     0.93991,     0.93972,\n",
       "            0.93951,     0.93929,     0.93908,      0.9503,     0.94991,     0.94958,     0.94922,     0.94878,     0.94861,     0.94849,     0.94836,     0.94824,     0.94811,     0.94795,     0.94775,     0.94755,     0.94653,     0.94582,      0.9456,     0.94538,     0.94773,     0.95825,     0.95785,\n",
       "            0.95751,     0.95721,     0.95664,     0.95511,     0.95476,     0.95303,     0.95277,     0.95252,     0.95597,     0.96384,     0.96756,     0.96665,     0.96626,     0.96593,     0.96563,     0.96415,     0.96392,      0.9637,     0.96271,     0.96235,     0.96208,     0.96183,     0.96158,\n",
       "            0.96136,     0.96114,     0.96092,     0.95993,     0.95976,      0.9596,     0.95943,     0.95926,     0.95888,     0.95833,     0.95822,     0.95811,     0.95801,      0.9579,     0.95779,     0.95768,     0.95758,     0.95747,     0.95671,     0.95528,     0.95493,     0.95459,      0.9525,\n",
       "            0.95167,     0.95086,     0.95003,     0.94936,     0.94869,     0.94724,     0.94552,     0.94475,     0.94423,     0.94386,      0.9435,     0.94314,      0.9469,     0.96585,      0.9696,     0.96921,     0.96882,     0.96818,     0.96521,     0.96437,      0.9638,     0.96326,     0.96252,\n",
       "            0.96154,     0.96133,     0.96112,     0.96091,      0.9607,     0.96049,     0.96028,     0.96007,     0.95783,     0.95709,     0.95604,      0.9545,     0.95433,     0.95416,     0.95399,     0.95382,     0.95365,     0.95348,     0.95331,     0.95314,     0.95296,     0.95279,     0.95262,\n",
       "            0.95245,     0.94896,     0.94728,     0.94653,     0.94578,     0.94503,     0.94064,     0.93813,     0.94953,     0.96554,     0.98156,     0.99758,           1,           1,           1,           1,           1,           1,           1,           1,           1,           1,           1,\n",
       "                  1,           1,           1,           1,           1,           1,           1,           1,           1,           1,           1,           1,           1,           1,           1,           1,           1,           1,           1,           1,           1,           1,           1,\n",
       "                  1,           1,           1,           1,           1,           1,           1,           1,           1,           1,           1,           1,           1,           1,           1,           1,           1,           1,           1,           1,           1,           1,           1,\n",
       "                  1,           1,           1,           1,           1,           1,           1,           1,           1,           1,           1,           1,           1,           1,           1,           1,           1,           1,           1,           1,           1,           1,           1,\n",
       "                  1,           1,           1,           1,           1,           1,           1,           1,           1,           1,           1,           1,           1,           1,           1,           1,           1,           1,           1,           1,           1,           1,           1,\n",
       "                  1,           1,           1,           1,           1,           1,           1,           1,           1,           1,           1,           1,           1,           1,           1,           1,           1,           1,           1,           1,           1,           1,           1,\n",
       "                  1,           1,           1,           1,           1,           1,           1,           1,           1,           1,           1,           1,           1,           1,           1,           1,           1,           1,           1,           1,           1,           1,           1,\n",
       "                  1,           1,           1,           1,           1,           1,           1,           1,           1,           1,           1,           1,           1,           1,           1,           1,           1,           1,           1,           1,           1,           1,           1,\n",
       "                  1,           1,           1,           1,           1,           1,           1,           1,           1,           1,           1,           1,           1,           1,           1,           1,           1,           1,           1,           1,           1,           1,           1,\n",
       "                  1,           1,           1,           1,           1,           1,           1,           1,           1,           1,           1]]), 'Confidence', 'Precision'], [array([          0,    0.001001,    0.002002,    0.003003,    0.004004,    0.005005,    0.006006,    0.007007,    0.008008,    0.009009,     0.01001,    0.011011,    0.012012,    0.013013,    0.014014,    0.015015,    0.016016,    0.017017,    0.018018,    0.019019,     0.02002,    0.021021,    0.022022,    0.023023,\n",
       "          0.024024,    0.025025,    0.026026,    0.027027,    0.028028,    0.029029,     0.03003,    0.031031,    0.032032,    0.033033,    0.034034,    0.035035,    0.036036,    0.037037,    0.038038,    0.039039,     0.04004,    0.041041,    0.042042,    0.043043,    0.044044,    0.045045,    0.046046,    0.047047,\n",
       "          0.048048,    0.049049,     0.05005,    0.051051,    0.052052,    0.053053,    0.054054,    0.055055,    0.056056,    0.057057,    0.058058,    0.059059,     0.06006,    0.061061,    0.062062,    0.063063,    0.064064,    0.065065,    0.066066,    0.067067,    0.068068,    0.069069,     0.07007,    0.071071,\n",
       "          0.072072,    0.073073,    0.074074,    0.075075,    0.076076,    0.077077,    0.078078,    0.079079,     0.08008,    0.081081,    0.082082,    0.083083,    0.084084,    0.085085,    0.086086,    0.087087,    0.088088,    0.089089,     0.09009,    0.091091,    0.092092,    0.093093,    0.094094,    0.095095,\n",
       "          0.096096,    0.097097,    0.098098,    0.099099,      0.1001,      0.1011,      0.1021,      0.1031,      0.1041,     0.10511,     0.10611,     0.10711,     0.10811,     0.10911,     0.11011,     0.11111,     0.11211,     0.11311,     0.11411,     0.11512,     0.11612,     0.11712,     0.11812,     0.11912,\n",
       "           0.12012,     0.12112,     0.12212,     0.12312,     0.12412,     0.12513,     0.12613,     0.12713,     0.12813,     0.12913,     0.13013,     0.13113,     0.13213,     0.13313,     0.13413,     0.13514,     0.13614,     0.13714,     0.13814,     0.13914,     0.14014,     0.14114,     0.14214,     0.14314,\n",
       "           0.14414,     0.14515,     0.14615,     0.14715,     0.14815,     0.14915,     0.15015,     0.15115,     0.15215,     0.15315,     0.15415,     0.15516,     0.15616,     0.15716,     0.15816,     0.15916,     0.16016,     0.16116,     0.16216,     0.16316,     0.16416,     0.16517,     0.16617,     0.16717,\n",
       "           0.16817,     0.16917,     0.17017,     0.17117,     0.17217,     0.17317,     0.17417,     0.17518,     0.17618,     0.17718,     0.17818,     0.17918,     0.18018,     0.18118,     0.18218,     0.18318,     0.18418,     0.18519,     0.18619,     0.18719,     0.18819,     0.18919,     0.19019,     0.19119,\n",
       "           0.19219,     0.19319,     0.19419,      0.1952,      0.1962,      0.1972,      0.1982,      0.1992,      0.2002,      0.2012,      0.2022,      0.2032,      0.2042,     0.20521,     0.20621,     0.20721,     0.20821,     0.20921,     0.21021,     0.21121,     0.21221,     0.21321,     0.21421,     0.21522,\n",
       "           0.21622,     0.21722,     0.21822,     0.21922,     0.22022,     0.22122,     0.22222,     0.22322,     0.22422,     0.22523,     0.22623,     0.22723,     0.22823,     0.22923,     0.23023,     0.23123,     0.23223,     0.23323,     0.23423,     0.23524,     0.23624,     0.23724,     0.23824,     0.23924,\n",
       "           0.24024,     0.24124,     0.24224,     0.24324,     0.24424,     0.24525,     0.24625,     0.24725,     0.24825,     0.24925,     0.25025,     0.25125,     0.25225,     0.25325,     0.25425,     0.25526,     0.25626,     0.25726,     0.25826,     0.25926,     0.26026,     0.26126,     0.26226,     0.26326,\n",
       "           0.26426,     0.26527,     0.26627,     0.26727,     0.26827,     0.26927,     0.27027,     0.27127,     0.27227,     0.27327,     0.27427,     0.27528,     0.27628,     0.27728,     0.27828,     0.27928,     0.28028,     0.28128,     0.28228,     0.28328,     0.28428,     0.28529,     0.28629,     0.28729,\n",
       "           0.28829,     0.28929,     0.29029,     0.29129,     0.29229,     0.29329,     0.29429,      0.2953,      0.2963,      0.2973,      0.2983,      0.2993,      0.3003,      0.3013,      0.3023,      0.3033,      0.3043,     0.30531,     0.30631,     0.30731,     0.30831,     0.30931,     0.31031,     0.31131,\n",
       "           0.31231,     0.31331,     0.31431,     0.31532,     0.31632,     0.31732,     0.31832,     0.31932,     0.32032,     0.32132,     0.32232,     0.32332,     0.32432,     0.32533,     0.32633,     0.32733,     0.32833,     0.32933,     0.33033,     0.33133,     0.33233,     0.33333,     0.33433,     0.33534,\n",
       "           0.33634,     0.33734,     0.33834,     0.33934,     0.34034,     0.34134,     0.34234,     0.34334,     0.34434,     0.34535,     0.34635,     0.34735,     0.34835,     0.34935,     0.35035,     0.35135,     0.35235,     0.35335,     0.35435,     0.35536,     0.35636,     0.35736,     0.35836,     0.35936,\n",
       "           0.36036,     0.36136,     0.36236,     0.36336,     0.36436,     0.36537,     0.36637,     0.36737,     0.36837,     0.36937,     0.37037,     0.37137,     0.37237,     0.37337,     0.37437,     0.37538,     0.37638,     0.37738,     0.37838,     0.37938,     0.38038,     0.38138,     0.38238,     0.38338,\n",
       "           0.38438,     0.38539,     0.38639,     0.38739,     0.38839,     0.38939,     0.39039,     0.39139,     0.39239,     0.39339,     0.39439,      0.3954,      0.3964,      0.3974,      0.3984,      0.3994,      0.4004,      0.4014,      0.4024,      0.4034,      0.4044,     0.40541,     0.40641,     0.40741,\n",
       "           0.40841,     0.40941,     0.41041,     0.41141,     0.41241,     0.41341,     0.41441,     0.41542,     0.41642,     0.41742,     0.41842,     0.41942,     0.42042,     0.42142,     0.42242,     0.42342,     0.42442,     0.42543,     0.42643,     0.42743,     0.42843,     0.42943,     0.43043,     0.43143,\n",
       "           0.43243,     0.43343,     0.43443,     0.43544,     0.43644,     0.43744,     0.43844,     0.43944,     0.44044,     0.44144,     0.44244,     0.44344,     0.44444,     0.44545,     0.44645,     0.44745,     0.44845,     0.44945,     0.45045,     0.45145,     0.45245,     0.45345,     0.45445,     0.45546,\n",
       "           0.45646,     0.45746,     0.45846,     0.45946,     0.46046,     0.46146,     0.46246,     0.46346,     0.46446,     0.46547,     0.46647,     0.46747,     0.46847,     0.46947,     0.47047,     0.47147,     0.47247,     0.47347,     0.47447,     0.47548,     0.47648,     0.47748,     0.47848,     0.47948,\n",
       "           0.48048,     0.48148,     0.48248,     0.48348,     0.48448,     0.48549,     0.48649,     0.48749,     0.48849,     0.48949,     0.49049,     0.49149,     0.49249,     0.49349,     0.49449,      0.4955,      0.4965,      0.4975,      0.4985,      0.4995,      0.5005,      0.5015,      0.5025,      0.5035,\n",
       "            0.5045,     0.50551,     0.50651,     0.50751,     0.50851,     0.50951,     0.51051,     0.51151,     0.51251,     0.51351,     0.51451,     0.51552,     0.51652,     0.51752,     0.51852,     0.51952,     0.52052,     0.52152,     0.52252,     0.52352,     0.52452,     0.52553,     0.52653,     0.52753,\n",
       "           0.52853,     0.52953,     0.53053,     0.53153,     0.53253,     0.53353,     0.53453,     0.53554,     0.53654,     0.53754,     0.53854,     0.53954,     0.54054,     0.54154,     0.54254,     0.54354,     0.54454,     0.54555,     0.54655,     0.54755,     0.54855,     0.54955,     0.55055,     0.55155,\n",
       "           0.55255,     0.55355,     0.55455,     0.55556,     0.55656,     0.55756,     0.55856,     0.55956,     0.56056,     0.56156,     0.56256,     0.56356,     0.56456,     0.56557,     0.56657,     0.56757,     0.56857,     0.56957,     0.57057,     0.57157,     0.57257,     0.57357,     0.57457,     0.57558,\n",
       "           0.57658,     0.57758,     0.57858,     0.57958,     0.58058,     0.58158,     0.58258,     0.58358,     0.58458,     0.58559,     0.58659,     0.58759,     0.58859,     0.58959,     0.59059,     0.59159,     0.59259,     0.59359,     0.59459,      0.5956,      0.5966,      0.5976,      0.5986,      0.5996,\n",
       "            0.6006,      0.6016,      0.6026,      0.6036,      0.6046,     0.60561,     0.60661,     0.60761,     0.60861,     0.60961,     0.61061,     0.61161,     0.61261,     0.61361,     0.61461,     0.61562,     0.61662,     0.61762,     0.61862,     0.61962,     0.62062,     0.62162,     0.62262,     0.62362,\n",
       "           0.62462,     0.62563,     0.62663,     0.62763,     0.62863,     0.62963,     0.63063,     0.63163,     0.63263,     0.63363,     0.63463,     0.63564,     0.63664,     0.63764,     0.63864,     0.63964,     0.64064,     0.64164,     0.64264,     0.64364,     0.64464,     0.64565,     0.64665,     0.64765,\n",
       "           0.64865,     0.64965,     0.65065,     0.65165,     0.65265,     0.65365,     0.65465,     0.65566,     0.65666,     0.65766,     0.65866,     0.65966,     0.66066,     0.66166,     0.66266,     0.66366,     0.66466,     0.66567,     0.66667,     0.66767,     0.66867,     0.66967,     0.67067,     0.67167,\n",
       "           0.67267,     0.67367,     0.67467,     0.67568,     0.67668,     0.67768,     0.67868,     0.67968,     0.68068,     0.68168,     0.68268,     0.68368,     0.68468,     0.68569,     0.68669,     0.68769,     0.68869,     0.68969,     0.69069,     0.69169,     0.69269,     0.69369,     0.69469,      0.6957,\n",
       "            0.6967,      0.6977,      0.6987,      0.6997,      0.7007,      0.7017,      0.7027,      0.7037,      0.7047,     0.70571,     0.70671,     0.70771,     0.70871,     0.70971,     0.71071,     0.71171,     0.71271,     0.71371,     0.71471,     0.71572,     0.71672,     0.71772,     0.71872,     0.71972,\n",
       "           0.72072,     0.72172,     0.72272,     0.72372,     0.72472,     0.72573,     0.72673,     0.72773,     0.72873,     0.72973,     0.73073,     0.73173,     0.73273,     0.73373,     0.73473,     0.73574,     0.73674,     0.73774,     0.73874,     0.73974,     0.74074,     0.74174,     0.74274,     0.74374,\n",
       "           0.74474,     0.74575,     0.74675,     0.74775,     0.74875,     0.74975,     0.75075,     0.75175,     0.75275,     0.75375,     0.75475,     0.75576,     0.75676,     0.75776,     0.75876,     0.75976,     0.76076,     0.76176,     0.76276,     0.76376,     0.76476,     0.76577,     0.76677,     0.76777,\n",
       "           0.76877,     0.76977,     0.77077,     0.77177,     0.77277,     0.77377,     0.77477,     0.77578,     0.77678,     0.77778,     0.77878,     0.77978,     0.78078,     0.78178,     0.78278,     0.78378,     0.78478,     0.78579,     0.78679,     0.78779,     0.78879,     0.78979,     0.79079,     0.79179,\n",
       "           0.79279,     0.79379,     0.79479,      0.7958,      0.7968,      0.7978,      0.7988,      0.7998,      0.8008,      0.8018,      0.8028,      0.8038,      0.8048,     0.80581,     0.80681,     0.80781,     0.80881,     0.80981,     0.81081,     0.81181,     0.81281,     0.81381,     0.81481,     0.81582,\n",
       "           0.81682,     0.81782,     0.81882,     0.81982,     0.82082,     0.82182,     0.82282,     0.82382,     0.82482,     0.82583,     0.82683,     0.82783,     0.82883,     0.82983,     0.83083,     0.83183,     0.83283,     0.83383,     0.83483,     0.83584,     0.83684,     0.83784,     0.83884,     0.83984,\n",
       "           0.84084,     0.84184,     0.84284,     0.84384,     0.84484,     0.84585,     0.84685,     0.84785,     0.84885,     0.84985,     0.85085,     0.85185,     0.85285,     0.85385,     0.85485,     0.85586,     0.85686,     0.85786,     0.85886,     0.85986,     0.86086,     0.86186,     0.86286,     0.86386,\n",
       "           0.86486,     0.86587,     0.86687,     0.86787,     0.86887,     0.86987,     0.87087,     0.87187,     0.87287,     0.87387,     0.87487,     0.87588,     0.87688,     0.87788,     0.87888,     0.87988,     0.88088,     0.88188,     0.88288,     0.88388,     0.88488,     0.88589,     0.88689,     0.88789,\n",
       "           0.88889,     0.88989,     0.89089,     0.89189,     0.89289,     0.89389,     0.89489,      0.8959,      0.8969,      0.8979,      0.8989,      0.8999,      0.9009,      0.9019,      0.9029,      0.9039,      0.9049,     0.90591,     0.90691,     0.90791,     0.90891,     0.90991,     0.91091,     0.91191,\n",
       "           0.91291,     0.91391,     0.91491,     0.91592,     0.91692,     0.91792,     0.91892,     0.91992,     0.92092,     0.92192,     0.92292,     0.92392,     0.92492,     0.92593,     0.92693,     0.92793,     0.92893,     0.92993,     0.93093,     0.93193,     0.93293,     0.93393,     0.93493,     0.93594,\n",
       "           0.93694,     0.93794,     0.93894,     0.93994,     0.94094,     0.94194,     0.94294,     0.94394,     0.94494,     0.94595,     0.94695,     0.94795,     0.94895,     0.94995,     0.95095,     0.95195,     0.95295,     0.95395,     0.95495,     0.95596,     0.95696,     0.95796,     0.95896,     0.95996,\n",
       "           0.96096,     0.96196,     0.96296,     0.96396,     0.96496,     0.96597,     0.96697,     0.96797,     0.96897,     0.96997,     0.97097,     0.97197,     0.97297,     0.97397,     0.97497,     0.97598,     0.97698,     0.97798,     0.97898,     0.97998,     0.98098,     0.98198,     0.98298,     0.98398,\n",
       "           0.98498,     0.98599,     0.98699,     0.98799,     0.98899,     0.98999,     0.99099,     0.99199,     0.99299,     0.99399,     0.99499,       0.996,       0.997,       0.998,       0.999,           1]), array([[    0.90192,     0.90192,     0.88736,     0.88199,     0.86743,     0.85747,     0.85057,     0.84674,     0.83985,     0.83525,     0.82682,     0.81916,     0.81533,     0.81226,     0.80766,     0.80307,         0.8,     0.79617,     0.79157,     0.78927,     0.78851,     0.78697,     0.78238,\n",
       "            0.77701,     0.77471,     0.77318,     0.76475,     0.76245,     0.76015,     0.75939,     0.75632,     0.75096,     0.74866,     0.74483,       0.741,     0.74023,     0.74023,      0.7387,      0.7364,     0.73487,      0.7318,      0.7272,     0.72414,     0.72031,     0.71877,     0.71801,\n",
       "            0.71418,     0.71418,     0.71341,     0.71188,     0.71034,     0.70881,     0.70651,     0.70498,     0.70421,     0.70115,     0.69962,     0.69808,     0.69655,     0.69579,     0.69349,     0.69272,     0.69272,     0.68889,     0.68736,     0.68506,     0.68276,     0.68199,     0.67969,\n",
       "            0.67969,     0.67893,     0.67816,     0.67586,     0.67433,     0.67356,     0.67203,      0.6705,     0.66743,     0.66437,      0.6636,      0.6613,      0.6613,     0.65907,     0.65777,      0.6567,     0.65364,     0.65057,     0.64828,     0.64598,     0.64598,     0.64061,     0.63755,\n",
       "            0.63448,     0.63372,     0.63372,     0.63065,     0.62912,     0.62682,     0.62529,     0.62375,     0.62299,     0.62222,     0.61992,     0.61807,     0.61762,     0.61686,     0.61533,     0.61303,     0.61226,     0.61073,      0.6092,     0.60843,     0.60536,     0.60536,     0.60536,\n",
       "             0.6046,     0.60153,     0.59923,     0.59847,     0.59617,     0.59387,     0.59157,      0.5908,     0.59004,     0.59004,     0.58927,     0.58927,     0.58851,     0.58697,     0.58621,     0.58621,     0.58621,     0.58391,     0.58238,     0.58161,     0.58084,     0.57769,     0.57625,\n",
       "            0.57548,     0.57395,     0.57395,     0.57165,     0.57088,     0.56782,     0.56552,     0.56169,     0.56015,     0.55624,     0.55479,     0.55402,     0.55249,     0.55096,     0.54943,     0.54866,     0.54636,     0.54467,     0.54253,     0.54176,     0.54023,     0.54023,     0.53965,\n",
       "            0.53793,     0.53716,     0.53487,     0.53333,     0.53241,     0.53103,     0.53027,     0.52696,      0.5249,     0.52383,     0.52337,     0.52177,     0.52031,     0.51954,     0.51923,     0.51801,     0.51593,     0.51571,     0.51571,     0.51571,     0.51494,     0.51418,     0.51418,\n",
       "            0.51418,     0.51341,     0.51264,     0.50958,     0.50881,     0.50776,     0.50575,     0.50575,     0.50345,     0.50258,     0.50115,     0.49885,     0.49885,     0.49832,     0.49732,     0.49732,     0.49655,     0.49655,     0.49579,     0.49502,     0.49425,     0.49349,     0.49205,\n",
       "            0.49195,     0.49042,     0.48966,     0.48889,     0.48812,     0.48736,     0.48736,     0.48736,     0.48736,     0.48736,     0.48514,     0.48199,     0.48061,     0.47969,     0.47969,     0.47969,     0.47927,     0.47586,     0.47433,     0.47356,      0.4728,     0.47203,      0.4705,\n",
       "            0.46973,     0.46862,     0.46743,     0.46437,     0.46437,      0.4636,     0.46284,     0.45977,       0.459,     0.45824,      0.4567,     0.45594,     0.45287,     0.45287,     0.45225,     0.45057,     0.45057,     0.44911,     0.44802,     0.44598,     0.44368,     0.44262,     0.44215,\n",
       "            0.43985,     0.43908,     0.43755,      0.4363,     0.43525,     0.43453,     0.43372,     0.43372,     0.43218,     0.43218,     0.43108,     0.43065,     0.42989,     0.42989,     0.42989,     0.42835,     0.42682,     0.42682,     0.42452,     0.42375,     0.42254,     0.42168,     0.41916,\n",
       "            0.41798,     0.41762,     0.41762,     0.41762,     0.41609,     0.41609,     0.41376,     0.41324,     0.41286,     0.40996,     0.40996,     0.40996,     0.40873,     0.40766,     0.40383,     0.40383,      0.4023,     0.40153,     0.40077,     0.40018,     0.39923,     0.39923,     0.39923,\n",
       "            0.39746,     0.39617,     0.39617,     0.39617,     0.39532,     0.39332,     0.39195,     0.38877,     0.38781,     0.38697,     0.38597,     0.38467,     0.38467,     0.38467,     0.38306,     0.38238,     0.38045,     0.37881,     0.37778,     0.37701,     0.37395,     0.37395,     0.37313,\n",
       "            0.37165,     0.37024,     0.36858,     0.36858,      0.3675,     0.36533,     0.36488,       0.364,     0.36245,     0.36245,     0.36245,     0.36163,     0.36101,     0.36015,     0.36015,     0.35632,     0.35556,     0.35556,     0.35402,     0.35326,     0.35278,     0.35172,     0.35087,\n",
       "            0.35006,     0.34943,     0.34943,     0.34713,     0.34656,     0.34483,     0.34404,     0.34323,     0.34253,     0.34225,     0.34176,     0.34049,     0.33817,     0.33721,     0.33641,     0.33563,      0.3341,      0.3331,     0.33223,      0.3318,     0.33131,       0.329,     0.32797,\n",
       "            0.32797,     0.32797,     0.32547,     0.32469,     0.32337,     0.32303,     0.32214,     0.32059,     0.31877,     0.31877,     0.31727,     0.31495,     0.31263,     0.31166,     0.31011,     0.30856,     0.30728,     0.30728,     0.30421,     0.30421,     0.30345,     0.30345,     0.30344,\n",
       "            0.30266,     0.30115,     0.30113,     0.30084,     0.30055,     0.29885,     0.29852,     0.29808,     0.29618,     0.29526,     0.29365,     0.29133,     0.29119,     0.29042,     0.29042,     0.28966,     0.28875,      0.2849,     0.28258,     0.28179,     0.28101,     0.28022,     0.27944,\n",
       "            0.27893,     0.27893,     0.27842,     0.27739,     0.27663,     0.27606,     0.27586,     0.27449,     0.27294,     0.27197,     0.27126,     0.27126,     0.26897,     0.26897,      0.2682,      0.2682,     0.26723,      0.2659,     0.26513,     0.26181,     0.26103,      0.2596,     0.25915,\n",
       "            0.25771,     0.25693,     0.25614,     0.25594,     0.25517,     0.25378,       0.253,     0.25145,     0.25066,     0.24988,     0.24981,     0.24638,     0.24598,     0.24444,     0.24405,     0.24363,     0.24285,     0.24215,     0.24185,     0.24106,     0.23951,     0.23873,     0.23831,\n",
       "            0.23716,     0.23637,     0.23405,     0.23327,     0.23295,      0.2317,     0.23142,     0.23142,     0.22808,     0.22769,     0.22759,     0.22682,     0.22574,     0.22535,     0.22529,     0.22461,     0.22382,     0.22304,     0.22185,     0.22146,      0.2203,     0.21992,     0.21911,\n",
       "            0.21832,     0.21754,     0.21675,      0.2152,     0.21365,     0.21303,     0.21303,     0.21206,     0.21051,     0.20896,     0.20681,     0.20655,     0.20629,     0.20521,     0.20481,     0.20348,     0.20193,     0.20114,     0.20035,     0.19957,     0.19878,     0.19647,     0.19568,\n",
       "            0.19489,     0.19361,     0.19321,      0.1931,     0.19252,      0.1908,     0.19004,     0.18895,     0.18856,     0.18783,     0.18704,     0.18625,     0.18621,     0.18621,     0.18582,     0.18465,     0.18314,     0.18314,     0.18314,     0.18227,     0.18072,        0.18,     0.17961,\n",
       "            0.17701,     0.17701,     0.17701,     0.17677,     0.17541,     0.17522,     0.17502,     0.17483,     0.17438,     0.17282,     0.17127,     0.17049,     0.16817,     0.16782,      0.1666,     0.16351,     0.16273,     0.16194,     0.16169,     0.16114,     0.15939,     0.15909,      0.1587,\n",
       "             0.1557,     0.15415,     0.15304,     0.15277,     0.15251,     0.15124,      0.1506,     0.14866,     0.14673,     0.14615,     0.14576,     0.14361,     0.14206,     0.14176,     0.13972,     0.13933,     0.13914,     0.13894,     0.13874,     0.13656,     0.13501,     0.13269,     0.13114,\n",
       "            0.13103,     0.13033,     0.13003,     0.12977,      0.1295,     0.12796,     0.12638,      0.1249,     0.12445,     0.12367,     0.12288,     0.12133,     0.11978,     0.11783,     0.11756,      0.1173,     0.11664,     0.11571,     0.11571,     0.11571,     0.11503,     0.11325,     0.11286,\n",
       "            0.11229,     0.11074,     0.10995,     0.10763,     0.10685,     0.10529,     0.10298,     0.10167,     0.10128,     0.10115,     0.10115,     0.10115,     0.10115,     0.10093,     0.09631,    0.095525,    0.094141,    0.093827,    0.093513,    0.090421,    0.087208,    0.087051,    0.086894,\n",
       "           0.086737,     0.08654,     0.08503,    0.084716,    0.084401,    0.084036,    0.083643,    0.083251,    0.082858,    0.082172,    0.081588,    0.079572,     0.07918,    0.078927,    0.077395,    0.077395,    0.075953,    0.075122,    0.074336,    0.074135,    0.073938,    0.073742,    0.073424,\n",
       "           0.072325,    0.071867,    0.071605,    0.071343,    0.069949,    0.069353,    0.068761,    0.068088,    0.067695,    0.067259,    0.066735,    0.066667,    0.065964,    0.065179,     0.06464,    0.063991,    0.062069,    0.061026,    0.060524,    0.060327,    0.060131,    0.059935,    0.059734,\n",
       "           0.059509,    0.059285,     0.05906,    0.058612,    0.058126,    0.057733,    0.057297,    0.056773,    0.056581,    0.056438,    0.056295,    0.056152,    0.056009,    0.055826,    0.055601,    0.055377,    0.054265,    0.053505,     0.05328,    0.053056,    0.052874,    0.052763,    0.052239,\n",
       "           0.051813,    0.051421,    0.050715,    0.048911,    0.048518,    0.046643,    0.046381,    0.046119,    0.045977,    0.045977,    0.045713,    0.044423,    0.043899,    0.043451,    0.043058,    0.041215,    0.040953,    0.040692,    0.039572,    0.039179,    0.038884,    0.038623,    0.038361,\n",
       "            0.03813,    0.037905,    0.037681,    0.036718,     0.03656,    0.036403,    0.036246,    0.036089,    0.035738,    0.035243,     0.03515,    0.035058,    0.034966,    0.034873,    0.034781,    0.034688,    0.034596,    0.034504,    0.033875,    0.032741,    0.032479,    0.032218,    0.030733,\n",
       "           0.030182,    0.029659,    0.029135,    0.028738,    0.028338,    0.027519,    0.026602,    0.026209,    0.025948,    0.025774,    0.025599,    0.025425,    0.025287,    0.025287,    0.024439,    0.024125,     0.02381,    0.023324,    0.021267,    0.020744,    0.020408,    0.020094,    0.019684,\n",
       "            0.01916,    0.019053,    0.018948,    0.018844,    0.018739,    0.018634,    0.018529,    0.018425,    0.017412,    0.017098,    0.016671,    0.016076,    0.016016,    0.015955,    0.015895,    0.015834,    0.015774,    0.015714,    0.015653,    0.015593,    0.015532,    0.015472,    0.015411,\n",
       "           0.015351,    0.014256,     0.01377,    0.013574,    0.013377,    0.013181,    0.012148,    0.011625,    0.011494,    0.011494,    0.011494,    0.011494,    0.011228,    0.010913,    0.010406,   0.0097344,   0.0092107,   0.0091462,   0.0090955,   0.0090449,   0.0089942,   0.0089435,   0.0088928,\n",
       "          0.0088422,   0.0087915,   0.0087408,   0.0086901,   0.0086395,   0.0085888,   0.0085381,   0.0084874,   0.0084368,   0.0082957,   0.0081386,   0.0079815,   0.0078245,   0.0076674,   0.0076102,   0.0075561,   0.0075019,   0.0074477,   0.0073935,   0.0073394,   0.0072852,    0.007231,   0.0071769,\n",
       "          0.0071227,   0.0070685,   0.0070144,   0.0069602,    0.006906,   0.0068101,   0.0067054,   0.0066007,   0.0064959,   0.0063912,   0.0062865,   0.0061818,   0.0059972,   0.0057354,   0.0054735,   0.0053314,   0.0052753,   0.0052191,    0.005163,   0.0051069,   0.0050508,   0.0049947,   0.0049386,\n",
       "          0.0048825,   0.0048264,   0.0047703,   0.0047142,   0.0046581,    0.004602,   0.0041142,    0.003823,   0.0038047,   0.0037865,   0.0037682,   0.0037499,   0.0037317,   0.0037134,   0.0036952,   0.0036769,   0.0036586,   0.0036404,   0.0036221,   0.0036038,   0.0035856,   0.0035673,    0.003549,\n",
       "          0.0035308,   0.0035125,   0.0034942,    0.003476,   0.0034577,   0.0034394,   0.0034212,   0.0034029,   0.0033846,   0.0033664,   0.0033481,   0.0033298,   0.0033116,   0.0032933,    0.003275,   0.0032568,   0.0032385,   0.0032202,    0.003202,   0.0031837,   0.0031654,   0.0031472,   0.0031289,\n",
       "          0.0031106,   0.0030924,   0.0030741,   0.0022965,   0.0021918,   0.0020871,   0.0019824,   0.0018776,   0.0017729,   0.0016682,   0.0015635,   0.0015141,   0.0014879,   0.0014617,   0.0014356,   0.0014094,   0.0013832,    0.001357,   0.0013308,   0.0013047,   0.0012785,   0.0012523,   0.0012261,\n",
       "          0.0011999,   0.0011737,   0.0011476,   0.0011214,   0.0010952,    0.001069,   0.0010428,   0.0010166,  0.00099047,  0.00096428,   0.0009381,  0.00091192,  0.00088574,  0.00085956,  0.00083337,  0.00080719,  0.00078101,           0,           0,           0,           0,           0,           0,\n",
       "                  0,           0,           0,           0,           0,           0,           0,           0,           0,           0,           0,           0,           0,           0,           0,           0,           0,           0,           0,           0,           0,           0,           0,\n",
       "                  0,           0,           0,           0,           0,           0,           0,           0,           0,           0,           0,           0,           0,           0,           0,           0,           0,           0,           0,           0,           0,           0,           0,\n",
       "                  0,           0,           0,           0,           0,           0,           0,           0,           0,           0,           0]]), 'Confidence', 'Recall']]\n",
       "fitness: np.float64(0.2393214748204738)\n",
       "keys: ['metrics/precision(B)', 'metrics/recall(B)', 'metrics/mAP50(B)', 'metrics/mAP50-95(B)']\n",
       "maps: array([    0.21098])\n",
       "names: {0: 'D40'}\n",
       "plot: True\n",
       "results_dict: {'metrics/precision(B)': np.float64(0.5966767500606732), 'metrics/recall(B)': np.float64(0.45057471264367815), 'metrics/mAP50(B)': np.float64(0.4943853433841827), 'metrics/mAP50-95(B)': np.float64(0.2109810449800617), 'fitness': np.float64(0.2393214748204738)}\n",
       "save_dir: WindowsPath('d:/Pothole Vision - AI Road Damage Detection/runs/detect/yolov8n-D402')\n",
       "speed: {'preprocess': 0.2068721991648695, 'inference': 2.823708298756941, 'loss': 0.0003543568527172055, 'postprocess': 0.950304702625996}\n",
       "task: 'detect'"
      ]
     },
     "execution_count": 1,
     "metadata": {},
     "output_type": "execute_result"
    }
   ],
   "source": [
    "from ultralytics import YOLO\n",
    "\n",
    "model = YOLO(\"yolov8n.pt\")  # Bisa ganti ke yolov8s.pt, yolov8m.pt, dll\n",
    "\n",
    "model.train(\n",
    "    data=\"yolo.yaml\",\n",
    "    epochs=20,\n",
    "    imgsz=640,\n",
    "    batch=16,\n",
    "    name=\"yolov8n-D40\",\n",
    "    device=0\n",
    ")"
   ]
  },
  {
   "cell_type": "code",
   "execution_count": null,
   "metadata": {},
   "outputs": [],
   "source": [
    "metrics = model.val()  # evaluasi otomatis pada validation set yang didefinisikan di data.yaml\n",
    "print(metrics)  # lihat summary"
   ]
  },
  {
   "cell_type": "code",
   "execution_count": null,
   "metadata": {},
   "outputs": [],
   "source": [
    "# Jalankan evaluasi model\n",
    "metrics = model.val()  # TANPA confusion=True\n",
    "\n",
    "# Ambil confusion matrix (jika tersedia)\n",
    "if hasattr(metrics, \"confusion_matrix\"):\n",
    "    cm = metrics.confusion_matrix  # numpy array\n",
    "    print(\"Confusion matrix:\\n\", cm)\n",
    "else:\n",
    "    print(\"Confusion matrix tidak tersedia di metrics.\")"
   ]
  },
  {
   "cell_type": "code",
   "execution_count": null,
   "metadata": {},
   "outputs": [],
   "source": [
    "%matplotlib inline\n",
    "import matplotlib.pyplot as plt\n",
    "import seaborn as sns\n",
    "import numpy as np\n",
    "\n",
    "cm_matrix = cm.matrix  # Ambil array 2D dari ConfusionMatrix\n",
    "classes = model.names  # Misalnya: ['D40']\n",
    "\n",
    "plt.figure(figsize=(6, 5))\n",
    "sns.heatmap(cm_matrix, annot=True, fmt='.0f', xticklabels=classes, yticklabels=classes, cmap='Blues')\n",
    "plt.xlabel('Predicted')\n",
    "plt.ylabel('Actual')\n",
    "plt.title('Confusion Matrix')\n",
    "plt.show()"
   ]
  },
  {
   "cell_type": "code",
   "execution_count": null,
   "metadata": {},
   "outputs": [],
   "source": [
    "import matplotlib.pyplot as plt\n",
    "import matplotlib.image as mpimg\n",
    "\n",
    "image_extensions = ['.jpg', '.jpeg', '.png']\n",
    "\n",
    "for root, dirs, files in os.walk(target_dir):\n",
    "    for file in files:\n",
    "        if os.path.splitext(file)[1].lower() in image_extensions:\n",
    "            path = os.path.join(root, file)\n",
    "            print(f\"🖼 Menampilkan: {file}\")\n",
    "            img = mpimg.imread(path)\n",
    "            plt.figure(figsize=(6, 4))\n",
    "            plt.imshow(img)\n",
    "            plt.title(file)\n",
    "            plt.axis('off')\n",
    "            plt.show()"
   ]
  },
  {
   "cell_type": "code",
   "execution_count": null,
   "metadata": {},
   "outputs": [],
   "source": [
    "mp = metrics.box.mp    # mean precision (float)\n",
    "mr = metrics.box.mr    # mean recall (float)\n",
    "map50 = metrics.box.map50  # mAP@0.5 (float)\n",
    "map5095 = metrics.box.map    # mAP@0.5:0.95 (float)\n",
    "f1_scores = metrics.box.f1  # list F1 score per kelas\n",
    "mean_f1 = sum(f1_scores) / len(f1_scores) if f1_scores else 0\n",
    "\n",
    "print(f\"Precision (mean): {mp:.4f}\")\n",
    "print(f\"Recall (mean): {mr:.4f}\")\n",
    "print(f\"mAP@0.5: {map50:.4f}\")\n",
    "print(f\"mAP@0.5:0.95: {map5095:.4f}\")\n",
    "print(f\"F1-score (mean): {mean_f1:.4f}\")"
   ]
  },
  {
   "cell_type": "code",
   "execution_count": null,
   "metadata": {},
   "outputs": [],
   "source": [
    "from ultralytics import YOLO\n",
    "import cv2\n",
    "import matplotlib.pyplot as plt\n",
    "\n",
    "# Load model yang sudah kamu train\n",
    "model = YOLO('yolov8n.pt')  # sesuaikan path model terbaikmu\n",
    "\n",
    "# Fungsi untuk load gambar dari file input (misal file dialog atau path file langsung)\n",
    "def predict_from_file(image_path):\n",
    "    img = cv2.imread(image_path)\n",
    "    # Resize lebih kecil agar lebih cepat\n",
    "    img = cv2.resize(img, (640, 640))\n",
    "    img_rgb = cv2.cvtColor(img, cv2.COLOR_BGR2RGB)\n",
    "    \n",
    "    results = model(img_rgb)\n",
    "    \n",
    "    result_img = results[0].plot()\n",
    "    plt.figure(figsize=(10, 8))\n",
    "    plt.imshow(result_img)\n",
    "    plt.axis('off')\n",
    "    plt.show()\n",
    "\n",
    "\n",
    "# Contoh panggil fungsi dengan file input gambar\n",
    "predict_from_file(\"dataset-mix/train/images/United_States_000068.jpg\")"
   ]
  }
 ],
 "metadata": {
  "kernelspec": {
   "display_name": ".venv",
   "language": "python",
   "name": "python3"
  },
  "language_info": {
   "codemirror_mode": {
    "name": "ipython",
    "version": 3
   },
   "file_extension": ".py",
   "mimetype": "text/x-python",
   "name": "python",
   "nbconvert_exporter": "python",
   "pygments_lexer": "ipython3",
   "version": "3.10.9"
  }
 },
 "nbformat": 4,
 "nbformat_minor": 2
}
